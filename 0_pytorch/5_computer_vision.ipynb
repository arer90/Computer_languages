{
 "cells": [
  {
   "cell_type": "markdown",
   "metadata": {},
   "source": [
    "### 5.1. Computer Vision\n",
    "* RGB -> (Red, Green, Blue)  \n",
    "* Torchvision, torchaudio, torchtext, torchData, etc\n",
    "    1. ['torchvision'] - base domain library for pytorch computer vision\n",
    "    2. 'torchvision.datasets' - get datasets and data loading function for computer vision\n",
    "    3. 'torchvision.transform' - function for manipulating your vision data (images) to be suitable for use with an ML model\n",
    "    4. 'torch.utils.data.Dataset' - base dataset class for pytorch\n",
    "    5. 'torch.utils.data.DataLoader' - create a python iterable over a dataset"
   ]
  },
  {
   "cell_type": "code",
   "execution_count": 88,
   "metadata": {},
   "outputs": [
    {
     "name": "stdout",
     "output_type": "stream",
     "text": [
      "2.1.2+cu121\n",
      "0.16.2+cu121\n"
     ]
    }
   ],
   "source": [
    "#Pytorch\n",
    "import torch\n",
    "from torch import nn\n",
    "\n",
    "# torchvision\n",
    "import torchvision\n",
    "from torchvision import datasets\n",
    "from torchvision.transforms import ToTensor # Convert a PIL image or numpy.ndarray to Tensor\n",
    "\n",
    "# Extra\n",
    "import pandas as pd\n",
    "import numpy as np\n",
    "import matplotlib.pyplot as plt\n",
    "\n",
    "# Version\n",
    "print(torch.__version__)\n",
    "print(torchvision.__version__)"
   ]
  },
  {
   "cell_type": "markdown",
   "metadata": {},
   "source": [
    "### 5.2. get the FashionMNIST dataset"
   ]
  },
  {
   "cell_type": "code",
   "execution_count": 89,
   "metadata": {},
   "outputs": [
    {
     "name": "stdout",
     "output_type": "stream",
     "text": [
      "Downloading http://fashion-mnist.s3-website.eu-central-1.amazonaws.com/train-images-idx3-ubyte.gz\n"
     ]
    },
    {
     "name": "stdout",
     "output_type": "stream",
     "text": [
      "Downloading http://fashion-mnist.s3-website.eu-central-1.amazonaws.com/train-images-idx3-ubyte.gz to data\\FashionMNIST\\raw\\train-images-idx3-ubyte.gz\n"
     ]
    },
    {
     "name": "stderr",
     "output_type": "stream",
     "text": [
      "100%|██████████| 26421880/26421880 [00:06<00:00, 3962538.25it/s]\n"
     ]
    },
    {
     "name": "stdout",
     "output_type": "stream",
     "text": [
      "Extracting data\\FashionMNIST\\raw\\train-images-idx3-ubyte.gz to data\\FashionMNIST\\raw\n",
      "\n",
      "Downloading http://fashion-mnist.s3-website.eu-central-1.amazonaws.com/train-labels-idx1-ubyte.gz\n",
      "Downloading http://fashion-mnist.s3-website.eu-central-1.amazonaws.com/train-labels-idx1-ubyte.gz to data\\FashionMNIST\\raw\\train-labels-idx1-ubyte.gz\n"
     ]
    },
    {
     "name": "stderr",
     "output_type": "stream",
     "text": [
      "100%|██████████| 29515/29515 [00:00<00:00, 105945.86it/s]\n"
     ]
    },
    {
     "name": "stdout",
     "output_type": "stream",
     "text": [
      "Extracting data\\FashionMNIST\\raw\\train-labels-idx1-ubyte.gz to data\\FashionMNIST\\raw\n",
      "\n",
      "Downloading http://fashion-mnist.s3-website.eu-central-1.amazonaws.com/t10k-images-idx3-ubyte.gz\n",
      "Downloading http://fashion-mnist.s3-website.eu-central-1.amazonaws.com/t10k-images-idx3-ubyte.gz to data\\FashionMNIST\\raw\\t10k-images-idx3-ubyte.gz\n"
     ]
    },
    {
     "name": "stderr",
     "output_type": "stream",
     "text": [
      "100%|██████████| 4422102/4422102 [00:02<00:00, 1497148.04it/s]\n"
     ]
    },
    {
     "name": "stdout",
     "output_type": "stream",
     "text": [
      "Extracting data\\FashionMNIST\\raw\\t10k-images-idx3-ubyte.gz to data\\FashionMNIST\\raw\n",
      "\n",
      "Downloading http://fashion-mnist.s3-website.eu-central-1.amazonaws.com/t10k-labels-idx1-ubyte.gz\n",
      "Downloading http://fashion-mnist.s3-website.eu-central-1.amazonaws.com/t10k-labels-idx1-ubyte.gz to data\\FashionMNIST\\raw\\t10k-labels-idx1-ubyte.gz\n"
     ]
    },
    {
     "name": "stderr",
     "output_type": "stream",
     "text": [
      "100%|██████████| 5148/5148 [00:00<?, ?it/s]"
     ]
    },
    {
     "name": "stdout",
     "output_type": "stream",
     "text": [
      "Extracting data\\FashionMNIST\\raw\\t10k-labels-idx1-ubyte.gz to data\\FashionMNIST\\raw\n",
      "\n"
     ]
    },
    {
     "name": "stderr",
     "output_type": "stream",
     "text": [
      "\n"
     ]
    }
   ],
   "source": [
    "# Getting a dataset\n",
    "from torchvision import datasets\n",
    "train_data = datasets.FashionMNIST(\n",
    "    root='data', # where to download data do?\n",
    "    train=True, # do we want the training dataset?\n",
    "    download=True, # do we want to download yes/no?\n",
    "    transform=torchvision.transforms.ToTensor(), # how do we want to transform the data?\n",
    "    target_transform=None # how do we want to transform the labels/targets?\n",
    ")\n",
    "\n",
    "test_data = datasets.FashionMNIST(\n",
    "    root='data',\n",
    "    train=False,\n",
    "    download=True,\n",
    "    transform=torchvision.transforms.ToTensor(),\n",
    "    target_transform=None # \n",
    ")"
   ]
  },
  {
   "cell_type": "code",
   "execution_count": 90,
   "metadata": {},
   "outputs": [
    {
     "data": {
      "text/plain": [
       "(60000, 10000)"
      ]
     },
     "execution_count": 90,
     "metadata": {},
     "output_type": "execute_result"
    }
   ],
   "source": [
    "len(train_data), len(test_data)"
   ]
  },
  {
   "cell_type": "code",
   "execution_count": 91,
   "metadata": {},
   "outputs": [
    {
     "data": {
      "text/plain": [
       "(tensor([[[0.0000, 0.0000, 0.0000, 0.0000, 0.0000, 0.0000, 0.0000, 0.0000,\n",
       "           0.0000, 0.0000, 0.0000, 0.0000, 0.0000, 0.0000, 0.0000, 0.0000,\n",
       "           0.0000, 0.0000, 0.0000, 0.0000, 0.0000, 0.0000, 0.0000, 0.0000,\n",
       "           0.0000, 0.0000, 0.0000, 0.0000],\n",
       "          [0.0000, 0.0000, 0.0000, 0.0000, 0.0000, 0.0000, 0.0000, 0.0000,\n",
       "           0.0000, 0.0000, 0.0000, 0.0000, 0.0000, 0.0000, 0.0000, 0.0000,\n",
       "           0.0000, 0.0000, 0.0000, 0.0000, 0.0000, 0.0000, 0.0000, 0.0000,\n",
       "           0.0000, 0.0000, 0.0000, 0.0000],\n",
       "          [0.0000, 0.0000, 0.0000, 0.0000, 0.0000, 0.0000, 0.0000, 0.0000,\n",
       "           0.0000, 0.0000, 0.0000, 0.0000, 0.0000, 0.0000, 0.0000, 0.0000,\n",
       "           0.0000, 0.0000, 0.0000, 0.0000, 0.0000, 0.0000, 0.0000, 0.0000,\n",
       "           0.0000, 0.0000, 0.0000, 0.0000],\n",
       "          [0.0000, 0.0000, 0.0000, 0.0000, 0.0000, 0.0000, 0.0000, 0.0000,\n",
       "           0.0000, 0.0000, 0.0000, 0.0000, 0.0039, 0.0000, 0.0000, 0.0510,\n",
       "           0.2863, 0.0000, 0.0000, 0.0039, 0.0157, 0.0000, 0.0000, 0.0000,\n",
       "           0.0000, 0.0039, 0.0039, 0.0000],\n",
       "          [0.0000, 0.0000, 0.0000, 0.0000, 0.0000, 0.0000, 0.0000, 0.0000,\n",
       "           0.0000, 0.0000, 0.0000, 0.0000, 0.0118, 0.0000, 0.1412, 0.5333,\n",
       "           0.4980, 0.2431, 0.2118, 0.0000, 0.0000, 0.0000, 0.0039, 0.0118,\n",
       "           0.0157, 0.0000, 0.0000, 0.0118],\n",
       "          [0.0000, 0.0000, 0.0000, 0.0000, 0.0000, 0.0000, 0.0000, 0.0000,\n",
       "           0.0000, 0.0000, 0.0000, 0.0000, 0.0235, 0.0000, 0.4000, 0.8000,\n",
       "           0.6902, 0.5255, 0.5647, 0.4824, 0.0902, 0.0000, 0.0000, 0.0000,\n",
       "           0.0000, 0.0471, 0.0392, 0.0000],\n",
       "          [0.0000, 0.0000, 0.0000, 0.0000, 0.0000, 0.0000, 0.0000, 0.0000,\n",
       "           0.0000, 0.0000, 0.0000, 0.0000, 0.0000, 0.0000, 0.6078, 0.9255,\n",
       "           0.8118, 0.6980, 0.4196, 0.6118, 0.6314, 0.4275, 0.2510, 0.0902,\n",
       "           0.3020, 0.5098, 0.2824, 0.0588],\n",
       "          [0.0000, 0.0000, 0.0000, 0.0000, 0.0000, 0.0000, 0.0000, 0.0000,\n",
       "           0.0000, 0.0000, 0.0000, 0.0039, 0.0000, 0.2706, 0.8118, 0.8745,\n",
       "           0.8549, 0.8471, 0.8471, 0.6392, 0.4980, 0.4745, 0.4784, 0.5725,\n",
       "           0.5529, 0.3451, 0.6745, 0.2588],\n",
       "          [0.0000, 0.0000, 0.0000, 0.0000, 0.0000, 0.0000, 0.0000, 0.0000,\n",
       "           0.0000, 0.0039, 0.0039, 0.0039, 0.0000, 0.7843, 0.9098, 0.9098,\n",
       "           0.9137, 0.8980, 0.8745, 0.8745, 0.8431, 0.8353, 0.6431, 0.4980,\n",
       "           0.4824, 0.7686, 0.8980, 0.0000],\n",
       "          [0.0000, 0.0000, 0.0000, 0.0000, 0.0000, 0.0000, 0.0000, 0.0000,\n",
       "           0.0000, 0.0000, 0.0000, 0.0000, 0.0000, 0.7176, 0.8824, 0.8471,\n",
       "           0.8745, 0.8941, 0.9216, 0.8902, 0.8784, 0.8706, 0.8784, 0.8667,\n",
       "           0.8745, 0.9608, 0.6784, 0.0000],\n",
       "          [0.0000, 0.0000, 0.0000, 0.0000, 0.0000, 0.0000, 0.0000, 0.0000,\n",
       "           0.0000, 0.0000, 0.0000, 0.0000, 0.0000, 0.7569, 0.8941, 0.8549,\n",
       "           0.8353, 0.7765, 0.7059, 0.8314, 0.8235, 0.8275, 0.8353, 0.8745,\n",
       "           0.8627, 0.9529, 0.7922, 0.0000],\n",
       "          [0.0000, 0.0000, 0.0000, 0.0000, 0.0000, 0.0000, 0.0000, 0.0000,\n",
       "           0.0000, 0.0039, 0.0118, 0.0000, 0.0471, 0.8588, 0.8627, 0.8314,\n",
       "           0.8549, 0.7529, 0.6627, 0.8902, 0.8157, 0.8549, 0.8784, 0.8314,\n",
       "           0.8863, 0.7725, 0.8196, 0.2039],\n",
       "          [0.0000, 0.0000, 0.0000, 0.0000, 0.0000, 0.0000, 0.0000, 0.0000,\n",
       "           0.0000, 0.0000, 0.0235, 0.0000, 0.3882, 0.9569, 0.8706, 0.8627,\n",
       "           0.8549, 0.7961, 0.7765, 0.8667, 0.8431, 0.8353, 0.8706, 0.8627,\n",
       "           0.9608, 0.4667, 0.6549, 0.2196],\n",
       "          [0.0000, 0.0000, 0.0000, 0.0000, 0.0000, 0.0000, 0.0000, 0.0000,\n",
       "           0.0000, 0.0157, 0.0000, 0.0000, 0.2157, 0.9255, 0.8941, 0.9020,\n",
       "           0.8941, 0.9412, 0.9098, 0.8353, 0.8549, 0.8745, 0.9176, 0.8510,\n",
       "           0.8510, 0.8196, 0.3608, 0.0000],\n",
       "          [0.0000, 0.0000, 0.0039, 0.0157, 0.0235, 0.0275, 0.0078, 0.0000,\n",
       "           0.0000, 0.0000, 0.0000, 0.0000, 0.9294, 0.8863, 0.8510, 0.8745,\n",
       "           0.8706, 0.8588, 0.8706, 0.8667, 0.8471, 0.8745, 0.8980, 0.8431,\n",
       "           0.8549, 1.0000, 0.3020, 0.0000],\n",
       "          [0.0000, 0.0118, 0.0000, 0.0000, 0.0000, 0.0000, 0.0000, 0.0000,\n",
       "           0.0000, 0.2431, 0.5686, 0.8000, 0.8941, 0.8118, 0.8353, 0.8667,\n",
       "           0.8549, 0.8157, 0.8275, 0.8549, 0.8784, 0.8745, 0.8588, 0.8431,\n",
       "           0.8784, 0.9569, 0.6235, 0.0000],\n",
       "          [0.0000, 0.0000, 0.0000, 0.0000, 0.0706, 0.1725, 0.3216, 0.4196,\n",
       "           0.7412, 0.8941, 0.8627, 0.8706, 0.8510, 0.8863, 0.7843, 0.8039,\n",
       "           0.8275, 0.9020, 0.8784, 0.9176, 0.6902, 0.7373, 0.9804, 0.9725,\n",
       "           0.9137, 0.9333, 0.8431, 0.0000],\n",
       "          [0.0000, 0.2235, 0.7333, 0.8157, 0.8784, 0.8667, 0.8784, 0.8157,\n",
       "           0.8000, 0.8392, 0.8157, 0.8196, 0.7843, 0.6235, 0.9608, 0.7569,\n",
       "           0.8078, 0.8745, 1.0000, 1.0000, 0.8667, 0.9176, 0.8667, 0.8275,\n",
       "           0.8627, 0.9098, 0.9647, 0.0000],\n",
       "          [0.0118, 0.7922, 0.8941, 0.8784, 0.8667, 0.8275, 0.8275, 0.8392,\n",
       "           0.8039, 0.8039, 0.8039, 0.8627, 0.9412, 0.3137, 0.5882, 1.0000,\n",
       "           0.8980, 0.8667, 0.7373, 0.6039, 0.7490, 0.8235, 0.8000, 0.8196,\n",
       "           0.8706, 0.8941, 0.8824, 0.0000],\n",
       "          [0.3843, 0.9137, 0.7765, 0.8235, 0.8706, 0.8980, 0.8980, 0.9176,\n",
       "           0.9765, 0.8627, 0.7608, 0.8431, 0.8510, 0.9451, 0.2549, 0.2863,\n",
       "           0.4157, 0.4588, 0.6588, 0.8588, 0.8667, 0.8431, 0.8510, 0.8745,\n",
       "           0.8745, 0.8784, 0.8980, 0.1137],\n",
       "          [0.2941, 0.8000, 0.8314, 0.8000, 0.7569, 0.8039, 0.8275, 0.8824,\n",
       "           0.8471, 0.7255, 0.7725, 0.8078, 0.7765, 0.8353, 0.9412, 0.7647,\n",
       "           0.8902, 0.9608, 0.9373, 0.8745, 0.8549, 0.8314, 0.8196, 0.8706,\n",
       "           0.8627, 0.8667, 0.9020, 0.2627],\n",
       "          [0.1882, 0.7961, 0.7176, 0.7608, 0.8353, 0.7725, 0.7255, 0.7451,\n",
       "           0.7608, 0.7529, 0.7922, 0.8392, 0.8588, 0.8667, 0.8627, 0.9255,\n",
       "           0.8824, 0.8471, 0.7804, 0.8078, 0.7294, 0.7098, 0.6941, 0.6745,\n",
       "           0.7098, 0.8039, 0.8078, 0.4510],\n",
       "          [0.0000, 0.4784, 0.8588, 0.7569, 0.7020, 0.6706, 0.7176, 0.7686,\n",
       "           0.8000, 0.8235, 0.8353, 0.8118, 0.8275, 0.8235, 0.7843, 0.7686,\n",
       "           0.7608, 0.7490, 0.7647, 0.7490, 0.7765, 0.7529, 0.6902, 0.6118,\n",
       "           0.6549, 0.6941, 0.8235, 0.3608],\n",
       "          [0.0000, 0.0000, 0.2902, 0.7412, 0.8314, 0.7490, 0.6863, 0.6745,\n",
       "           0.6863, 0.7098, 0.7255, 0.7373, 0.7412, 0.7373, 0.7569, 0.7765,\n",
       "           0.8000, 0.8196, 0.8235, 0.8235, 0.8275, 0.7373, 0.7373, 0.7608,\n",
       "           0.7529, 0.8471, 0.6667, 0.0000],\n",
       "          [0.0078, 0.0000, 0.0000, 0.0000, 0.2588, 0.7843, 0.8706, 0.9294,\n",
       "           0.9373, 0.9490, 0.9647, 0.9529, 0.9569, 0.8667, 0.8627, 0.7569,\n",
       "           0.7490, 0.7020, 0.7137, 0.7137, 0.7098, 0.6902, 0.6510, 0.6588,\n",
       "           0.3882, 0.2275, 0.0000, 0.0000],\n",
       "          [0.0000, 0.0000, 0.0000, 0.0000, 0.0000, 0.0000, 0.0000, 0.1569,\n",
       "           0.2392, 0.1725, 0.2824, 0.1608, 0.1373, 0.0000, 0.0000, 0.0000,\n",
       "           0.0000, 0.0000, 0.0000, 0.0000, 0.0000, 0.0000, 0.0000, 0.0000,\n",
       "           0.0000, 0.0000, 0.0000, 0.0000],\n",
       "          [0.0000, 0.0000, 0.0000, 0.0000, 0.0000, 0.0000, 0.0000, 0.0000,\n",
       "           0.0000, 0.0000, 0.0000, 0.0000, 0.0000, 0.0000, 0.0000, 0.0000,\n",
       "           0.0000, 0.0000, 0.0000, 0.0000, 0.0000, 0.0000, 0.0000, 0.0000,\n",
       "           0.0000, 0.0000, 0.0000, 0.0000],\n",
       "          [0.0000, 0.0000, 0.0000, 0.0000, 0.0000, 0.0000, 0.0000, 0.0000,\n",
       "           0.0000, 0.0000, 0.0000, 0.0000, 0.0000, 0.0000, 0.0000, 0.0000,\n",
       "           0.0000, 0.0000, 0.0000, 0.0000, 0.0000, 0.0000, 0.0000, 0.0000,\n",
       "           0.0000, 0.0000, 0.0000, 0.0000]]]),\n",
       " 9)"
      ]
     },
     "execution_count": 91,
     "metadata": {},
     "output_type": "execute_result"
    }
   ],
   "source": [
    "# See the first train data \n",
    "# [images(0~225) -> (C x H X W)] - channel, height, width\n",
    "image, label = train_data[0]\n",
    "image, label"
   ]
  },
  {
   "cell_type": "code",
   "execution_count": 92,
   "metadata": {},
   "outputs": [
    {
     "data": {
      "text/plain": [
       "['T-shirt/top',\n",
       " 'Trouser',\n",
       " 'Pullover',\n",
       " 'Dress',\n",
       " 'Coat',\n",
       " 'Sandal',\n",
       " 'Shirt',\n",
       " 'Sneaker',\n",
       " 'Bag',\n",
       " 'Ankle boot']"
      ]
     },
     "execution_count": 92,
     "metadata": {},
     "output_type": "execute_result"
    }
   ],
   "source": [
    "class_names =train_data.classes\n",
    "class_names"
   ]
  },
  {
   "cell_type": "code",
   "execution_count": 93,
   "metadata": {},
   "outputs": [
    {
     "data": {
      "text/plain": [
       "{'T-shirt/top': 0,\n",
       " 'Trouser': 1,\n",
       " 'Pullover': 2,\n",
       " 'Dress': 3,\n",
       " 'Coat': 4,\n",
       " 'Sandal': 5,\n",
       " 'Shirt': 6,\n",
       " 'Sneaker': 7,\n",
       " 'Bag': 8,\n",
       " 'Ankle boot': 9}"
      ]
     },
     "execution_count": 93,
     "metadata": {},
     "output_type": "execute_result"
    }
   ],
   "source": [
    "class_to_idx = train_data.class_to_idx\n",
    "class_to_idx"
   ]
  },
  {
   "cell_type": "code",
   "execution_count": 94,
   "metadata": {},
   "outputs": [
    {
     "data": {
      "text/plain": [
       "tensor([9, 0, 0,  ..., 3, 0, 5])"
      ]
     },
     "execution_count": 94,
     "metadata": {},
     "output_type": "execute_result"
    }
   ],
   "source": [
    "train_data.targets"
   ]
  },
  {
   "cell_type": "code",
   "execution_count": 95,
   "metadata": {},
   "outputs": [
    {
     "name": "stdout",
     "output_type": "stream",
     "text": [
      "Image shape : torch.Size([1, 28, 28]) -> ([Color channel, height, width])\n",
      "Image label : Ankle boot\n"
     ]
    }
   ],
   "source": [
    "# Check the shape\n",
    "print(f'Image shape : {image.shape} -> ([Color channel, height, width])')\n",
    "print(f'Image label : {class_names[label]}')\n"
   ]
  },
  {
   "cell_type": "code",
   "execution_count": 96,
   "metadata": {},
   "outputs": [
    {
     "name": "stdout",
     "output_type": "stream",
     "text": [
      "Image shape: torch.Size([1, 28, 28])\n"
     ]
    },
    {
     "data": {
      "image/png": "[encoded data removed]",
      "text/plain": [
       "<Figure size 640x480 with 1 Axes>"
      ]
     },
     "metadata": {},
     "output_type": "display_data"
    }
   ],
   "source": [
    "# Visualize data\n",
    "import matplotlib.pyplot as plt\n",
    "image, label = train_data[0]\n",
    "print(f'Image shape: {image.shape}' )\n",
    "# plt.imshow(image) # Not working -> TypeError: Invalid shape (1, 28, 28) for image data\n",
    "plt.imshow(image.squeeze()) # image shape is [1,28,28] [color channels, height, width]\n",
    "plt.title(label);\n",
    "# image"
   ]
  },
  {
   "cell_type": "code",
   "execution_count": 97,
   "metadata": {},
   "outputs": [
    {
     "data": {
      "image/png": "[encoded data removed]",
      "text/plain": [
       "<Figure size 640x480 with 1 Axes>"
      ]
     },
     "metadata": {},
     "output_type": "display_data"
    }
   ],
   "source": [
    "plt.imshow(image.squeeze(), cmap=\"gray\") # image shape is [1,28,28] [color channels, height, width]\n",
    "plt.title(class_names[label]);\n",
    "plt.axis(False);"
   ]
  },
  {
   "cell_type": "code",
   "execution_count": 98,
   "metadata": {},
   "outputs": [
    {
     "data": {
      "image/png": "[encoded data removed]",
      "text/plain": [
       "<Figure size 640x480 with 16 Axes>"
      ]
     },
     "metadata": {},
     "output_type": "display_data"
    }
   ],
   "source": [
    "# Plot more images\n",
    "# torch.manual_seed(42)\n",
    "fig = plt.figure(figure=(9,9))\n",
    "rows, cols = 4,4\n",
    "for i in range(1, rows*cols+1):\n",
    "    # print(i)\n",
    "    random_idx = torch.randint(0, len(train_data), size=[1]).item()\n",
    "    # print(random_idx)\n",
    "    img, label = train_data[random_idx]\n",
    "    fig.add_subplot(rows, cols, i)\n",
    "    plt.imshow(img.squeeze(), cmap='gray')\n",
    "    plt.title(class_names[label])\n",
    "    plt.axis(False);"
   ]
  },
  {
   "cell_type": "markdown",
   "metadata": {},
   "source": [
    "### 5.3. Preparing Dataloader\n",
    "* DataLoader turns our datset into a python iterable\n",
    "More specifically, we want to turn our data into batches (or mini-batches).\n",
    "* why?\n",
    "    1. for more computationally efficient to memory by breaking it down to 32 images\n",
    "    2. gives our neural network more chances to update its gradients per epoch"
   ]
  },
  {
   "cell_type": "code",
   "execution_count": 99,
   "metadata": {},
   "outputs": [
    {
     "data": {
      "text/plain": [
       "(Dataset FashionMNIST\n",
       "     Number of datapoints: 60000\n",
       "     Root location: data\n",
       "     Split: Train\n",
       "     StandardTransform\n",
       " Transform: ToTensor(),\n",
       " Dataset FashionMNIST\n",
       "     Number of datapoints: 10000\n",
       "     Root location: data\n",
       "     Split: Test\n",
       "     StandardTransform\n",
       " Transform: ToTensor())"
      ]
     },
     "execution_count": 99,
     "metadata": {},
     "output_type": "execute_result"
    }
   ],
   "source": [
    "train_data, test_data"
   ]
  },
  {
   "cell_type": "code",
   "execution_count": 100,
   "metadata": {},
   "outputs": [],
   "source": [
    "from torch.utils.data import DataLoader\n",
    "\n",
    "# Setup the batch size hyperparameter\n",
    "BATCH_SIZE = 32\n",
    "\n",
    "# Turn datasets into iterables (batches)\n",
    "train_dataloader = DataLoader(dataset=train_data,\n",
    "                              batch_size=BATCH_SIZE,\n",
    "                              shuffle=True)\n",
    "test_dataloader = DataLoader(dataset=test_data,\n",
    "                              batch_size=BATCH_SIZE,\n",
    "                              shuffle=False)"
   ]
  },
  {
   "cell_type": "code",
   "execution_count": 101,
   "metadata": {},
   "outputs": [
    {
     "name": "stdout",
     "output_type": "stream",
     "text": [
      "DataLoaders: (<torch.utils.data.dataloader.DataLoader object at 0x000001A6970A8B90>, <torch.utils.data.dataloader.DataLoader object at 0x000001A696DA1D50>)\n",
      "Length of train DataLoaders: 1875 batches of 32\n",
      "Length of test DataLoaders: 313 batches of 32\n"
     ]
    }
   ],
   "source": [
    "# Let's check out what we've created\n",
    "print(f'DataLoaders: {train_dataloader, test_dataloader}')\n",
    "print(f'Length of train DataLoaders: {len(train_dataloader)} batches of {BATCH_SIZE}')\n",
    "print(f'Length of test DataLoaders: {len(test_dataloader)} batches of {BATCH_SIZE}')"
   ]
  },
  {
   "cell_type": "code",
   "execution_count": 102,
   "metadata": {},
   "outputs": [
    {
     "data": {
      "text/plain": [
       "(torch.Size([32, 1, 28, 28]), torch.Size([32]))"
      ]
     },
     "execution_count": 102,
     "metadata": {},
     "output_type": "execute_result"
    }
   ],
   "source": [
    "# Check out what's insdie the training dataloader\n",
    "'''\n",
    "image input shape like:\n",
    "[None, 28,28,1] -> None, Height, Width, Channel\n",
    "[None, 1,28,28] -> None, Channel, Height, Width, \n",
    "    or\n",
    "[32, 28,28,1] -> BatchSize, Height, Width, Channel\n",
    "'''\n",
    "train_features_batch, train_labels_batch = next(iter(train_dataloader))\n",
    "train_features_batch.shape, train_labels_batch.shape "
   ]
  },
  {
   "cell_type": "code",
   "execution_count": 103,
   "metadata": {},
   "outputs": [
    {
     "name": "stdout",
     "output_type": "stream",
     "text": [
      "Image size: torch.Size([1, 28, 28])\n",
      "Label : 1, label size: torch.Size([])\n"
     ]
    },
    {
     "data": {
      "image/png": "[encoded data removed]",
      "text/plain": [
       "<Figure size 640x480 with 1 Axes>"
      ]
     },
     "metadata": {},
     "output_type": "display_data"
    }
   ],
   "source": [
    "# Show a sample\n",
    "torch.manual_seed(42)\n",
    "random_idx = torch.randint(0, len(train_features_batch), size=[1]).item()\n",
    "img, label = train_features_batch[random_idx], train_labels_batch[random_idx]\n",
    "plt.imshow(img.squeeze(), cmap='gray')\n",
    "plt.title(class_names[label])\n",
    "plt.axis(False)\n",
    "print(f'Image size: {img.shape}')\n",
    "print(f'Label : {label}, label size: {label.shape}')"
   ]
  },
  {
   "cell_type": "markdown",
   "metadata": {},
   "source": [
    "### 5.4. Build the a baseline model"
   ]
  },
  {
   "cell_type": "code",
   "execution_count": 104,
   "metadata": {},
   "outputs": [
    {
     "name": "stdout",
     "output_type": "stream",
     "text": [
      "Shape before flattening: torch.Size([1, 28, 28])\n",
      "Shape after flattening: torch.Size([1, 784])\n"
     ]
    }
   ],
   "source": [
    "# Create a flatten layer\n",
    "flatten_model = nn.Flatten()\n",
    "\n",
    "# Get a single sample\n",
    "x = train_features_batch[0]\n",
    "# x.shape\n",
    "\n",
    "# Flatten the sample\n",
    "output = flatten_model(x)\n",
    "\n",
    "# Print\n",
    "print(f'Shape before flattening: {x.shape}') # -> [color channel, height, width]\n",
    "print(f'Shape after flattening: {output.shape}') # -> [color channel, height*width]"
   ]
  },
  {
   "cell_type": "code",
   "execution_count": 105,
   "metadata": {},
   "outputs": [],
   "source": [
    "from torch import nn\n",
    "class FashionMNISTModelV0(nn.Module):\n",
    "    def __init__(self,\n",
    "                 input_shape: int,\n",
    "                 hidden_units: int,\n",
    "                 output_shape: int\n",
    "                 ):\n",
    "        super().__init__()\n",
    "        self.layer_stack = nn.Sequential(\n",
    "            nn.Flatten(),\n",
    "            nn.Linear(in_features=input_shape, out_features=hidden_units),\n",
    "            nn.Linear(in_features=hidden_units, out_features=output_shape),\n",
    "        )\n",
    "    def forward(self, x):\n",
    "        return self.layer_stack(x)\n",
    "    "
   ]
  },
  {
   "cell_type": "code",
   "execution_count": 106,
   "metadata": {},
   "outputs": [
    {
     "data": {
      "text/plain": [
       "FashionMNISTModelV0(\n",
       "  (layer_stack): Sequential(\n",
       "    (0): Flatten(start_dim=1, end_dim=-1)\n",
       "    (1): Linear(in_features=784, out_features=10, bias=True)\n",
       "    (2): Linear(in_features=10, out_features=10, bias=True)\n",
       "  )\n",
       ")"
      ]
     },
     "execution_count": 106,
     "metadata": {},
     "output_type": "execute_result"
    }
   ],
   "source": [
    "torch.manual_seed(42)\n",
    "torch.cuda.manual_seed(42)\n",
    "\n",
    "# setup model with input parameters\n",
    "model_cv0 = FashionMNISTModelV0(\n",
    "    input_shape=784, # or '28*28' because 28*28 = 784\n",
    "    hidden_units=10, # how many units\n",
    "    output_shape=len(class_names) # one for every class\n",
    ").to('cpu')\n",
    "\n",
    "model_cv0"
   ]
  },
  {
   "cell_type": "code",
   "execution_count": 107,
   "metadata": {},
   "outputs": [
    {
     "data": {
      "text/plain": [
       "tensor([[-0.0315,  0.3171,  0.0531, -0.2525,  0.5959,  0.2112,  0.3233,  0.2694,\n",
       "         -0.1004,  0.0157]], grad_fn=<AddmmBackward0>)"
      ]
     },
     "execution_count": 107,
     "metadata": {},
     "output_type": "execute_result"
    }
   ],
   "source": [
    "# Check the model\n",
    "dummy_x = torch.rand([1,1,28,28])\n",
    "model_cv0(dummy_x)"
   ]
  },
  {
   "cell_type": "code",
   "execution_count": 108,
   "metadata": {},
   "outputs": [
    {
     "data": {
      "text/plain": [
       "OrderedDict([('layer_stack.1.weight',\n",
       "              tensor([[ 0.0273,  0.0296, -0.0084,  ..., -0.0142,  0.0093,  0.0135],\n",
       "                      [-0.0188, -0.0354,  0.0187,  ..., -0.0106, -0.0001,  0.0115],\n",
       "                      [-0.0008,  0.0017,  0.0045,  ..., -0.0127, -0.0188,  0.0059],\n",
       "                      ...,\n",
       "                      [-0.0116,  0.0273, -0.0344,  ...,  0.0176,  0.0283, -0.0011],\n",
       "                      [-0.0230,  0.0257,  0.0291,  ..., -0.0187, -0.0087,  0.0001],\n",
       "                      [ 0.0176, -0.0147,  0.0053,  ..., -0.0336, -0.0221,  0.0205]])),\n",
       "             ('layer_stack.1.bias',\n",
       "              tensor([-0.0093,  0.0283, -0.0033,  0.0255,  0.0017,  0.0037, -0.0302, -0.0123,\n",
       "                       0.0018,  0.0163])),\n",
       "             ('layer_stack.2.weight',\n",
       "              tensor([[ 0.0614, -0.0687,  0.0021,  0.2718,  0.2109,  0.1079, -0.2279, -0.1063,\n",
       "                        0.2019,  0.2847],\n",
       "                      [-0.1495,  0.1344, -0.0740,  0.2006, -0.0475, -0.2514, -0.3130, -0.0118,\n",
       "                        0.0932, -0.1864],\n",
       "                      [ 0.2488,  0.1500,  0.1907,  0.1457, -0.3050, -0.0580,  0.1643,  0.1565,\n",
       "                       -0.2877, -0.1792],\n",
       "                      [ 0.2305, -0.2618,  0.2397, -0.0610,  0.0232,  0.1542,  0.0851, -0.2027,\n",
       "                        0.1030, -0.2715],\n",
       "                      [-0.1596, -0.0555, -0.0633,  0.2302, -0.1726,  0.2654,  0.1473,  0.1029,\n",
       "                        0.2252, -0.2160],\n",
       "                      [-0.2725,  0.0118,  0.1559,  0.1596,  0.0132,  0.3024,  0.1124,  0.1366,\n",
       "                       -0.1533,  0.0965],\n",
       "                      [-0.1184, -0.2555, -0.2057, -0.1909, -0.0477, -0.1324,  0.2905,  0.1307,\n",
       "                       -0.2629,  0.0133],\n",
       "                      [ 0.2727, -0.0127,  0.0513,  0.0863, -0.1043, -0.2047, -0.1185, -0.0825,\n",
       "                        0.2488, -0.2571],\n",
       "                      [ 0.0425, -0.1209, -0.0336, -0.0281, -0.1227,  0.0730,  0.0747, -0.1816,\n",
       "                        0.1943,  0.2853],\n",
       "                      [-0.1310,  0.0645, -0.1171,  0.2168, -0.0245, -0.2820,  0.0736,  0.2621,\n",
       "                        0.0012, -0.0810]])),\n",
       "             ('layer_stack.2.bias',\n",
       "              tensor([-0.0087,  0.1791,  0.2712, -0.0791,  0.1685,  0.1762,  0.2825,  0.2266,\n",
       "                      -0.2612, -0.2613]))])"
      ]
     },
     "execution_count": 108,
     "metadata": {},
     "output_type": "execute_result"
    }
   ],
   "source": [
    "model_cv0.state_dict()"
   ]
  },
  {
   "cell_type": "markdown",
   "metadata": {},
   "source": [
    "### 5.5. Build the a baseline model\n",
    "* Loss function - crossentropy()\n",
    "* optimizer - SGD()\n",
    "* metric - accuracy()"
   ]
  },
  {
   "cell_type": "code",
   "execution_count": 109,
   "metadata": {},
   "outputs": [
    {
     "name": "stdout",
     "output_type": "stream",
     "text": [
      "helper_functions.py already exist...\n"
     ]
    }
   ],
   "source": [
    "import requests\n",
    "from pathlib import Path\n",
    "\n",
    "if Path(\"helper_functions.py\").is_file():\n",
    "    print('helper_functions.py already exist...')\n",
    "else:\n",
    "    print('Downloading helper_functions.py')\n",
    "    request = requests.get('https://raw.githubusercontent.com/mrdbourke/pytorch-deep-learning/main/helper_functions.py')\n",
    "    with open('helper_functions.py', 'wb') as f:\n",
    "        f.write(request.content)\n",
    "    "
   ]
  },
  {
   "cell_type": "code",
   "execution_count": 110,
   "metadata": {},
   "outputs": [],
   "source": [
    "# Import accuracy metric\n",
    "from helper_functions import accuracy_fn\n",
    "\n",
    "# Setup loss and optimizer\n",
    "loss_fn = nn.CrossEntropyLoss()\n",
    "\n",
    "optimizer = torch.optim.SGD(params=model_cv0.parameters(),\n",
    "                            lr=0.1)"
   ]
  },
  {
   "cell_type": "markdown",
   "metadata": {},
   "source": [
    "### 5.6. Creating a function to time our experiments\n",
    "\n",
    "1. Model's performance (loss and accuracy)\n",
    "2. How fast is runs"
   ]
  },
  {
   "cell_type": "code",
   "execution_count": 111,
   "metadata": {},
   "outputs": [],
   "source": [
    "from timeit import default_timer as timer\n",
    "def print_train_time(start:float,\n",
    "                     end: float,\n",
    "                     device: torch.device=None):\n",
    "    '''Prints difference between start and end time'''\n",
    "    total_time = end-start\n",
    "    print(f'Train time on {device}: {total_time:.3f} seconds')\n",
    "    return total_time   "
   ]
  },
  {
   "cell_type": "code",
   "execution_count": 112,
   "metadata": {},
   "outputs": [
    {
     "name": "stdout",
     "output_type": "stream",
     "text": [
      "Train time on cpu: 0.000 seconds\n"
     ]
    },
    {
     "data": {
      "text/plain": [
       "2.239999594166875e-05"
      ]
     },
     "execution_count": 112,
     "metadata": {},
     "output_type": "execute_result"
    }
   ],
   "source": [
    "start_time = timer()\n",
    "# some code\n",
    "end_time = timer()\n",
    "print_train_time(start=start_time, end=end_time, device='cpu')"
   ]
  },
  {
   "cell_type": "markdown",
   "metadata": {},
   "source": [
    "### 5.7. Creating a training loop and test loop on 'batches' on data\n",
    "1. loop through epochs\n",
    "2. loop through training batches, perform training steps, calculate the train loss *per* batch\n",
    "3. loop through testing batches, perform testing steps, calculate the test loss *per* batch\n",
    "4. print\n",
    "5. Time it all"
   ]
  },
  {
   "cell_type": "code",
   "execution_count": 113,
   "metadata": {},
   "outputs": [
    {
     "name": "stdout",
     "output_type": "stream",
     "text": [
      "Epoch: 0\n",
      "-----\n"
     ]
    },
    {
     "name": "stderr",
     "output_type": "stream",
     "text": [
      "  1%|          | 23/1875 [00:00<00:08, 230.00it/s]"
     ]
    },
    {
     "name": "stdout",
     "output_type": "stream",
     "text": [
      "Look at 0/60000 samples.\n"
     ]
    },
    {
     "name": "stderr",
     "output_type": "stream",
     "text": [
      "  6%|▋         | 120/1875 [00:00<00:07, 230.63it/s]"
     ]
    },
    {
     "name": "stderr",
     "output_type": "stream",
     "text": [
      " 24%|██▍       | 455/1875 [00:01<00:05, 268.20it/s]"
     ]
    },
    {
     "name": "stdout",
     "output_type": "stream",
     "text": [
      "Look at 12800/60000 samples.\n"
     ]
    },
    {
     "name": "stderr",
     "output_type": "stream",
     "text": [
      " 45%|████▌     | 846/1875 [00:03<00:03, 270.65it/s]"
     ]
    },
    {
     "name": "stdout",
     "output_type": "stream",
     "text": [
      "Look at 25600/60000 samples.\n"
     ]
    },
    {
     "name": "stderr",
     "output_type": "stream",
     "text": [
      " 66%|██████▌   | 1242/1875 [00:04<00:02, 269.37it/s]"
     ]
    },
    {
     "name": "stdout",
     "output_type": "stream",
     "text": [
      "Look at 38400/60000 samples.\n"
     ]
    },
    {
     "name": "stderr",
     "output_type": "stream",
     "text": [
      " 88%|████████▊ | 1647/1875 [00:06<00:00, 280.32it/s]"
     ]
    },
    {
     "name": "stdout",
     "output_type": "stream",
     "text": [
      "Look at 51200/60000 samples.\n"
     ]
    },
    {
     "name": "stderr",
     "output_type": "stream",
     "text": [
      "100%|██████████| 1875/1875 [00:07<00:00, 266.74it/s]\n",
      "100%|██████████| 313/313 [00:00<00:00, 325.01it/s]\n"
     ]
    },
    {
     "name": "stdout",
     "output_type": "stream",
     "text": [
      "\n",
      "Train loss: 0.5893 | Test loss: 0.0007 | Test acc: 0.3003\n",
      "Train time on cpu: 8.014 seconds\n",
      "Epoch: 1\n",
      "-----\n"
     ]
    },
    {
     "name": "stderr",
     "output_type": "stream",
     "text": [
      "  3%|▎         | 55/1875 [00:00<00:06, 270.83it/s]"
     ]
    },
    {
     "name": "stdout",
     "output_type": "stream",
     "text": [
      "Look at 0/60000 samples.\n"
     ]
    },
    {
     "name": "stderr",
     "output_type": "stream",
     "text": [
      " 23%|██▎       | 431/1875 [00:01<00:05, 279.42it/s]"
     ]
    },
    {
     "name": "stdout",
     "output_type": "stream",
     "text": [
      "Look at 12800/60000 samples.\n"
     ]
    },
    {
     "name": "stderr",
     "output_type": "stream",
     "text": [
      " 44%|████▍     | 829/1875 [00:02<00:03, 278.51it/s]"
     ]
    },
    {
     "name": "stdout",
     "output_type": "stream",
     "text": [
      "Look at 25600/60000 samples.\n"
     ]
    },
    {
     "name": "stderr",
     "output_type": "stream",
     "text": [
      " 67%|██████▋   | 1262/1875 [00:04<00:02, 264.66it/s]"
     ]
    },
    {
     "name": "stdout",
     "output_type": "stream",
     "text": [
      "Look at 38400/60000 samples.\n"
     ]
    },
    {
     "name": "stderr",
     "output_type": "stream",
     "text": [
      " 87%|████████▋ | 1633/1875 [00:06<00:00, 276.77it/s]"
     ]
    },
    {
     "name": "stdout",
     "output_type": "stream",
     "text": [
      "Look at 51200/60000 samples.\n"
     ]
    },
    {
     "name": "stderr",
     "output_type": "stream",
     "text": [
      "100%|██████████| 1875/1875 [00:06<00:00, 270.33it/s]\n",
      "100%|██████████| 313/313 [00:00<00:00, 326.47it/s]\n"
     ]
    },
    {
     "name": "stdout",
     "output_type": "stream",
     "text": [
      "\n",
      "Train loss: 0.4762 | Test loss: 0.0010 | Test acc: 0.3003\n",
      "Train time on cpu: 15.921 seconds\n",
      "Epoch: 2\n",
      "-----\n"
     ]
    },
    {
     "name": "stderr",
     "output_type": "stream",
     "text": [
      "  1%|▏         | 26/1875 [00:00<00:07, 252.39it/s]"
     ]
    },
    {
     "name": "stdout",
     "output_type": "stream",
     "text": [
      "Look at 0/60000 samples.\n"
     ]
    },
    {
     "name": "stderr",
     "output_type": "stream",
     "text": [
      " 24%|██▍       | 456/1875 [00:01<00:05, 255.05it/s]"
     ]
    },
    {
     "name": "stdout",
     "output_type": "stream",
     "text": [
      "Look at 12800/60000 samples.\n"
     ]
    },
    {
     "name": "stderr",
     "output_type": "stream",
     "text": [
      " 45%|████▌     | 850/1875 [00:03<00:03, 270.78it/s]"
     ]
    },
    {
     "name": "stdout",
     "output_type": "stream",
     "text": [
      "Look at 25600/60000 samples.\n"
     ]
    },
    {
     "name": "stderr",
     "output_type": "stream",
     "text": [
      " 66%|██████▌   | 1241/1875 [00:04<00:02, 258.20it/s]"
     ]
    },
    {
     "name": "stdout",
     "output_type": "stream",
     "text": [
      "Look at 38400/60000 samples.\n"
     ]
    },
    {
     "name": "stderr",
     "output_type": "stream",
     "text": [
      " 87%|████████▋ | 1632/1875 [00:06<00:00, 249.99it/s]"
     ]
    },
    {
     "name": "stdout",
     "output_type": "stream",
     "text": [
      "Look at 51200/60000 samples.\n"
     ]
    },
    {
     "name": "stderr",
     "output_type": "stream",
     "text": [
      "100%|██████████| 1875/1875 [00:07<00:00, 264.68it/s]\n",
      "100%|██████████| 313/313 [00:00<00:00, 340.15it/s]\n"
     ]
    },
    {
     "name": "stdout",
     "output_type": "stream",
     "text": [
      "\n",
      "Train loss: 0.4552 | Test loss: 0.0013 | Test acc: 0.2804\n",
      "Train time on cpu: 23.938 seconds\n"
     ]
    }
   ],
   "source": [
    "# import tqdm for preogress bar\n",
    "from tqdm.auto import tqdm\n",
    "\n",
    "# Seed\n",
    "torch.manual_seed(42)\n",
    "torch.cuda.manual_seed(42)\n",
    "train_time_start_on_cpu = timer()\n",
    "\n",
    "# Epochs\n",
    "epochs = 3\n",
    "\n",
    "# loop\n",
    "for epoch in range(epochs):\n",
    "    print(f'Epoch: {epoch}\\n-----')\n",
    "    '''\n",
    "    Train\n",
    "    '''\n",
    "    train_loss = 0\n",
    "    # loop for training batch\n",
    "    for batch, (X,y) in enumerate(tqdm(train_dataloader)):\n",
    "        model_cv0.train()\n",
    "        # 1. forward\n",
    "        y_pred = model_cv0(X)\n",
    "        \n",
    "        # 2. Calculate loss (/batch)\n",
    "        loss = loss_fn(y_pred,y)\n",
    "        train_loss += loss # accumulate train loss\n",
    "        \n",
    "        # 3. Optimizer zero grad\n",
    "        optimizer.zero_grad()\n",
    "        \n",
    "        # 4. loss backward\n",
    "        loss.backward()\n",
    "        \n",
    "        # 5. Optimizer step\n",
    "        optimizer.step()\n",
    "        \n",
    "        # Print\n",
    "        if batch % 400 == 0:\n",
    "            print(f'Look at {batch*len(X)}/{len(train_dataloader.dataset)} samples.')\n",
    "    \n",
    "    # Divide total train loss by length of train dataloader\n",
    "    train_loss /= len(train_dataloader)\n",
    "    '''\n",
    "    Test\n",
    "    '''\n",
    "    test_loss, test_acc = 0,0\n",
    "    model_cv0.eval()\n",
    "    with torch.inference_mode():\n",
    "        for X_test,y_test in tqdm(test_dataloader):\n",
    "            # 1. Forward\n",
    "            test_pred = model_cv0(X_test) # return logits\n",
    "            \n",
    "            # 2. Calculate loss\n",
    "            test_loss += loss_fn(test_pred,y_test)\n",
    "            \n",
    "            # 3. Calculate acc\n",
    "            test_acc += accuracy_fn(y_true=y_test,\n",
    "                                    y_pred=test_pred.argmax(dim=1)) # return highest value from test_pred logits\n",
    "            \n",
    "            # 4. calculate the test loss average per batch\n",
    "            test_loss /= len(test_dataloader)\n",
    "            \n",
    "            # 4. calculate the test loss average per batch\n",
    "            test_acc /= len(test_dataloader)\n",
    "            \n",
    "    print(f'\\nTrain loss: {train_loss:.4f} | Test loss: {test_loss:.4f} | Test acc: {test_acc:.4f}')\n",
    "    \n",
    "    # Calculate training time\n",
    "    train_time_end_on_cpu = timer()\n",
    "    total_train_time_model_cv0 = print_train_time(start=train_time_start_on_cpu,\n",
    "                                                    end=train_time_end_on_cpu,\n",
    "                                                    device=str(next(model_cv0.parameters()).device))"
   ]
  },
  {
   "cell_type": "code",
   "execution_count": 114,
   "metadata": {},
   "outputs": [],
   "source": [
    "device='cpu'"
   ]
  },
  {
   "cell_type": "code",
   "execution_count": 115,
   "metadata": {},
   "outputs": [],
   "source": [
    "### 5.8. Make prediction and get Model_cv0 result\n",
    "torch.manual_seed(42)\n",
    "def eval_model(model: torch.nn.Module,\n",
    "               data_loader: torch.utils.data.DataLoader,\n",
    "               loss_fn: torch.nn.Module,\n",
    "               accuracy_fn,\n",
    "               device: torch.device = device):\n",
    "    '''Return a dictionary containing the results of model predicting on DataLoader'''\n",
    "    loss, acc = 0,0\n",
    "    model = model.to(device)\n",
    "    model.eval()    \n",
    "    with torch.inference_mode():\n",
    "        for X, y in data_loader:\n",
    "            # Make our data device agnostic\n",
    "            X, y = X.to(device), y.to(device)            \n",
    "            # Make prediction\n",
    "            y_pred = model(X)            \n",
    "            # Accumulate the loss and acc per batch\n",
    "            loss += loss_fn(y_pred, y)\n",
    "            acc += accuracy_fn(y_true=y,\n",
    "                               y_pred=y_pred.argmax(dim=1))    \n",
    "        # Scale loss and acc to find average loss/acc per batch \n",
    "        '''\n",
    "        Point of position!!!\n",
    "        '''\n",
    "        loss /= len(data_loader)\n",
    "        acc /= len(data_loader)\n",
    "    return {'model_name':model.__class__.__name__, # only works when model was created with a class\n",
    "            'model_loss':loss.item(),\n",
    "            'model_acc':acc}"
   ]
  },
  {
   "cell_type": "code",
   "execution_count": 116,
   "metadata": {},
   "outputs": [
    {
     "data": {
      "text/plain": [
       "{'model_name': 'FashionMNISTModelV0',\n",
       " 'model_loss': 0.5304171442985535,\n",
       " 'model_acc': 80.25159744408946}"
      ]
     },
     "execution_count": 116,
     "metadata": {},
     "output_type": "execute_result"
    }
   ],
   "source": [
    "# Calculate model_cv0 results on test dataset\n",
    "model_cv0_results = eval_model(model=model_cv0.to(device),\n",
    "                               data_loader=test_dataloader,\n",
    "                               loss_fn=loss_fn,\n",
    "                               accuracy_fn=accuracy_fn)\n",
    "model_cv0_results"
   ]
  },
  {
   "cell_type": "markdown",
   "metadata": {},
   "source": [
    "### 5.8. Setup device agnostic-code (GPU)"
   ]
  },
  {
   "cell_type": "code",
   "execution_count": 117,
   "metadata": {},
   "outputs": [
    {
     "data": {
      "text/plain": [
       "True"
      ]
     },
     "execution_count": 117,
     "metadata": {},
     "output_type": "execute_result"
    }
   ],
   "source": [
    "torch.cuda.is_available()"
   ]
  },
  {
   "cell_type": "code",
   "execution_count": 118,
   "metadata": {},
   "outputs": [
    {
     "data": {
      "text/plain": [
       "'cuda'"
      ]
     },
     "execution_count": 118,
     "metadata": {},
     "output_type": "execute_result"
    }
   ],
   "source": [
    "import torch\n",
    "device = 'cuda' if torch.cuda.is_available() else 'cpu'\n",
    "device"
   ]
  },
  {
   "cell_type": "markdown",
   "metadata": {},
   "source": [
    "### 5.9. Model_cv1 : Builindg a better model with non-linear"
   ]
  },
  {
   "cell_type": "code",
   "execution_count": 119,
   "metadata": {},
   "outputs": [],
   "source": [
    "class FashionMNISTModelV1(nn.Module):\n",
    "    def __init__(self,\n",
    "                 input_shape:int,\n",
    "                 hidden_units:int,\n",
    "                 output_shape:int):\n",
    "        super().__init__()\n",
    "        self.layer_stack = nn.Sequential(\n",
    "            nn.Flatten(), # flatten inputs into a single vector\n",
    "            nn.Linear(in_features=input_shape,\n",
    "                      out_features=hidden_units),\n",
    "            nn.ReLU(),\n",
    "            nn.Linear(in_features=hidden_units,\n",
    "                      out_features=output_shape),\n",
    "            nn.ReLU()            \n",
    "        )\n",
    "    def forward(self, x:torch.Tensor):\n",
    "        return self.layer_stack(x)"
   ]
  },
  {
   "cell_type": "code",
   "execution_count": 120,
   "metadata": {},
   "outputs": [
    {
     "data": {
      "text/plain": [
       "device(type='cpu')"
      ]
     },
     "execution_count": 120,
     "metadata": {},
     "output_type": "execute_result"
    }
   ],
   "source": [
    "# Check the model device\n",
    "next(model_cv0.parameters()).device"
   ]
  },
  {
   "cell_type": "code",
   "execution_count": 121,
   "metadata": {},
   "outputs": [
    {
     "data": {
      "text/plain": [
       "device(type='cuda', index=0)"
      ]
     },
     "execution_count": 121,
     "metadata": {},
     "output_type": "execute_result"
    }
   ],
   "source": [
    "# Create an instance of model_cv1\n",
    "torch.manual_seed(42)\n",
    "model_cv1 = FashionMNISTModelV1(input_shape=784, # this is the output of flatten after our 28*28 image goes in \n",
    "                                hidden_units=10,\n",
    "                                output_shape=len(class_names)).to(device)\n",
    "next(model_cv1.parameters()).device"
   ]
  },
  {
   "cell_type": "code",
   "execution_count": 122,
   "metadata": {},
   "outputs": [],
   "source": [
    "# setup loss and optimizer\n",
    "loss_fn = nn.CrossEntropyLoss()     # measure how wrong our model is\n",
    "optimizer = torch.optim.SGD(params=model_cv1.parameters(),  # tries to update our model's parameters to reduce the loss\n",
    "                            lr=0.1)"
   ]
  },
  {
   "cell_type": "markdown",
   "metadata": {},
   "source": [
    "### 5.10. Functionizing training and testing loop\n",
    "* training loop - train_step()\n",
    "* testing loop - test_step()"
   ]
  },
  {
   "cell_type": "code",
   "execution_count": 123,
   "metadata": {},
   "outputs": [],
   "source": [
    "def train_step(model: torch.nn.Module,\n",
    "               data_loader: torch.utils.data.DataLoader,\n",
    "               loss_fn: torch.nn.Module,\n",
    "               optimizer: torch.optim.Optimizer,\n",
    "               accuracy_fn,\n",
    "               device: torch.device = device):\n",
    "    '''Performs a training with model trying to learn on data_loader.'''\n",
    "    train_loss, train_acc = 0,0\n",
    "    model.to(device)\n",
    "    for batch, (X,y) in enumerate(data_loader):\n",
    "        X, y = X.to(device), y.to(device)\n",
    "        \n",
    "        # 1. forward\n",
    "        y_pred = model(X)\n",
    "        \n",
    "        # 2. Calculate loss (/batch)\n",
    "        loss = loss_fn(y_pred,y)\n",
    "        train_loss += loss # accumulate train loss\n",
    "        train_acc += accuracy_fn(y_true=y,\n",
    "                                 y_pred=y_pred.argmax(dim=1)) # go from logits -> prediction labels\n",
    "        \n",
    "        # 3. Optimizer zero grad\n",
    "        optimizer.zero_grad()\n",
    "        \n",
    "        # 4. loss backward\n",
    "        loss.backward()\n",
    "        \n",
    "        # 5. Optimizer step\n",
    "        optimizer.step()\n",
    "\n",
    "    # Divide total train loss and acc by length of train dataloader\n",
    "    train_loss /= len(data_loader)\n",
    "    train_acc /= len(data_loader)\n",
    "    print(f'Train loss: {train_loss:.5f} | Train acc: {train_acc:.2f}')"
   ]
  },
  {
   "cell_type": "code",
   "execution_count": 124,
   "metadata": {},
   "outputs": [],
   "source": [
    "def test_step(model: torch.nn.Module,\n",
    "               data_loader: torch.utils.data.DataLoader,\n",
    "               loss_fn: torch.nn.Module,\n",
    "               accuracy_fn,\n",
    "               device: torch.device = device):\n",
    "    '''Performs a training with model trying to learn on data_loader.'''\n",
    "    test_loss, test_acc = 0,0\n",
    "    model.to(device)\n",
    "    model.eval()    \n",
    "    \n",
    "    with torch.inference_mode():\n",
    "        for X,y in data_loader:\n",
    "            X, y = X.to(device), y.to(device)\n",
    "            \n",
    "            # 1. forward\n",
    "            test_pred = model(X)\n",
    "            \n",
    "            # 2. Calculate loss (/batch)\n",
    "            test_loss += loss_fn(test_pred, y)\n",
    "            test_acc += accuracy_fn(y_true=y,\n",
    "                                    y_pred=test_pred.argmax(dim=1) # Go from logits -> pred labels\n",
    "            )\n",
    "            \n",
    "        # Divide total train loss and acc by length of train dataloader\n",
    "        test_loss /= len(data_loader)\n",
    "        test_acc /= len(data_loader)\n",
    "        print(f'Test loss: {test_loss:.5f} | test acc: {test_acc:.2f}')"
   ]
  },
  {
   "cell_type": "code",
   "execution_count": 125,
   "metadata": {},
   "outputs": [
    {
     "name": "stderr",
     "output_type": "stream",
     "text": [
      "  0%|          | 0/3 [00:00<?, ?it/s]"
     ]
    },
    {
     "name": "stdout",
     "output_type": "stream",
     "text": [
      "Epoch: 0\n",
      "---------------\n",
      "Train loss: 1.09199 | Train acc: 61.34\n"
     ]
    },
    {
     "name": "stderr",
     "output_type": "stream",
     "text": [
      " 33%|███▎      | 1/3 [00:11<00:22, 11.42s/it]"
     ]
    },
    {
     "name": "stdout",
     "output_type": "stream",
     "text": [
      "Test loss: 0.95636 | test acc: 65.00\n",
      "Epoch: 1\n",
      "---------------\n",
      "Train loss: 0.78101 | Train acc: 71.93\n"
     ]
    },
    {
     "name": "stderr",
     "output_type": "stream",
     "text": [
      " 67%|██████▋   | 2/3 [00:22<00:11, 11.27s/it]"
     ]
    },
    {
     "name": "stdout",
     "output_type": "stream",
     "text": [
      "Test loss: 0.72227 | test acc: 73.91\n",
      "Epoch: 2\n",
      "---------------\n",
      "Train loss: 0.67027 | Train acc: 75.94\n"
     ]
    },
    {
     "name": "stderr",
     "output_type": "stream",
     "text": [
      "100%|██████████| 3/3 [00:35<00:00, 11.76s/it]"
     ]
    },
    {
     "name": "stdout",
     "output_type": "stream",
     "text": [
      "Test loss: 0.68500 | test acc: 75.02\n",
      "Train time on cuda: 35.294 seconds\n"
     ]
    },
    {
     "name": "stderr",
     "output_type": "stream",
     "text": [
      "\n"
     ]
    }
   ],
   "source": [
    "torch.manual_seed(42)\n",
    "\n",
    "from timeit import default_timer as timer \n",
    "train_time_start_on_gpu = timer()\n",
    "\n",
    "epochs = 3\n",
    "\n",
    "for epoch in tqdm(range(epochs)):\n",
    "    print(f'Epoch: {epoch}\\n---------------')\n",
    "    train_step(model=model_cv1,\n",
    "               data_loader=train_dataloader,\n",
    "               loss_fn=loss_fn,\n",
    "               optimizer=optimizer,\n",
    "               accuracy_fn=accuracy_fn,\n",
    "               device=device)\n",
    "    test_step(model=model_cv1,\n",
    "               data_loader=test_dataloader,\n",
    "               loss_fn=loss_fn,\n",
    "               accuracy_fn=accuracy_fn,\n",
    "               device=device)\n",
    "\n",
    "train_time_end_on_gpu = timer()\n",
    "total_train_time_model_cv1 = print_train_time(start=train_time_start_on_gpu,\n",
    "                                               end=train_time_end_on_gpu,\n",
    "                                               device=device)"
   ]
  },
  {
   "cell_type": "markdown",
   "metadata": {},
   "source": [
    "**Note** Sometimes, depending on data/hardware you might find that ur model trains fatseter on CPU than GPU\n",
    "\n",
    "* Why?\n",
    "1. overhead for copying data/model to and from the GPU outweight the compute benefits\n",
    "2. hardware CPU performancec is greater than GPU\n"
   ]
  },
  {
   "cell_type": "code",
   "execution_count": 126,
   "metadata": {},
   "outputs": [
    {
     "data": {
      "text/plain": [
       "23.937693699990632"
      ]
     },
     "execution_count": 126,
     "metadata": {},
     "output_type": "execute_result"
    }
   ],
   "source": [
    "total_train_time_model_cv0"
   ]
  },
  {
   "cell_type": "code",
   "execution_count": 127,
   "metadata": {},
   "outputs": [
    {
     "data": {
      "text/plain": [
       "35.29357819998404"
      ]
     },
     "execution_count": 127,
     "metadata": {},
     "output_type": "execute_result"
    }
   ],
   "source": [
    "total_train_time_model_cv1"
   ]
  },
  {
   "cell_type": "code",
   "execution_count": 128,
   "metadata": {},
   "outputs": [
    {
     "data": {
      "text/plain": [
       "{'model_name': 'FashionMNISTModelV1',\n",
       " 'model_loss': 0.6850008368492126,\n",
       " 'model_acc': 75.01996805111821}"
      ]
     },
     "execution_count": 128,
     "metadata": {},
     "output_type": "execute_result"
    }
   ],
   "source": [
    "# Get model_cv1 results dictionary\n",
    "model_cv1_results = eval_model(model=model_cv1,\n",
    "                               data_loader=test_dataloader,\n",
    "                               loss_fn=loss_fn,\n",
    "                               accuracy_fn=accuracy_fn,\n",
    "                               device=device)\n",
    "model_cv1_results"
   ]
  },
  {
   "cell_type": "markdown",
   "metadata": {},
   "source": [
    "### 5.11. Convolutional Neural Network (CNN)\n",
    "1. <span style='color:orange;font-weight:bold'> input layer </span> - takes in target images  and preprocesses them for further layers <span style='color:skyblue;font-weight:bold'> -> </span> input_shape = [batch_size, image_height, image_width, color_channel] or input_shape = [batch_size, color_channel image_height, image_width]\n",
    "2. <span style='color:orange;font-weight:bold'> Convolutional layer </span> - Extracts/learns the most important features from target images <span style='color:skyblue;font-weight:bold'> -> </span> torch.nn.Convol\n",
    "3. <span style='color:orange;font-weight:bold'> Hidden activation/non-linear activation </span> - Adds non-linearity to learned features <span style='color:skyblue;font-weight:bold'> -> </span> torch.nn.ReLU, \n",
    "4. <span style='color:orange;font-weight:bold'> Pooling layer </span> - Reduce the dimensionality of learned image features <span style='color:skyblue;font-weight:bold'> -> </span> Max(torch.nn.MaxPool2D()) or Average(torch.nn.AvgPool2d())\n",
    "5. <span style='color:orange;font-weight:bold'> Output layer/linear </span> - Takes learned features and outputs them in shape of target labels **->** torch.nn.Linear(out_features=[number_of_classes]) (e.g. 3 for pizza, )\n",
    "6. <span style='color:orange;font-weight:bold'> Output activation </span>  - Convert output logits to prediction probabilities <span style='color:skyblue;font-weight:bold'> -> </span> torch.sigmoid() (binary classification) or torch.softmax() (multi-class classification)\n",
    "\n",
    "* ps. https://poloclub.github.io/cnn-explainer/"
   ]
  },
  {
   "cell_type": "markdown",
   "metadata": {},
   "source": [
    "## Model recommend \n",
    "* Structured data (Excel, row and column data) => Gradient boosted models, Random Forests, ***XGBoost***\n",
    "* Unstructured data (images, audio, language) => Convolutional Neural Networks, Transformers (***torchvision.models*** or ***HuggingFace Transformers***)\n"
   ]
  },
  {
   "cell_type": "code",
   "execution_count": 129,
   "metadata": {},
   "outputs": [],
   "source": [
    "class FashionMNISTModelV2(nn.Module):\n",
    "    ''' \n",
    "    Model architecture that replicates the TinyVGG\n",
    "    model from CNN explainer website.\n",
    "    '''\n",
    "    def __init__(self, \n",
    "                 input_shape=int,\n",
    "                 hidden_units=int,\n",
    "                 output_shape=int,\n",
    "                 ):\n",
    "        super().__init__()\n",
    "        self.conv_block_1 = nn.Sequential(\n",
    "            nn.Conv2d(in_channels=input_shape,\n",
    "                      out_channels=hidden_units,\n",
    "                      kernel_size=3,\n",
    "                      stride=1,\n",
    "                      padding=1), # values we can set ourselves in our NN's are called hyperparameter\n",
    "            nn.ReLU(),\n",
    "            nn.Conv2d(in_channels=hidden_units,\n",
    "                      out_channels=hidden_units,\n",
    "                      kernel_size=3,\n",
    "                      stride=1,\n",
    "                      padding=1),\n",
    "            nn.ReLU(),\n",
    "            nn.MaxPool2d(kernel_size=2)\n",
    "        )\n",
    "        self.conv_block_2 = nn.Sequential(\n",
    "            nn.Conv2d(in_channels=hidden_units,\n",
    "                      out_channels=hidden_units,\n",
    "                      kernel_size=3,\n",
    "                      stride=1,\n",
    "                      padding=1),\n",
    "            nn.ReLU(),\n",
    "            nn.Conv2d(in_channels=hidden_units,\n",
    "                      out_channels=hidden_units,\n",
    "                      kernel_size=3,\n",
    "                      stride=1,\n",
    "                      padding=1),\n",
    "            nn.ReLU(),\n",
    "            nn.MaxPool2d(kernel_size=2)\n",
    "        )\n",
    "        self.classifier = nn.Sequential(\n",
    "            nn.Flatten(),\n",
    "            nn.Linear(in_features=hidden_units*7*7, # there's a a trick\n",
    "                      out_features=output_shape)\n",
    "        )\n",
    "\n",
    "    def forward(self, x):\n",
    "        x = self.conv_block_1(x)\n",
    "        # print(f'Output shape of conv_block_1: {x.shape}')\n",
    "        x = self.conv_block_2(x)\n",
    "        # print(f'Output shape of conv_block_2: {x.shape}')\n",
    "        x = self.classifier(x)\n",
    "        # print(f'Output shape of classifier: {x.shape}')\n",
    "        return x"
   ]
  },
  {
   "cell_type": "code",
   "execution_count": 130,
   "metadata": {},
   "outputs": [
    {
     "data": {
      "text/plain": [
       "torch.Size([1, 28, 28])"
      ]
     },
     "execution_count": 130,
     "metadata": {},
     "output_type": "execute_result"
    }
   ],
   "source": [
    "image.shape # 1 for black and white, if 3, then red, green, blue"
   ]
  },
  {
   "cell_type": "code",
   "execution_count": 131,
   "metadata": {},
   "outputs": [],
   "source": [
    "torch.manual_seed(42)\n",
    "model_cv2 = FashionMNISTModelV2(input_shape=1,\n",
    "                                hidden_units=10,\n",
    "                                output_shape=len(class_names)).to(device)"
   ]
  },
  {
   "cell_type": "code",
   "execution_count": 132,
   "metadata": {},
   "outputs": [
    {
     "name": "stdout",
     "output_type": "stream",
     "text": [
      "Image batch shape: torch.Size([32, 3, 64, 64]) -> [batch_size, color_channels, height, width]\n",
      "Single image shape: torch.Size([3, 64, 64]) -> [color_channels, height, width]\n",
      "Single image pixel values:\n",
      "tensor([[[ 1.9269,  1.4873,  0.9007,  ...,  1.8446, -1.1845,  1.3835],\n",
      "         [ 1.4451,  0.8564,  2.2181,  ...,  0.3399,  0.7200,  0.4114],\n",
      "         [ 1.9312,  1.0119, -1.4364,  ..., -0.5558,  0.7043,  0.7099],\n",
      "         ...,\n",
      "         [-0.5610, -0.4830,  0.4770,  ..., -0.2713, -0.9537, -0.6737],\n",
      "         [ 0.3076, -0.1277,  0.0366,  ..., -2.0060,  0.2824, -0.8111],\n",
      "         [-1.5486,  0.0485, -0.7712,  ..., -0.1403,  0.9416, -0.0118]],\n",
      "\n",
      "        [[-0.5197,  1.8524,  1.8365,  ...,  0.8935, -1.5114, -0.8515],\n",
      "         [ 2.0818,  1.0677, -1.4277,  ...,  1.6612, -2.6223, -0.4319],\n",
      "         [-0.1010, -0.4388, -1.9775,  ...,  0.2106,  0.2536, -0.7318],\n",
      "         ...,\n",
      "         [ 0.2779,  0.7342, -0.3736,  ..., -0.4601,  0.1815,  0.1850],\n",
      "         [ 0.7205, -0.2833,  0.0937,  ..., -0.1002, -2.3609,  2.2465],\n",
      "         [-1.3242, -0.1973,  0.2920,  ...,  0.5409,  0.6940,  1.8563]],\n",
      "\n",
      "        [[-0.7978,  1.0261,  1.1465,  ...,  1.2134,  0.9354, -0.0780],\n",
      "         [-1.4647, -1.9571,  0.1017,  ..., -1.9986, -0.7409,  0.7011],\n",
      "         [-1.3938,  0.8466, -1.7191,  ..., -1.1867,  0.1320,  0.3407],\n",
      "         ...,\n",
      "         [ 0.8206, -0.3745,  1.2499,  ..., -0.0676,  0.0385,  0.6335],\n",
      "         [-0.5589, -0.3393,  0.2347,  ...,  2.1181,  2.4569,  1.3083],\n",
      "         [-0.4092,  1.5199,  0.2401,  ..., -0.2558,  0.7870,  0.9924]]])\n"
     ]
    }
   ],
   "source": [
    "# Stepping trough nn.Conv2d()\n",
    "torch.manual_seed(42)\n",
    "\n",
    "images = torch.randn(size=(32,3,64,64))\n",
    "test_image = images[0]\n",
    "\n",
    "print(f\"Image batch shape: {images.shape} -> [batch_size, color_channels, height, width]\")\n",
    "print(f\"Single image shape: {test_image.shape} -> [color_channels, height, width]\") \n",
    "print(f\"Single image pixel values:\\n{test_image}\")"
   ]
  },
  {
   "cell_type": "code",
   "execution_count": 133,
   "metadata": {},
   "outputs": [
    {
     "data": {
      "text/plain": [
       "torch.Size([3, 64, 64])"
      ]
     },
     "execution_count": 133,
     "metadata": {},
     "output_type": "execute_result"
    }
   ],
   "source": [
    "test_image.shape"
   ]
  },
  {
   "cell_type": "code",
   "execution_count": 134,
   "metadata": {},
   "outputs": [
    {
     "data": {
      "text/plain": [
       "torch.Size([10, 64, 64])"
      ]
     },
     "execution_count": 134,
     "metadata": {},
     "output_type": "execute_result"
    }
   ],
   "source": [
    "# Create a single conv2d layer\n",
    "conv_layer = nn.Conv2d(in_channels=3,\n",
    "                       out_channels=10,\n",
    "                       kernel_size=(3,3),   # convolving kernel\n",
    "                       stride=1,    # stride of the convolution\n",
    "                       padding=1)   # padding added to all four sides of the input\n",
    "\n",
    "# Pass the data through the convolutional layer\n",
    "conv_output = conv_layer(test_image)\n",
    "# conv_output.shape # kernel_size (5,5) -> torch.Size([10, 60, 60])\n",
    "# conv_output.shape # kernel_size (3,3) -> torch.Size([10, 62, 62]))\n",
    "conv_output.shape # kernel_size (3,3), stride 2 -> torch.Size([10, 31, 31]))"
   ]
  },
  {
   "cell_type": "code",
   "execution_count": 135,
   "metadata": {},
   "outputs": [
    {
     "data": {
      "text/plain": [
       "torch.Size([3, 64, 64])"
      ]
     },
     "execution_count": 135,
     "metadata": {},
     "output_type": "execute_result"
    }
   ],
   "source": [
    "test_image.shape"
   ]
  },
  {
   "cell_type": "code",
   "execution_count": 136,
   "metadata": {},
   "outputs": [
    {
     "data": {
      "text/plain": [
       "torch.Size([1, 3, 64, 64])"
      ]
     },
     "execution_count": 136,
     "metadata": {},
     "output_type": "execute_result"
    }
   ],
   "source": [
    "test_image.unsqueeze(0).shape"
   ]
  },
  {
   "cell_type": "markdown",
   "metadata": {},
   "source": [
    "### 5.11. Stepping through nn.MaxPool2d()\n",
    "<span style='color:orange;font-weight:bold'> nn.MaxPool2d() </span>"
   ]
  },
  {
   "cell_type": "code",
   "execution_count": 137,
   "metadata": {},
   "outputs": [
    {
     "data": {
      "text/plain": [
       "torch.Size([3, 64, 64])"
      ]
     },
     "execution_count": 137,
     "metadata": {},
     "output_type": "execute_result"
    }
   ],
   "source": [
    "test_image.shape"
   ]
  },
  {
   "cell_type": "code",
   "execution_count": 138,
   "metadata": {},
   "outputs": [
    {
     "name": "stdout",
     "output_type": "stream",
     "text": [
      "Test image original shape:torch.Size([3, 64, 64])\n",
      "Test image with unsqueezed dimension:torch.Size([1, 3, 64, 64])\n",
      "Shape after going through conv_layer(): torch.Size([1, 10, 64, 64])\n",
      "Shape after going through conv_layer() and max_pool_layer():torch.Size([1, 10, 16, 16])\n"
     ]
    }
   ],
   "source": [
    "# print out original image shape without unsqueezed dimension\n",
    "print(f'Test image original shape:{test_image.shape}')\n",
    "print(f'Test image with unsqueezed dimension:{test_image.unsqueeze(0).shape}')\n",
    "\n",
    "# Create a sample nn.Maxpool2d layer\n",
    "max_pool_layer = nn.MaxPool2d(kernel_size=4)\n",
    "\n",
    "# Pass data through the conv_layer\n",
    "test_image_through_conv = conv_layer(test_image.unsqueeze(dim=0))\n",
    "print(f'Shape after going through conv_layer(): {test_image_through_conv.shape}')\n",
    "\n",
    "# Pass data through the max pool layer\n",
    "test_image_through_conv_and_max_layer = max_pool_layer(test_image_through_conv)\n",
    "print(f'Shape after going through conv_layer() and max_pool_layer():{test_image_through_conv_and_max_layer.shape}')"
   ]
  },
  {
   "cell_type": "code",
   "execution_count": 139,
   "metadata": {},
   "outputs": [
    {
     "name": "stdout",
     "output_type": "stream",
     "text": [
      "\n",
      "Random tensor:\n",
      "tensor([[[[0.3367, 0.1288],\n",
      "          [0.2345, 0.2303]]]])\n",
      "\n",
      "Random tensor shape:\n",
      "torch.Size([1, 1, 2, 2])\n",
      "\n",
      "Max pool tensor:\n",
      " tensor([[[[0.3367]]]])\n",
      "Max pool tensor shape : torch.Size([1, 1, 1, 1])\n"
     ]
    }
   ],
   "source": [
    "torch.manual_seed(42)\n",
    "\n",
    "#Create a random tensor with a similar number of dimension to our images\n",
    "random_tensor = torch.randn(size=(1,1,2,2))\n",
    "print(f'\\nRandom tensor:\\n{random_tensor}')\n",
    "print(f'\\nRandom tensor shape:\\n{random_tensor.shape}')\n",
    "\n",
    "# Create a max pool layer\n",
    "max_pool_layer = nn.MaxPool2d(kernel_size=2)\n",
    "\n",
    "# Pass the random tensor through the max pool layer\n",
    "max_pool_tensor = max_pool_layer(random_tensor)\n",
    "print(f'\\nMax pool tensor:\\n {max_pool_tensor}')\n",
    "print(f'Max pool tensor shape : {max_pool_tensor.shape}')"
   ]
  },
  {
   "cell_type": "markdown",
   "metadata": {},
   "source": [
    "### Breakdown of torch.nn.Conv2d layer\n",
    "* <span style='color:green;font-weight:bold'>Example code:</span> torch.nn.Conv2d(in_channel=3, out_channels=10, kernel_size=(3,3), stride=(1,1), padding=0)\n",
    "* <span style='color:green;font-weight:bold'>Example code2[<span style='color:brown;font-weight:bold'>Same as above</span>]:</span> torch.nn.Conv2d(in_channel=3, out_channels=10, kernel_size=3, stride=1, padding=0)\n",
    "* <span style='color:orange;font-weight:bold'> Hyperparameter </span> \n",
    "    1. <span style='color:orange;font-weight:bold'> in_channels: </span> - defines the number of input channels of the input data <span style='color:skyblue;font-weight:bold'> -> </span> (grayscale), 3, (RGB color images)\n",
    "    2. <span style='color:orange;font-weight:bold'> out_channels: </span> - defines the number of output channels of the layer (could also be called <span style='color:crimson;font-weight:bold'> hidden units </span>) <span style='color:skyblue;font-weight:bold'> -> </span> 10,128, 256,512\n",
    "    3. <span style='color:orange;font-weight:bold'> kernel_size (also referred to as filter size): </span> - determines the shape of the kernel (sliding windows) over the input <span style='color:skyblue;font-weight:bold'> -> </span> 3,5,7 (lowers values learn smaller features, higher values learn larger features)\n",
    "    4. <span style='color:orange;font-weight:bold'> stride: </span> - The number of steps a filter takes across an image at a time (e.g. if strides=1, a filter moves across an image 1 pixel at a time) <span style='color:skyblue;font-weight:bold'> -> </span> 1 (default), 2\n",
    "    5. <span style='color:orange;font-weight:bold'> padding: </span> - pads the target tensor with zeroes (if '<span style='color:brown;font-weight:bold'>same</span>' ) to preserve input shape. Or leave in the target tensor as is (if '<span style='color:brown;font-weight:bold'>valid</span>'), lowering output shape <span style='color:skyblue;font-weight:bold'> -> </span> 0,1,'same','valid'\n",
    "\n",
    "* ps. https://poloclub.github.io/cnn-explainer/"
   ]
  },
  {
   "cell_type": "code",
   "execution_count": 140,
   "metadata": {},
   "outputs": [
    {
     "data": {
      "text/plain": [
       "<matplotlib.image.AxesImage at 0x1a623fb5190>"
      ]
     },
     "execution_count": 140,
     "metadata": {},
     "output_type": "execute_result"
    },
    {
     "data": {
      "image/png": "[encoded data removed]",
      "text/plain": [
       "<Figure size 640x480 with 1 Axes>"
      ]
     },
     "metadata": {},
     "output_type": "display_data"
    }
   ],
   "source": [
    "plt.imshow(image.squeeze(), cmap='gray')"
   ]
  },
  {
   "cell_type": "code",
   "execution_count": 141,
   "metadata": {},
   "outputs": [
    {
     "data": {
      "text/plain": [
       "torch.Size([1, 28, 28])"
      ]
     },
     "execution_count": 141,
     "metadata": {},
     "output_type": "execute_result"
    }
   ],
   "source": [
    "rand_image_tensor = torch.randn(size=(1,28,28))\n",
    "rand_image_tensor.shape"
   ]
  },
  {
   "cell_type": "code",
   "execution_count": 142,
   "metadata": {},
   "outputs": [
    {
     "data": {
      "text/plain": [
       "torch.Size([1, 1, 28, 28])"
      ]
     },
     "execution_count": 142,
     "metadata": {},
     "output_type": "execute_result"
    }
   ],
   "source": [
    "rand_image_tensor.unsqueeze(0).shape"
   ]
  },
  {
   "cell_type": "code",
   "execution_count": 143,
   "metadata": {},
   "outputs": [
    {
     "data": {
      "text/plain": [
       "tensor([[ 0.0424, -0.0839,  0.0839, -0.0463,  0.0053,  0.0437,  0.0025,  0.0108,\n",
       "         -0.0158, -0.0177]], device='cuda:0', grad_fn=<AddmmBackward0>)"
      ]
     },
     "execution_count": 143,
     "metadata": {},
     "output_type": "execute_result"
    }
   ],
   "source": [
    "# pass image through  model\n",
    "model_cv2(rand_image_tensor.unsqueeze(0).to(device))"
   ]
  },
  {
   "cell_type": "code",
   "execution_count": 144,
   "metadata": {},
   "outputs": [
    {
     "data": {
      "text/plain": [
       "490"
      ]
     },
     "execution_count": 144,
     "metadata": {},
     "output_type": "execute_result"
    }
   ],
   "source": [
    "10*7*7 # hidden_units * "
   ]
  },
  {
   "cell_type": "markdown",
   "metadata": {},
   "source": [
    "### 5.12 Setup a loss / eva / optimzier / train loop / test loop  for model_cv2"
   ]
  },
  {
   "cell_type": "code",
   "execution_count": 145,
   "metadata": {},
   "outputs": [],
   "source": [
    "# setup loss / eval / optimizer\n",
    "from helper_functions import accuracy_fn\n",
    "\n",
    "loss_fn = nn.CrossEntropyLoss()\n",
    "optimizer = torch.optim.SGD(params=model_cv2.parameters(),\n",
    "                            lr=0.1)"
   ]
  },
  {
   "cell_type": "code",
   "execution_count": 146,
   "metadata": {},
   "outputs": [
    {
     "name": "stdout",
     "output_type": "stream",
     "text": [
      "Epoch: 0 ----------------------\n"
     ]
    },
    {
     "name": "stdout",
     "output_type": "stream",
     "text": [
      "Train loss: 0.60805 | Train acc: 78.07\n",
      "Test loss: 0.40728 | test acc: 85.96\n",
      "Epoch: 1 ----------------------\n",
      "Train loss: 0.36269 | Train acc: 86.85\n",
      "Test loss: 0.35095 | test acc: 87.37\n",
      "Epoch: 2 ----------------------\n",
      "Train loss: 0.32583 | Train acc: 88.11\n",
      "Test loss: 0.32363 | test acc: 88.47\n",
      "Train time on cuda: 43.099 seconds\n"
     ]
    }
   ],
   "source": [
    "torch.manual_seed(42)\n",
    "torch.cuda.manual_seed(42)\n",
    "\n",
    "# Measure time\n",
    "from timeit import default_timer as timer\n",
    "train_time_start_model_cv2 = timer()\n",
    "\n",
    "# Train / test model\n",
    "epochs=3\n",
    "for epoch in range(epochs):\n",
    "    print(f'Epoch: {epoch} ----------------------')\n",
    "    train_step(model=model_cv2,\n",
    "               data_loader=train_dataloader,\n",
    "               loss_fn=loss_fn,\n",
    "               optimizer=optimizer,\n",
    "               accuracy_fn=accuracy_fn,\n",
    "               device=device)\n",
    "    test_step(model=model_cv2,\n",
    "               data_loader=test_dataloader,\n",
    "               loss_fn=loss_fn,\n",
    "               accuracy_fn=accuracy_fn,\n",
    "               device=device)\n",
    "    \n",
    "train_time_end_model_cv2 = timer()\n",
    "total_train_time_model_cv2 = print_train_time(start = train_time_start_model_cv2,\n",
    "                                              end = train_time_end_model_cv2,\n",
    "                                              device=device)    "
   ]
  },
  {
   "cell_type": "code",
   "execution_count": 147,
   "metadata": {},
   "outputs": [
    {
     "data": {
      "text/plain": [
       "{'model_name': 'FashionMNISTModelV2',\n",
       " 'model_loss': 0.3236290216445923,\n",
       " 'model_acc': 88.46845047923323}"
      ]
     },
     "execution_count": 147,
     "metadata": {},
     "output_type": "execute_result"
    }
   ],
   "source": [
    "# Get model_cv2 results\n",
    "model_cv2_results = eval_model(\n",
    "    model=model_cv2,\n",
    "    data_loader=test_dataloader,\n",
    "    loss_fn=loss_fn,\n",
    "    accuracy_fn=accuracy_fn,\n",
    "    device=device\n",
    ")\n",
    "model_cv2_results"
   ]
  },
  {
   "cell_type": "code",
   "execution_count": 148,
   "metadata": {},
   "outputs": [
    {
     "data": {
      "text/plain": [
       "{'model_name': 'FashionMNISTModelV1',\n",
       " 'model_loss': 0.6850008368492126,\n",
       " 'model_acc': 75.01996805111821}"
      ]
     },
     "execution_count": 148,
     "metadata": {},
     "output_type": "execute_result"
    }
   ],
   "source": [
    "model_cv1_results"
   ]
  },
  {
   "cell_type": "code",
   "execution_count": 149,
   "metadata": {},
   "outputs": [
    {
     "data": {
      "text/html": [
       "<div>\n",
       "<style scoped>\n",
       "    .dataframe tbody tr th:only-of-type {\n",
       "        vertical-align: middle;\n",
       "    }\n",
       "\n",
       "    .dataframe tbody tr th {\n",
       "        vertical-align: top;\n",
       "    }\n",
       "\n",
       "    .dataframe thead th {\n",
       "        text-align: right;\n",
       "    }\n",
       "</style>\n",
       "<table border=\"1\" class=\"dataframe\">\n",
       "  <thead>\n",
       "    <tr style=\"text-align: right;\">\n",
       "      <th></th>\n",
       "      <th>model_name</th>\n",
       "      <th>model_loss</th>\n",
       "      <th>model_acc</th>\n",
       "    </tr>\n",
       "  </thead>\n",
       "  <tbody>\n",
       "    <tr>\n",
       "      <th>0</th>\n",
       "      <td>FashionMNISTModelV0</td>\n",
       "      <td>0.530417</td>\n",
       "      <td>80.251597</td>\n",
       "    </tr>\n",
       "    <tr>\n",
       "      <th>1</th>\n",
       "      <td>FashionMNISTModelV1</td>\n",
       "      <td>0.685001</td>\n",
       "      <td>75.019968</td>\n",
       "    </tr>\n",
       "    <tr>\n",
       "      <th>2</th>\n",
       "      <td>FashionMNISTModelV2</td>\n",
       "      <td>0.323629</td>\n",
       "      <td>88.468450</td>\n",
       "    </tr>\n",
       "  </tbody>\n",
       "</table>\n",
       "</div>"
      ],
      "text/plain": [
       "            model_name  model_loss  model_acc\n",
       "0  FashionMNISTModelV0    0.530417  80.251597\n",
       "1  FashionMNISTModelV1    0.685001  75.019968\n",
       "2  FashionMNISTModelV2    0.323629  88.468450"
      ]
     },
     "execution_count": 149,
     "metadata": {},
     "output_type": "execute_result"
    }
   ],
   "source": [
    "# compare model results and training time\n",
    "from unittest import result\n",
    "import pandas as pd\n",
    "compare_results = pd.DataFrame([model_cv0_results,\n",
    "                               model_cv1_results,\n",
    "                               model_cv2_results])\n",
    "compare_results"
   ]
  },
  {
   "cell_type": "code",
   "execution_count": 150,
   "metadata": {},
   "outputs": [
    {
     "data": {
      "text/html": [
       "<div>\n",
       "<style scoped>\n",
       "    .dataframe tbody tr th:only-of-type {\n",
       "        vertical-align: middle;\n",
       "    }\n",
       "\n",
       "    .dataframe tbody tr th {\n",
       "        vertical-align: top;\n",
       "    }\n",
       "\n",
       "    .dataframe thead th {\n",
       "        text-align: right;\n",
       "    }\n",
       "</style>\n",
       "<table border=\"1\" class=\"dataframe\">\n",
       "  <thead>\n",
       "    <tr style=\"text-align: right;\">\n",
       "      <th></th>\n",
       "      <th>model_name</th>\n",
       "      <th>model_loss</th>\n",
       "      <th>model_acc</th>\n",
       "      <th>training_time</th>\n",
       "    </tr>\n",
       "  </thead>\n",
       "  <tbody>\n",
       "    <tr>\n",
       "      <th>0</th>\n",
       "      <td>FashionMNISTModelV0</td>\n",
       "      <td>0.530417</td>\n",
       "      <td>80.251597</td>\n",
       "      <td>23.937694</td>\n",
       "    </tr>\n",
       "    <tr>\n",
       "      <th>1</th>\n",
       "      <td>FashionMNISTModelV1</td>\n",
       "      <td>0.685001</td>\n",
       "      <td>75.019968</td>\n",
       "      <td>35.293578</td>\n",
       "    </tr>\n",
       "    <tr>\n",
       "      <th>2</th>\n",
       "      <td>FashionMNISTModelV2</td>\n",
       "      <td>0.323629</td>\n",
       "      <td>88.468450</td>\n",
       "      <td>43.099065</td>\n",
       "    </tr>\n",
       "  </tbody>\n",
       "</table>\n",
       "</div>"
      ],
      "text/plain": [
       "            model_name  model_loss  model_acc  training_time\n",
       "0  FashionMNISTModelV0    0.530417  80.251597      23.937694\n",
       "1  FashionMNISTModelV1    0.685001  75.019968      35.293578\n",
       "2  FashionMNISTModelV2    0.323629  88.468450      43.099065"
      ]
     },
     "execution_count": 150,
     "metadata": {},
     "output_type": "execute_result"
    }
   ],
   "source": [
    "# Add training time to result comparison\n",
    "compare_results[\"training_time\"]=[total_train_time_model_cv0,\n",
    "                                  total_train_time_model_cv1,\n",
    "                                  total_train_time_model_cv2]\n",
    "compare_results\n"
   ]
  },
  {
   "cell_type": "code",
   "execution_count": 151,
   "metadata": {},
   "outputs": [
    {
     "data": {
      "image/png": "[encoded data removed]",
      "text/plain": [
       "<Figure size 640x480 with 1 Axes>"
      ]
     },
     "metadata": {},
     "output_type": "display_data"
    }
   ],
   "source": [
    "# Visualize our model result\n",
    "compare_results.set_index('model_name')['model_acc'].plot(kind='barh')\n",
    "plt.xlabel('accuracy (%)')\n",
    "plt.ylabel('model');"
   ]
  },
  {
   "cell_type": "markdown",
   "metadata": {},
   "source": [
    "### 5.12. Making predictions on random test samples\n",
    "<!-- <span style='color:orange;font-weight:bold'> nn.MaxPool2d() </span> -->"
   ]
  },
  {
   "cell_type": "code",
   "execution_count": 152,
   "metadata": {},
   "outputs": [],
   "source": [
    "def make_predictions(model: torch.nn.Module,\n",
    "                     data: list,\n",
    "                     device: torch.device=device):\n",
    "    pred_probs=[]\n",
    "    model.to(device)\n",
    "    model.eval()\n",
    "    with torch.inference_mode():\n",
    "        for sample in data:\n",
    "            # prepare the sample (add a batch dimension and pass to target device)\n",
    "            sample = torch.unsqueeze(sample, dim=0).to(device)\n",
    "            # Forward pass (model outputs raw logits)\n",
    "            pred_logit = model(sample)\n",
    "            \n",
    "            # get prediction probability (logit -> prediction probability)\n",
    "            pred_prob = torch.softmax(pred_logit.squeeze(),dim=0)\n",
    "            \n",
    "            # get pred_prob off the gpu for further calculation\n",
    "            pred_probs.append(pred_prob.cpu())\n",
    "            \n",
    "    # Stack the pred_prob to turn list into a tensor\n",
    "    return torch.stack(pred_probs)            "
   ]
  },
  {
   "cell_type": "code",
   "execution_count": 153,
   "metadata": {},
   "outputs": [
    {
     "data": {
      "text/plain": [
       "(torch.Size([1, 28, 28]), 9)"
      ]
     },
     "execution_count": 153,
     "metadata": {},
     "output_type": "execute_result"
    }
   ],
   "source": [
    "img, label = test_data[0][:10]\n",
    "img.shape, label"
   ]
  },
  {
   "cell_type": "code",
   "execution_count": 154,
   "metadata": {},
   "outputs": [
    {
     "data": {
      "text/plain": [
       "torch.Size([1, 28, 28])"
      ]
     },
     "execution_count": 154,
     "metadata": {},
     "output_type": "execute_result"
    }
   ],
   "source": [
    "import random\n",
    "random.seed(42)\n",
    "test_samples=[]\n",
    "test_labels=[]\n",
    "for sample, label in random.sample(list(test_data), k=9):\n",
    "    test_samples.append(sample)\n",
    "    test_labels.append(label)\n",
    "\n",
    "# View the first sample shape\n",
    "test_samples[0].shape"
   ]
  },
  {
   "cell_type": "code",
   "execution_count": 155,
   "metadata": {},
   "outputs": [
    {
     "data": {
      "text/plain": [
       "Text(0.5, 1.0, 'Sandal')"
      ]
     },
     "execution_count": 155,
     "metadata": {},
     "output_type": "execute_result"
    },
    {
     "data": {
      "image/png": "[encoded data removed]",
      "text/plain": [
       "<Figure size 640x480 with 1 Axes>"
      ]
     },
     "metadata": {},
     "output_type": "display_data"
    }
   ],
   "source": [
    "plt.imshow(test_samples[0].squeeze(), cmap='gray')\n",
    "plt.title(class_names[test_labels[0]])"
   ]
  },
  {
   "cell_type": "code",
   "execution_count": 156,
   "metadata": {},
   "outputs": [
    {
     "data": {
      "text/plain": [
       "tensor([[1.2334e-07, 3.8367e-09, 1.9461e-08, 7.4322e-08, 4.5208e-09, 9.9926e-01,\n",
       "         1.0625e-06, 6.9541e-06, 3.4540e-05, 6.9293e-04],\n",
       "        [2.7683e-01, 2.2583e-01, 2.2916e-03, 1.8304e-01, 2.3182e-01, 8.2942e-05,\n",
       "         7.9029e-02, 2.4081e-04, 5.2685e-04, 3.1369e-04]])"
      ]
     },
     "execution_count": 156,
     "metadata": {},
     "output_type": "execute_result"
    }
   ],
   "source": [
    "# Make predictions\n",
    "pred_probs = make_predictions(model=model_cv2,\n",
    "                              data=test_samples)\n",
    "\n",
    "# View first two prediction probabilities\n",
    "pred_probs[:2]"
   ]
  },
  {
   "cell_type": "code",
   "execution_count": 157,
   "metadata": {},
   "outputs": [
    {
     "data": {
      "text/plain": [
       "tensor([5, 0, 7, 4, 3, 0, 4, 7, 1])"
      ]
     },
     "execution_count": 157,
     "metadata": {},
     "output_type": "execute_result"
    }
   ],
   "source": [
    "# Convert prediction probabilities to labels\n",
    "pred_classes = pred_probs.argmax(dim=1)\n",
    "pred_classes"
   ]
  },
  {
   "cell_type": "code",
   "execution_count": 158,
   "metadata": {},
   "outputs": [
    {
     "data": {
      "text/plain": [
       "[5, 1, 7, 4, 3, 0, 4, 7, 1]"
      ]
     },
     "execution_count": 158,
     "metadata": {},
     "output_type": "execute_result"
    }
   ],
   "source": [
    "test_labels"
   ]
  },
  {
   "cell_type": "code",
   "execution_count": 159,
   "metadata": {},
   "outputs": [],
   "source": [
    "# import random\n",
    "# # random.seed(42)\n",
    "# test_samples=[]\n",
    "# test_labels=[]\n",
    "# for sample, label in random.sample(list(test_data), k=9):\n",
    "#     test_samples.append(sample)\n",
    "#     test_labels.append(label)\n",
    "\n",
    "# # View the first sample shape\n",
    "# test_samples[0].shape, test_labels"
   ]
  },
  {
   "cell_type": "code",
   "execution_count": 160,
   "metadata": {},
   "outputs": [
    {
     "data": {
      "image/png": "[encoded data removed]",
      "text/plain": [
       "<Figure size 900x900 with 9 Axes>"
      ]
     },
     "metadata": {},
     "output_type": "display_data"
    }
   ],
   "source": [
    "# plot prediction\n",
    "plt.figure(figsize=(9,9))\n",
    "nrows=3\n",
    "ncols=3\n",
    "for i, sample in enumerate(test_samples):\n",
    "    # Create subplot\n",
    "    plt.subplot(nrows, ncols, i+1)\n",
    "    \n",
    "    # plot the target image\n",
    "    plt.imshow(sample.squeeze(), cmap='gray')\n",
    "    \n",
    "    # find the prediction (in text form, e.g. 'sandal')\n",
    "    pred_label = class_names[pred_classes[i]]\n",
    "    \n",
    "    # get the truth label (in text form)\n",
    "    truth_label = class_names[test_labels[i]]\n",
    "    \n",
    "    # Create a tilte for the plot\n",
    "    title_text = f'pred: {pred_label} | Truth: {truth_label}'\n",
    "    \n",
    "    # Check for equality between pred and truth and change color of title test\n",
    "    if pred_label==truth_label:\n",
    "        plt.title(title_text, fontsize=10, c='g') # green text == True\n",
    "    else: \n",
    "        plt.title(title_text, fontsize=10, c='r',fontweight='bold')\n",
    "    plt.axis(False);"
   ]
  },
  {
   "cell_type": "markdown",
   "metadata": {},
   "source": [
    "### 5.13. Making a confusion matrix for further prediction evaluation\n",
    "1. make prediction with our model on the test dataset\n",
    "2. make a confusion matrix '<span style='color:orange;font-weight:bold'>torchmetrics.ConfusionMatrix</span>'\n",
    "3. plot the confusion matrix using '<span style='color:orange;font-weight:bold'> mlxtend.plotting.plot_confusion_matrix() </span>'"
   ]
  },
  {
   "cell_type": "code",
   "execution_count": 161,
   "metadata": {},
   "outputs": [
    {
     "name": "stderr",
     "output_type": "stream",
     "text": [
      "Making prediction...: 100%|██████████| 313/313 [00:01<00:00, 181.58it/s]\n"
     ]
    },
    {
     "name": "stdout",
     "output_type": "stream",
     "text": [
      "[tensor([9, 2, 1, 1, 6, 4, 4, 6, 5, 7, 4, 5, 5, 3, 4, 1, 2, 6, 8, 0, 2, 5, 7, 5,\n",
      "        1, 6, 6, 0, 9, 4, 8, 8]), tensor([3, 3, 8, 0, 7, 5, 7, 9, 6, 1, 3, 7, 6, 7, 2, 1, 2, 6, 4, 2, 5, 6, 2, 2,\n",
      "        8, 4, 8, 0, 7, 7, 8, 5]), tensor([1, 3, 3, 3, 7, 8, 7, 0, 2, 6, 2, 3, 1, 2, 8, 4, 3, 8, 5, 9, 5, 0, 3, 2,\n",
      "        0, 6, 5, 3, 6, 7, 1, 8]), tensor([6, 1, 2, 2, 3, 6, 7, 6, 7, 8, 5, 7, 9, 4, 2, 5, 7, 6, 5, 2, 8, 6, 7, 8,\n",
      "        0, 0, 9, 9, 3, 0, 8, 4]), tensor([1, 5, 4, 1, 9, 4, 8, 6, 2, 1, 2, 5, 1, 6, 0, 0, 1, 6, 1, 3, 2, 2, 6, 4,\n",
      "        1, 3, 5, 6, 4, 7, 9, 3]), tensor([8, 2, 3, 8, 0, 9, 4, 8, 4, 2, 6, 5, 2, 1, 2, 1, 3, 0, 8, 1, 0, 9, 3, 6,\n",
      "        7, 9, 8, 4, 4, 7, 1, 2]), tensor([3, 6, 3, 2, 8, 3, 6, 1, 1, 0, 2, 9, 2, 4, 0, 7, 9, 8, 4, 1, 6, 4, 1, 3,\n",
      "        3, 6, 7, 2, 8, 5, 6, 0]), tensor([7, 7, 6, 2, 7, 0, 7, 8, 9, 2, 9, 0, 5, 1, 3, 2, 5, 4, 9, 2, 2, 8, 6, 4,\n",
      "        2, 2, 9, 7, 3, 5, 5, 4]), tensor([8, 5, 2, 3, 0, 4, 8, 6, 0, 6, 3, 8, 9, 6, 1, 6, 0, 2, 3, 0, 8, 3, 7, 4,\n",
      "        6, 1, 2, 3, 6, 6, 6, 7]), tensor([8, 3, 8, 9, 5, 6, 5, 5, 1, 9, 8, 8, 3, 3, 6, 8, 0, 0, 2, 9, 7, 7, 1, 3,\n",
      "        8, 6, 2, 4, 7, 1, 6, 4]), tensor([8, 2, 0, 5, 6, 2, 7, 7, 7, 3, 3, 7, 0, 7, 1, 3, 7, 2, 2, 3, 4, 0, 0, 1,\n",
      "        0, 1, 9, 4, 9, 9, 1, 7]), tensor([8, 3, 6, 0, 2, 4, 8, 2, 1, 6, 2, 4, 4, 7, 3, 2, 2, 8, 0, 7, 9, 4, 0, 9,\n",
      "        3, 9, 8, 2, 5, 6, 0, 3]), tensor([5, 8, 1, 6, 2, 2, 6, 4, 9, 5, 2, 0, 6, 6, 1, 2, 0, 9, 7, 0, 3, 4, 3, 3,\n",
      "        2, 3, 3, 2, 7, 3, 9, 4]), tensor([2, 1, 5, 4, 5, 3, 8, 5, 8, 4, 4, 8, 9, 8, 6, 2, 4, 4, 2, 4, 1, 6, 1, 3,\n",
      "        0, 7, 8, 8, 6, 5, 3, 1]), tensor([9, 5, 3, 3, 6, 1, 6, 2, 9, 4, 6, 6, 3, 6, 2, 0, 0, 3, 3, 8, 2, 8, 9, 4,\n",
      "        0, 7, 6, 4, 6, 9, 2, 9]), tensor([7, 9, 3, 7, 5, 7, 8, 1, 6, 0, 6, 4, 8, 9, 7, 9, 1, 2, 7, 0, 2, 0, 5, 7,\n",
      "        1, 8, 2, 2, 2, 2, 4, 4]), tensor([6, 1, 9, 0, 7, 1, 9, 1, 6, 8, 3, 8, 7, 2, 6, 6, 8, 0, 2, 0, 5, 8, 7, 5,\n",
      "        0, 9, 4, 3, 4, 2, 5, 1]), tensor([0, 1, 2, 6, 2, 9, 6, 3, 5, 1, 3, 1, 9, 3, 4, 5, 3, 6, 2, 6, 4, 6, 0, 5,\n",
      "        8, 2, 3, 4, 0, 7, 7, 8]), tensor([9, 3, 3, 8, 7, 6, 7, 9, 3, 4, 6, 3, 5, 3, 1, 1, 5, 9, 3, 2, 5, 7, 8, 1,\n",
      "        2, 9, 7, 7, 1, 0, 9, 3]), tensor([4, 9, 0, 5, 6, 8, 2, 7, 1, 2, 3, 1, 2, 2, 6, 5, 3, 0, 7, 8, 8, 2, 9, 4,\n",
      "        1, 6, 4, 1, 0, 1, 4, 1]), tensor([7, 5, 8, 4, 9, 1, 0, 5, 4, 4, 4, 6, 0, 2, 5, 6, 0, 3, 5, 2, 1, 3, 1, 6,\n",
      "        6, 2, 3, 8, 2, 8, 6, 7]), tensor([0, 4, 1, 8, 5, 0, 8, 2, 7, 2, 8, 9, 6, 4, 2, 9, 6, 4, 5, 0, 9, 5, 3, 6,\n",
      "        6, 2, 1, 3, 8, 1, 4, 0]), tensor([9, 7, 9, 4, 8, 9, 1, 3, 7, 3, 0, 2, 4, 7, 3, 0, 0, 8, 7, 2, 6, 4, 4, 4,\n",
      "        3, 5, 9, 3, 0, 3, 6, 5]), tensor([6, 3, 4, 3, 3, 8, 1, 1, 8, 5, 7, 9, 8, 7, 2, 0, 7, 0, 8, 0, 9, 7, 6, 1,\n",
      "        6, 2, 4, 8, 6, 6, 3, 6]), tensor([8, 6, 0, 8, 9, 2, 4, 5, 9, 3, 6, 4, 9, 2, 3, 7, 9, 8, 8, 3, 7, 7, 3, 1,\n",
      "        1, 6, 7, 5, 3, 8, 4, 2]), tensor([9, 0, 8, 3, 2, 4, 4, 7, 1, 4, 9, 0, 5, 8, 5, 4, 7, 2, 8, 5, 9, 0, 3, 6,\n",
      "        7, 1, 7, 0, 7, 4, 6, 5]), tensor([8, 3, 7, 1, 2, 6, 1, 9, 8, 4, 7, 1, 3, 7, 5, 9, 9, 1, 8, 4, 5, 7, 1, 9,\n",
      "        4, 1, 3, 0, 6, 1, 7, 1]), tensor([1, 8, 7, 1, 5, 2, 2, 3, 3, 1, 1, 4, 9, 4, 3, 7, 7, 8, 8, 9, 9, 6, 1, 3,\n",
      "        4, 0, 0, 5, 9, 2, 0, 5]), tensor([5, 1, 7, 7, 8, 7, 9, 3, 6, 2, 0, 4, 0, 2, 0, 2, 5, 5, 1, 2, 0, 9, 3, 7,\n",
      "        8, 4, 8, 3, 4, 7, 0, 7]), tensor([4, 8, 6, 3, 4, 2, 3, 6, 9, 6, 2, 4, 9, 1, 8, 1, 7, 5, 5, 6, 6, 2, 1, 0,\n",
      "        5, 4, 0, 0, 2, 7, 5, 0]), tensor([2, 5, 9, 6, 8, 6, 0, 4, 6, 2, 9, 3, 7, 7, 1, 4, 4, 0, 5, 0, 9, 9, 8, 8,\n",
      "        2, 3, 2, 4, 6, 6, 3, 2]), tensor([3, 7, 4, 9, 3, 4, 7, 7, 0, 3, 9, 5, 6, 4, 5, 9, 6, 3, 7, 5, 1, 9, 8, 8,\n",
      "        9, 9, 2, 7, 2, 2, 3, 8]), tensor([7, 4, 4, 5, 4, 8, 6, 1, 4, 9, 3, 1, 6, 8, 0, 8, 7, 8, 2, 3, 3, 9, 4, 3,\n",
      "        6, 0, 4, 8, 0, 2, 9, 2]), tensor([6, 3, 6, 7, 0, 2, 1, 1, 3, 6, 6, 5, 9, 0, 1, 6, 5, 1, 4, 4, 8, 4, 7, 7,\n",
      "        3, 8, 3, 1, 9, 8, 1, 3]), tensor([3, 7, 5, 0, 5, 7, 8, 9, 6, 0, 0, 8, 4, 6, 3, 8, 6, 0, 5, 2, 7, 1, 0, 3,\n",
      "        5, 4, 8, 6, 2, 1, 1, 7]), tensor([9, 6, 2, 7, 1, 1, 8, 2, 2, 0, 1, 4, 4, 9, 6, 8, 4, 5, 9, 0, 3, 9, 1, 9,\n",
      "        8, 7, 4, 2, 2, 5, 3, 7]), tensor([0, 7, 2, 9, 3, 7, 0, 9, 3, 8, 4, 4, 7, 2, 3, 6, 2, 0, 7, 8, 4, 2, 6, 8,\n",
      "        5, 6, 4, 5, 5, 8, 1, 1]), tensor([7, 4, 3, 9, 6, 8, 7, 2, 2, 1, 6, 7, 7, 4, 9, 8, 5, 3, 3, 3, 2, 3, 9, 3,\n",
      "        1, 9, 3, 5, 5, 2, 0, 7]), tensor([0, 2, 3, 1, 3, 1, 3, 8, 7, 2, 4, 9, 5, 2, 9, 3, 3, 4, 4, 6, 0, 8, 2, 2,\n",
      "        8, 6, 3, 6, 2, 7, 4, 3]), tensor([8, 6, 2, 4, 0, 4, 4, 6, 8, 3, 8, 2, 0, 4, 4, 8, 8, 4, 5, 2, 2, 3, 0, 1,\n",
      "        7, 0, 9, 1, 7, 3, 5, 4]), tensor([2, 7, 4, 8, 5, 0, 6, 0, 7, 5, 5, 9, 5, 6, 6, 0, 3, 2, 4, 4, 6, 7, 1, 3,\n",
      "        4, 6, 6, 5, 1, 6, 7, 3]), tensor([4, 8, 8, 2, 8, 7, 3, 1, 6, 5, 2, 7, 8, 5, 6, 8, 5, 2, 2, 8, 9, 8, 3, 3,\n",
      "        0, 8, 8, 3, 0, 7, 4, 4]), tensor([8, 1, 3, 6, 1, 9, 2, 1, 6, 2, 7, 9, 2, 6, 0, 4, 4, 2, 4, 5, 0, 2, 8, 3,\n",
      "        7, 4, 4, 0, 0, 5, 4, 8]), tensor([2, 4, 2, 0, 2, 1, 7, 7, 5, 4, 7, 2, 2, 7, 3, 3, 1, 3, 6, 6, 6, 1, 9, 6,\n",
      "        4, 7, 1, 0, 6, 5, 8, 4]), tensor([2, 7, 9, 8, 0, 7, 9, 8, 1, 2, 9, 8, 8, 3, 9, 9, 1, 6, 7, 8, 6, 1, 7, 2,\n",
      "        7, 1, 1, 8, 5, 6, 4, 8]), tensor([9, 5, 5, 2, 3, 9, 3, 8, 5, 4, 6, 0, 6, 5, 7, 2, 8, 2, 6, 4, 4, 7, 6, 0,\n",
      "        5, 1, 7, 2, 3, 6, 8, 9]), tensor([8, 7, 1, 2, 3, 2, 9, 7, 5, 6, 3, 0, 7, 3, 2, 4, 9, 3, 6, 4, 4, 3, 0, 0,\n",
      "        2, 3, 6, 1, 3, 7, 4, 5]), tensor([3, 9, 1, 1, 8, 2, 9, 5, 0, 7, 4, 6, 7, 1, 1, 5, 3, 8, 7, 8, 3, 8, 9, 2,\n",
      "        2, 1, 1, 3, 5, 6, 7, 3]), tensor([9, 9, 2, 4, 7, 0, 1, 3, 9, 6, 3, 7, 2, 8, 1, 8, 0, 7, 9, 8, 5, 3, 2, 6,\n",
      "        4, 6, 6, 5, 8, 3, 8, 7]), tensor([5, 7, 3, 7, 0, 7, 0, 4, 2, 5, 3, 5, 1, 1, 7, 7, 6, 6, 6, 4, 2, 8, 6, 3,\n",
      "        1, 4, 9, 9, 4, 5, 2, 2]), tensor([7, 8, 0, 7, 9, 1, 2, 9, 4, 5, 3, 2, 3, 3, 1, 8, 8, 5, 3, 8, 6, 6, 4, 3,\n",
      "        2, 0, 2, 7, 3, 6, 8, 3]), tensor([9, 7, 3, 1, 7, 5, 8, 8, 6, 3, 0, 4, 4, 8, 5, 7, 0, 6, 6, 7, 7, 3, 9, 4,\n",
      "        5, 9, 7, 3, 7, 2, 4, 5]), tensor([1, 4, 7, 4, 5, 0, 4, 2, 1, 4, 4, 8, 4, 7, 9, 4, 1, 1, 7, 2, 3, 5, 6, 3,\n",
      "        9, 7, 5, 3, 8, 8, 8, 7]), tensor([1, 1, 6, 3, 1, 4, 3, 4, 9, 9, 6, 0, 6, 9, 4, 9, 0, 6, 3, 8, 9, 2, 9, 4,\n",
      "        8, 0, 7, 2, 3, 6, 2, 5]), tensor([6, 1, 9, 3, 2, 2, 9, 9, 0, 8, 3, 6, 6, 6, 0, 4, 2, 6, 6, 5, 0, 2, 7, 8,\n",
      "        7, 4, 6, 6, 6, 5, 2, 4]), tensor([2, 9, 5, 2, 6, 7, 0, 1, 9, 5, 5, 0, 7, 7, 5, 0, 5, 6, 3, 4, 7, 9, 8, 2,\n",
      "        2, 7, 3, 3, 7, 7, 7, 8]), tensor([4, 9, 5, 7, 6, 8, 7, 5, 1, 3, 0, 4, 9, 9, 8, 3, 7, 2, 4, 4, 9, 3, 3, 1,\n",
      "        7, 9, 1, 8, 7, 2, 8, 6]), tensor([5, 7, 6, 7, 5, 5, 4, 0, 7, 6, 3, 2, 6, 2, 9, 9, 0, 6, 6, 8, 3, 8, 8, 6,\n",
      "        4, 1, 8, 2, 6, 5, 0, 4]), tensor([4, 3, 0, 0, 1, 6, 8, 4, 9, 0, 7, 6, 7, 7, 1, 5, 8, 7, 2, 9, 9, 3, 2, 6,\n",
      "        1, 1, 1, 8, 8, 1, 3, 7]), tensor([5, 2, 0, 8, 4, 8, 9, 4, 1, 3, 3, 9, 6, 3, 3, 3, 8, 6, 9, 9, 7, 6, 0, 4,\n",
      "        2, 3, 1, 7, 7, 4, 2, 0]), tensor([3, 6, 4, 8, 1, 9, 2, 4, 2, 2, 3, 8, 7, 1, 8, 7, 5, 7, 9, 6, 6, 2, 9, 0,\n",
      "        4, 3, 5, 5, 0, 2, 1, 0]), tensor([3, 7, 7, 3, 7, 4, 5, 7, 9, 8, 9, 1, 4, 8, 3, 2, 6, 6, 0, 8, 3, 8, 6, 8,\n",
      "        6, 0, 8, 8, 4, 2, 9, 3]), tensor([2, 0, 8, 5, 9, 6, 3, 1, 1, 9, 5, 1, 3, 3, 6, 0, 8, 4, 1, 3, 8, 8, 6, 7,\n",
      "        5, 6, 6, 7, 3, 3, 2, 4]), tensor([6, 5, 8, 6, 2, 3, 9, 1, 1, 7, 3, 8, 7, 2, 2, 9, 3, 9, 9, 0, 3, 7, 1, 4,\n",
      "        8, 1, 6, 9, 3, 4, 0, 0]), tensor([7, 6, 9, 9, 5, 5, 7, 0, 9, 3, 3, 6, 9, 8, 4, 2, 6, 3, 9, 4, 3, 6, 7, 4,\n",
      "        0, 3, 8, 1, 8, 7, 4, 4]), tensor([5, 2, 2, 9, 1, 9, 4, 9, 1, 6, 2, 8, 8, 7, 7, 7, 7, 2, 6, 0, 7, 5, 8, 5,\n",
      "        3, 0, 2, 4, 9, 2, 4, 3]), tensor([1, 9, 3, 1, 2, 2, 2, 3, 7, 8, 7, 4, 4, 6, 1, 2, 8, 5, 4, 8, 9, 1, 8, 9,\n",
      "        3, 6, 6, 8, 0, 1, 8, 7]), tensor([4, 6, 7, 7, 6, 0, 4, 3, 4, 7, 8, 7, 2, 8, 0, 8, 7, 6, 4, 6, 7, 0, 9, 9,\n",
      "        3, 1, 5, 9, 3, 1, 6, 3]), tensor([3, 8, 9, 7, 9, 8, 3, 8, 9, 3, 7, 9, 3, 4, 6, 0, 5, 7, 7, 2, 4, 8, 3, 1,\n",
      "        1, 9, 4, 3, 9, 5, 8, 7]), tensor([2, 4, 9, 0, 2, 1, 9, 7, 1, 5, 0, 5, 5, 3, 3, 0, 0, 4, 3, 7, 4, 2, 6, 8,\n",
      "        5, 9, 2, 1, 3, 5, 5, 8]), tensor([5, 3, 7, 2, 4, 3, 9, 6, 0, 3, 9, 1, 4, 3, 1, 5, 3, 8, 5, 1, 1, 2, 9, 4,\n",
      "        6, 5, 2, 8, 6, 2, 9, 8]), tensor([2, 4, 8, 3, 8, 0, 4, 2, 0, 4, 8, 5, 2, 9, 0, 9, 5, 8, 0, 9, 1, 2, 7, 2,\n",
      "        1, 2, 6, 3, 2, 5, 2, 4]), tensor([8, 7, 5, 2, 6, 6, 8, 3, 6, 1, 9, 2, 7, 7, 2, 6, 4, 8, 3, 4, 8, 5, 6, 8,\n",
      "        3, 3, 1, 4, 2, 0, 4, 9]), tensor([6, 4, 1, 9, 9, 8, 1, 6, 8, 3, 3, 3, 8, 5, 9, 2, 2, 8, 7, 6, 3, 6, 6, 4,\n",
      "        5, 7, 5, 0, 7, 9, 1, 2]), tensor([4, 8, 9, 3, 5, 2, 0, 4, 6, 7, 8, 9, 1, 8, 2, 5, 5, 3, 1, 1, 8, 8, 3, 0,\n",
      "        7, 0, 1, 8, 2, 6, 2, 9]), tensor([8, 8, 8, 8, 6, 9, 1, 8, 2, 2, 7, 7, 0, 8, 1, 1, 0, 6, 4, 3, 0, 4, 3, 3,\n",
      "        1, 2, 3, 3, 4, 2, 5, 6]), tensor([9, 8, 3, 3, 1, 0, 2, 1, 2, 4, 2, 8, 4, 7, 0, 9, 9, 5, 3, 6, 6, 7, 0, 3,\n",
      "        9, 7, 3, 6, 1, 9, 6, 1]), tensor([0, 4, 5, 4, 1, 4, 8, 5, 9, 4, 5, 3, 3, 8, 3, 6, 6, 8, 9, 0, 7, 6, 2, 6,\n",
      "        7, 3, 2, 2, 8, 7, 9, 2]), tensor([3, 1, 6, 3, 6, 2, 7, 4, 1, 2, 6, 4, 4, 4, 8, 5, 6, 8, 8, 2, 7, 8, 1, 5,\n",
      "        9, 6, 6, 9, 0, 9, 3, 7]), tensor([5, 7, 9, 6, 0, 7, 1, 5, 5, 9, 5, 4, 4, 2, 4, 5, 9, 7, 4, 2, 6, 9, 9, 3,\n",
      "        2, 1, 3, 7, 1, 8, 7, 7]), tensor([1, 8, 9, 3, 7, 7, 7, 1, 7, 4, 4, 6, 2, 3, 5, 2, 8, 9, 6, 8, 6, 0, 7, 7,\n",
      "        5, 0, 1, 9, 3, 0, 4, 9]), tensor([2, 2, 6, 9, 1, 0, 5, 8, 9, 2, 8, 2, 3, 6, 0, 7, 4, 8, 7, 4, 1, 7, 8, 2,\n",
      "        4, 0, 4, 4, 1, 6, 6, 9]), tensor([2, 9, 6, 5, 2, 3, 3, 8, 8, 2, 0, 7, 2, 4, 0, 4, 3, 3, 8, 1, 7, 7, 2, 6,\n",
      "        3, 1, 2, 7, 2, 6, 0, 6]), tensor([2, 7, 2, 6, 3, 2, 3, 0, 9, 7, 3, 7, 4, 9, 2, 2, 5, 0, 6, 8, 4, 0, 4, 4,\n",
      "        0, 6, 1, 6, 4, 2, 7, 1]), tensor([0, 4, 3, 1, 1, 5, 6, 3, 8, 3, 3, 3, 8, 2, 9, 8, 8, 4, 5, 5, 6, 7, 2, 9,\n",
      "        1, 0, 5, 3, 7, 2, 1, 1]), tensor([8, 6, 2, 0, 5, 9, 6, 3, 8, 1, 6, 4, 6, 6, 2, 8, 3, 4, 2, 3, 9, 2, 7, 9,\n",
      "        5, 7, 2, 1, 8, 8, 8, 2]), tensor([2, 4, 6, 3, 1, 2, 4, 0, 3, 9, 8, 4, 0, 3, 4, 3, 9, 7, 1, 1, 7, 5, 1, 9,\n",
      "        2, 4, 2, 3, 8, 6, 7, 1]), tensor([3, 0, 7, 4, 5, 8, 1, 4, 2, 3, 4, 8, 8, 8, 4, 4, 1, 8, 9, 3, 0, 6, 6, 2,\n",
      "        9, 7, 3, 7, 0, 1, 4, 5]), tensor([9, 6, 0, 8, 0, 5, 8, 7, 4, 6, 2, 8, 6, 4, 9, 3, 0, 5, 8, 1, 1, 2, 6, 0,\n",
      "        0, 8, 4, 2, 3, 3, 9, 7]), tensor([4, 3, 3, 1, 8, 1, 5, 2, 0, 6, 7, 9, 3, 2, 7, 3, 7, 4, 1, 6, 2, 8, 6, 7,\n",
      "        6, 4, 9, 3, 2, 5, 6, 8]), tensor([6, 2, 6, 7, 4, 2, 1, 1, 0, 3, 5, 5, 2, 6, 4, 1, 8, 8, 4, 4, 3, 4, 2, 9,\n",
      "        2, 3, 9, 6, 2, 6, 6, 4]), tensor([5, 4, 9, 8, 1, 6, 3, 6, 2, 9, 4, 3, 5, 1, 4, 6, 0, 1, 1, 0, 2, 6, 7, 7,\n",
      "        0, 1, 2, 4, 3, 7, 2, 1]), tensor([1, 7, 7, 8, 7, 6, 5, 3, 7, 2, 0, 9, 6, 1, 4, 2, 2, 5, 8, 5, 2, 7, 8, 4,\n",
      "        6, 9, 0, 8, 1, 3, 8, 2]), tensor([8, 2, 0, 6, 3, 8, 7, 8, 2, 2, 6, 6, 0, 4, 5, 3, 4, 3, 1, 9, 7, 0, 6, 6,\n",
      "        1, 4, 2, 7, 5, 1, 8, 3]), tensor([0, 7, 9, 8, 7, 2, 7, 9, 7, 2, 2, 2, 6, 3, 3, 9, 1, 1, 4, 8, 0, 9, 7, 5,\n",
      "        4, 8, 8, 3, 6, 3, 6, 8]), tensor([2, 2, 5, 9, 2, 4, 8, 4, 2, 8, 3, 6, 2, 1, 3, 0, 1, 8, 4, 1, 5, 8, 1, 5,\n",
      "        8, 6, 7, 7, 7, 5, 6, 5]), tensor([5, 3, 6, 7, 8, 4, 5, 1, 6, 2, 2, 4, 3, 7, 7, 9, 7, 2, 5, 8, 5, 8, 5, 3,\n",
      "        0, 9, 7, 2, 0, 6, 8, 4]), tensor([6, 5, 4, 7, 6, 8, 4, 5, 0, 3, 4, 0, 2, 9, 8, 1, 3, 8, 1, 5, 3, 6, 1, 3,\n",
      "        6, 6, 9, 8, 2, 8, 2, 7]), tensor([7, 1, 3, 0, 3, 0, 7, 8, 7, 6, 5, 2, 6, 7, 5, 5, 8, 9, 7, 3, 2, 4, 8, 3,\n",
      "        9, 5, 7, 6, 2, 2, 7, 3]), tensor([8, 5, 1, 8, 9, 2, 2, 1, 2, 2, 7, 4, 0, 4, 4, 8, 9, 7, 9, 2, 2, 8, 4, 6,\n",
      "        0, 6, 3, 3, 1, 5, 2, 7]), tensor([5, 3, 7, 2, 2, 3, 5, 3, 1, 2, 7, 3, 8, 8, 7, 5, 6, 9, 5, 5, 4, 0, 7, 1,\n",
      "        4, 6, 0, 9, 9, 6, 3, 8]), tensor([0, 7, 7, 8, 0, 2, 9, 6, 6, 4, 8, 1, 6, 4, 8, 0, 7, 8, 8, 9, 7, 7, 5, 3,\n",
      "        7, 6, 3, 2, 0, 3, 4, 2]), tensor([0, 8, 9, 4, 5, 6, 3, 1, 2, 8, 7, 0, 5, 2, 2, 8, 6, 3, 8, 6, 8, 7, 2, 7,\n",
      "        2, 3, 2, 7, 1, 2, 3, 4]), tensor([2, 4, 3, 9, 9, 2, 8, 0, 4, 0, 6, 1, 9, 3, 9, 6, 8, 6, 9, 4, 7, 9, 1, 5,\n",
      "        8, 1, 3, 6, 2, 4, 8, 3]), tensor([3, 3, 0, 0, 6, 3, 3, 1, 4, 8, 4, 9, 3, 0, 2, 5, 2, 8, 8, 6, 1, 4, 8, 9,\n",
      "        8, 5, 8, 9, 6, 7, 2, 7]), tensor([3, 8, 5, 8, 3, 2, 8, 5, 9, 9, 2, 0, 6, 7, 1, 8, 8, 8, 7, 2, 0, 9, 7, 9,\n",
      "        6, 9, 4, 1, 4, 7, 2, 5]), tensor([2, 6, 2, 9, 0, 7, 1, 9, 7, 2, 5, 3, 8, 4, 9, 4, 7, 5, 7, 5, 1, 3, 3, 2,\n",
      "        0, 7, 5, 3, 5, 5, 8, 7]), tensor([9, 4, 6, 5, 5, 3, 4, 8, 3, 0, 9, 2, 3, 2, 2, 9, 6, 6, 9, 1, 4, 8, 1, 4,\n",
      "        9, 8, 2, 6, 7, 6, 0, 2]), tensor([6, 3, 6, 3, 0, 5, 2, 3, 2, 8, 5, 0, 7, 4, 6, 4, 8, 3, 5, 1, 6, 7, 1, 6,\n",
      "        9, 3, 7, 4, 6, 0, 2, 5]), tensor([6, 3, 6, 6, 3, 1, 7, 9, 4, 6, 7, 3, 0, 2, 8, 1, 0, 9, 9, 7, 8, 4, 6, 9,\n",
      "        7, 7, 6, 8, 6, 7, 5, 3]), tensor([5, 5, 0, 8, 9, 7, 2, 1, 4, 7, 1, 3, 4, 3, 2, 2, 9, 4, 7, 7, 6, 5, 0, 8,\n",
      "        8, 6, 8, 5, 6, 0, 7, 3]), tensor([6, 6, 4, 5, 2, 0, 7, 7, 7, 1, 8, 2, 4, 8, 5, 4, 4, 8, 7, 7, 2, 7, 1, 6,\n",
      "        9, 5, 3, 9, 3, 5, 0, 7]), tensor([4, 6, 6, 1, 2, 5, 9, 3, 2, 8, 5, 7, 3, 1, 4, 0, 8, 1, 8, 5, 6, 9, 3, 3,\n",
      "        6, 6, 4, 2, 0, 6, 4, 2]), tensor([3, 2, 5, 9, 1, 1, 9, 4, 7, 0, 3, 1, 0, 0, 7, 7, 0, 7, 8, 0, 5, 6, 4, 4,\n",
      "        8, 9, 7, 2, 9, 5, 3, 7]), tensor([2, 4, 1, 9, 7, 8, 1, 3, 7, 3, 6, 7, 8, 6, 5, 6, 7, 9, 9, 7, 0, 4, 2, 3,\n",
      "        4, 0, 7, 5, 3, 9, 2, 8]), tensor([8, 6, 0, 4, 1, 9, 3, 3, 5, 1, 7, 5, 9, 2, 8, 5, 5, 9, 5, 6, 6, 7, 3, 8,\n",
      "        4, 2, 0, 7, 4, 8, 1, 9]), tensor([2, 6, 2, 4, 6, 8, 7, 7, 3, 9, 3, 9, 6, 8, 2, 6, 9, 0, 3, 2, 5, 5, 6, 4,\n",
      "        6, 4, 1, 3, 1, 6, 7, 8]), tensor([8, 9, 7, 6, 5, 7, 3, 4, 0, 4, 2, 3, 6, 8, 8, 8, 0, 2, 3, 2, 8, 6, 1, 4,\n",
      "        1, 1, 6, 3, 2, 2, 9, 0]), tensor([0, 4, 1, 3, 2, 5, 0, 6, 7, 5, 9, 2, 5, 0, 9, 9, 8, 4, 8, 3, 2, 0, 9, 2,\n",
      "        2, 4, 3, 8, 2, 3, 6, 5]), tensor([0, 2, 7, 3, 7, 8, 8, 2, 4, 8, 8, 0, 1, 5, 8, 9, 8, 7, 2, 0, 3, 0, 3, 0,\n",
      "        7, 3, 9, 9, 1, 5, 9, 4]), tensor([1, 7, 6, 1, 0, 5, 3, 8, 6, 4, 1, 7, 0, 5, 0, 4, 1, 7, 1, 7, 9, 4, 3, 9,\n",
      "        2, 2, 9, 3, 5, 8, 8, 4]), tensor([4, 7, 7, 4, 2, 0, 5, 5, 3, 6, 2, 7, 6, 8, 5, 6, 7, 1, 3, 1, 4, 5, 9, 3,\n",
      "        7, 0, 3, 5, 6, 1, 5, 8]), tensor([5, 6, 6, 9, 1, 9, 1, 7, 1, 8, 0, 3, 4, 0, 2, 8, 3, 3, 8, 8, 0, 3, 4, 8,\n",
      "        1, 4, 3, 3, 2, 2, 1, 8]), tensor([0, 2, 6, 2, 4, 2, 3, 9, 2, 3, 0, 4, 8, 7, 1, 6, 1, 2, 0, 0, 8, 5, 1, 6,\n",
      "        5, 2, 8, 1, 7, 1, 6, 4]), tensor([7, 4, 6, 1, 5, 6, 3, 5, 8, 7, 7, 7, 2, 7, 5, 4, 2, 2, 0, 4, 6, 9, 9, 5,\n",
      "        8, 0, 4, 4, 1, 3, 7, 3]), tensor([6, 0, 9, 8, 5, 3, 0, 7, 1, 9, 7, 8, 4, 6, 9, 9, 1, 2, 2, 3, 2, 4, 5, 1,\n",
      "        0, 4, 8, 3, 4, 8, 3, 4]), tensor([0, 0, 3, 6, 7, 4, 4, 1, 7, 3, 6, 7, 9, 9, 1, 8, 8, 9, 1, 2, 6, 1, 2, 8,\n",
      "        2, 5, 9, 8, 0, 6, 2, 7]), tensor([2, 7, 5, 6, 8, 7, 8, 2, 4, 9, 1, 5, 5, 9, 9, 4, 4, 2, 1, 0, 0, 8, 7, 6,\n",
      "        1, 7, 5, 2, 7, 0, 3, 4]), tensor([4, 8, 4, 0, 6, 7, 3, 3, 3, 6, 3, 8, 0, 3, 2, 3, 2, 7, 5, 8, 0, 7, 0, 8,\n",
      "        9, 0, 2, 1, 4, 5, 1, 3]), tensor([4, 7, 6, 4, 8, 9, 1, 4, 3, 1, 2, 8, 0, 3, 0, 2, 2, 0, 2, 3, 4, 7, 2, 3,\n",
      "        4, 0, 8, 5, 4, 0, 1, 0]), tensor([4, 2, 6, 7, 9, 6, 2, 4, 3, 6, 8, 5, 4, 4, 0, 3, 3, 5, 2, 5, 1, 5, 5, 1,\n",
      "        7, 7, 2, 1, 8, 8, 0, 9]), tensor([0, 0, 0, 3, 2, 1, 8, 3, 4, 2, 1, 2, 0, 3, 6, 8, 5, 1, 7, 0, 2, 6, 3, 9,\n",
      "        8, 2, 8, 1, 0, 2, 6, 2]), tensor([6, 3, 7, 5, 0, 6, 2, 0, 8, 2, 4, 1, 8, 6, 8, 2, 9, 2, 4, 8, 5, 2, 7, 3,\n",
      "        2, 4, 6, 0, 4, 8, 5, 4]), tensor([1, 5, 2, 8, 2, 9, 3, 6, 3, 6, 4, 2, 7, 7, 9, 0, 2, 9, 8, 3, 5, 8, 7, 7,\n",
      "        0, 7, 7, 0, 7, 7, 2, 9]), tensor([5, 4, 2, 2, 4, 8, 0, 1, 9, 8, 6, 2, 4, 4, 3, 8, 0, 7, 6, 4, 3, 8, 1, 3,\n",
      "        8, 7, 3, 0, 3, 2, 8, 8]), tensor([9, 1, 3, 2, 1, 4, 8, 6, 4, 6, 7, 3, 9, 4, 9, 0, 4, 6, 5, 7, 0, 8, 1, 7,\n",
      "        5, 4, 9, 5, 7, 3, 6, 0]), tensor([9, 8, 7, 3, 7, 7, 4, 7, 8, 8, 8, 2, 4, 6, 2, 3, 8, 9, 7, 1, 3, 4, 2, 9,\n",
      "        7, 1, 2, 2, 6, 0, 7, 5]), tensor([4, 5, 2, 8, 9, 2, 9, 9, 1, 4, 3, 1, 5, 5, 5, 0, 8, 1, 5, 7, 7, 7, 9, 8,\n",
      "        0, 1, 3, 2, 6, 0, 9, 3]), tensor([2, 4, 4, 8, 6, 5, 4, 9, 0, 2, 8, 4, 8, 6, 3, 6, 1, 4, 3, 3, 8, 2, 9, 9,\n",
      "        0, 7, 9, 5, 3, 1, 7, 2]), tensor([8, 4, 9, 3, 1, 6, 0, 8, 8, 1, 9, 3, 2, 8, 3, 8, 4, 2, 5, 6, 9, 6, 1, 2,\n",
      "        0, 7, 9, 0, 1, 3, 9, 5]), tensor([1, 2, 1, 1, 3, 8, 3, 9, 5, 4, 6, 3, 7, 7, 7, 2, 3, 9, 1, 9, 2, 6, 0, 8,\n",
      "        6, 2, 7, 8, 0, 3, 4, 9]), tensor([6, 4, 0, 2, 7, 9, 6, 3, 3, 2, 0, 8, 8, 7, 3, 2, 7, 5, 7, 6, 1, 8, 1, 4,\n",
      "        9, 8, 9, 3, 1, 0, 3, 0]), tensor([3, 0, 6, 4, 1, 9, 7, 1, 2, 6, 5, 3, 4, 1, 7, 6, 7, 0, 2, 8, 8, 1, 4, 9,\n",
      "        7, 6, 3, 4, 9, 3, 9, 8]), tensor([5, 3, 8, 4, 7, 1, 4, 1, 9, 6, 8, 3, 2, 4, 8, 1, 1, 5, 8, 2, 1, 6, 2, 9,\n",
      "        0, 9, 5, 3, 5, 6, 6, 5]), tensor([6, 8, 3, 8, 0, 2, 9, 9, 1, 5, 3, 2, 6, 8, 3, 6, 3, 0, 7, 4, 0, 4, 1, 9,\n",
      "        9, 1, 7, 8, 7, 7, 9, 6]), tensor([8, 2, 6, 6, 4, 6, 2, 1, 1, 4, 6, 8, 4, 9, 0, 5, 8, 1, 6, 6, 3, 2, 4, 8,\n",
      "        6, 6, 9, 3, 2, 9, 7, 2]), tensor([6, 2, 6, 8, 9, 6, 6, 4, 7, 7, 9, 7, 3, 6, 7, 2, 7, 3, 0, 2, 0, 9, 4, 3,\n",
      "        3, 1, 9, 5, 8, 2, 3, 5]), tensor([0, 6, 4, 5, 2, 3, 5, 2, 7, 7, 6, 0, 9, 7, 1, 2, 2, 5, 3, 0, 6, 1, 3, 0,\n",
      "        5, 4, 8, 5, 7, 0, 0, 8]), tensor([3, 5, 2, 4, 9, 8, 9, 9, 8, 1, 7, 5, 0, 1, 5, 3, 3, 3, 3, 4, 2, 3, 6, 7,\n",
      "        8, 6, 9, 6, 6, 0, 4, 2]), tensor([9, 3, 5, 7, 3, 7, 8, 6, 6, 2, 2, 3, 1, 0, 7, 5, 6, 6, 4, 1, 1, 2, 7, 2,\n",
      "        3, 5, 9, 0, 4, 4, 4, 8]), tensor([9, 9, 2, 6, 9, 8, 3, 5, 3, 1, 4, 5, 0, 1, 8, 5, 8, 4, 6, 7, 8, 9, 2, 4,\n",
      "        6, 4, 2, 2, 4, 7, 9, 1]), tensor([9, 7, 4, 5, 6, 3, 2, 4, 8, 6, 1, 5, 8, 6, 4, 4, 9, 4, 7, 8, 3, 0, 2, 7,\n",
      "        7, 5, 9, 7, 7, 3, 8, 7]), tensor([5, 9, 7, 8, 2, 1, 6, 8, 6, 2, 6, 7, 9, 2, 2, 5, 2, 3, 4, 1, 1, 7, 0, 5,\n",
      "        5, 4, 7, 8, 9, 3, 5, 4]), tensor([6, 6, 5, 5, 8, 4, 8, 8, 7, 4, 9, 4, 9, 2, 9, 7, 3, 9, 7, 3, 2, 6, 2, 8,\n",
      "        7, 9, 2, 0, 2, 4, 1, 0]), tensor([3, 8, 6, 8, 2, 4, 6, 3, 5, 7, 7, 8, 5, 6, 3, 2, 1, 8, 3, 2, 5, 4, 2, 3,\n",
      "        0, 8, 3, 3, 4, 9, 0, 9]), tensor([7, 0, 1, 8, 3, 6, 3, 8, 6, 8, 5, 1, 3, 4, 1, 9, 3, 5, 0, 4, 2, 0, 1, 5,\n",
      "        3, 2, 8, 5, 7, 8, 6, 4]), tensor([1, 0, 6, 2, 5, 9, 6, 7, 2, 3, 6, 4, 6, 3, 3, 9, 4, 7, 0, 8, 6, 5, 6, 2,\n",
      "        0, 1, 3, 9, 4, 2, 5, 6]), tensor([8, 3, 2, 5, 6, 0, 6, 0, 6, 9, 1, 3, 4, 2, 5, 8, 6, 6, 1, 4, 9, 7, 2, 4,\n",
      "        7, 8, 7, 1, 4, 8, 7, 9]), tensor([7, 7, 0, 2, 9, 2, 8, 6, 7, 8, 4, 5, 2, 7, 4, 1, 4, 5, 9, 6, 5, 7, 7, 3,\n",
      "        8, 1, 9, 4, 8, 3, 8, 7]), tensor([6, 9, 5, 3, 3, 6, 9, 3, 4, 2, 5, 3, 4, 9, 9, 1, 2, 2, 2, 4, 6, 8, 7, 9,\n",
      "        9, 4, 8, 8, 9, 0, 7, 6]), tensor([4, 2, 8, 8, 4, 2, 0, 1, 2, 0, 2, 1, 5, 4, 6, 0, 0, 3, 4, 5, 2, 8, 7, 6,\n",
      "        0, 3, 1, 8, 4, 8, 9, 9]), tensor([5, 5, 8, 2, 5, 4, 4, 2, 5, 2, 9, 2, 7, 1, 0, 2, 4, 6, 7, 8, 3, 4, 9, 1,\n",
      "        9, 2, 7, 3, 5, 4, 3, 4]), tensor([2, 1, 0, 2, 4, 3, 7, 8, 4, 9, 5, 9, 0, 4, 3, 4, 5, 5, 5, 7, 6, 1, 3, 3,\n",
      "        7, 6, 9, 7, 6, 8, 3, 5]), tensor([5, 8, 1, 9, 4, 6, 4, 2, 1, 6, 3, 1, 2, 5, 3, 6, 1, 1, 7, 8, 2, 5, 9, 0,\n",
      "        8, 3, 6, 4, 2, 7, 0, 7]), tensor([3, 3, 2, 3, 5, 1, 2, 2, 3, 3, 0, 6, 6, 4, 8, 7, 0, 3, 3, 4, 7, 3, 3, 6,\n",
      "        2, 2, 4, 4, 1, 8, 3, 9]), tensor([3, 2, 2, 4, 2, 3, 3, 3, 5, 3, 5, 8, 3, 9, 7, 4, 0, 6, 1, 6, 1, 0, 7, 7,\n",
      "        4, 8, 9, 6, 1, 5, 4, 9]), tensor([4, 7, 9, 9, 9, 0, 1, 0, 9, 9, 5, 1, 7, 2, 9, 3, 5, 6, 8, 1, 7, 4, 3, 8,\n",
      "        2, 7, 8, 8, 9, 6, 8, 4]), tensor([9, 6, 4, 5, 9, 0, 0, 5, 4, 7, 7, 4, 4, 7, 4, 5, 8, 3, 7, 2, 7, 1, 8, 8,\n",
      "        8, 7, 8, 6, 0, 5, 7, 9]), tensor([8, 5, 6, 0, 6, 2, 3, 2, 8, 9, 9, 1, 9, 5, 8, 4, 4, 6, 4, 6, 7, 2, 8, 3,\n",
      "        0, 7, 8, 8, 3, 9, 9, 5]), tensor([9, 2, 6, 7, 7, 8, 7, 4, 7, 9, 2, 3, 9, 5, 3, 8, 3, 1, 2, 9, 1, 2, 8, 5,\n",
      "        1, 7, 9, 0, 3, 3, 6, 9]), tensor([3, 2, 3, 0, 0, 6, 9, 7, 1, 9, 8, 5, 6, 8, 8, 9, 5, 2, 4, 2, 5, 4, 2, 5,\n",
      "        4, 2, 7, 1, 6, 6, 3, 4]), tensor([5, 6, 4, 6, 7, 8, 5, 1, 3, 2, 3, 4, 4, 4, 1, 9, 0, 7, 2, 7, 3, 2, 9, 7,\n",
      "        6, 6, 6, 1, 7, 1, 4, 7]), tensor([6, 1, 7, 3, 6, 3, 4, 6, 8, 0, 4, 1, 7, 9, 6, 2, 9, 2, 6, 7, 1, 7, 5, 2,\n",
      "        9, 8, 6, 4, 0, 3, 3, 2]), tensor([2, 8, 3, 6, 8, 1, 8, 1, 0, 1, 4, 7, 3, 7, 7, 3, 3, 9, 9, 0, 6, 2, 5, 8,\n",
      "        9, 6, 3, 5, 4, 1, 6, 9]), tensor([4, 3, 2, 6, 1, 8, 3, 3, 4, 0, 2, 1, 9, 0, 5, 3, 5, 3, 6, 4, 1, 8, 0, 7,\n",
      "        3, 6, 2, 3, 4, 4, 5, 2]), tensor([9, 6, 8, 0, 4, 6, 0, 1, 7, 7, 2, 3, 3, 2, 0, 3, 8, 2, 6, 2, 5, 1, 4, 2,\n",
      "        2, 1, 7, 3, 4, 6, 9, 8]), tensor([8, 0, 6, 3, 6, 6, 8, 1, 2, 3, 3, 1, 9, 5, 3, 2, 4, 7, 1, 9, 2, 9, 0, 4,\n",
      "        2, 4, 8, 6, 9, 4, 7, 0]), tensor([3, 1, 3, 8, 3, 4, 1, 2, 0, 3, 0, 7, 7, 8, 3, 2, 9, 5, 4, 6, 9, 5, 2, 3,\n",
      "        8, 7, 3, 8, 3, 7, 9, 0]), tensor([2, 5, 1, 0, 5, 6, 3, 9, 7, 9, 6, 0, 7, 1, 2, 0, 8, 6, 2, 2, 7, 8, 6, 4,\n",
      "        4, 6, 9, 7, 3, 2, 5, 4]), tensor([5, 1, 9, 5, 0, 5, 2, 4, 1, 7, 9, 3, 3, 3, 4, 9, 1, 3, 3, 9, 5, 6, 8, 2,\n",
      "        4, 3, 4, 0, 6, 7, 9, 0]), tensor([0, 0, 2, 3, 6, 9, 8, 1, 3, 7, 0, 9, 9, 5, 4, 2, 3, 6, 8, 8, 5, 5, 1, 8,\n",
      "        8, 5, 7, 9, 9, 3, 4, 4]), tensor([2, 7, 9, 6, 6, 7, 5, 4, 7, 6, 1, 4, 2, 2, 0, 9, 6, 0, 5, 1, 1, 8, 8, 3,\n",
      "        2, 6, 2, 0, 6, 4, 9, 5]), tensor([2, 4, 4, 4, 6, 1, 5, 2, 7, 8, 6, 7, 7, 0, 8, 4, 6, 6, 9, 1, 2, 1, 7, 4,\n",
      "        3, 4, 9, 9, 6, 6, 4, 3]), tensor([3, 3, 7, 5, 2, 7, 8, 9, 9, 2, 7, 8, 7, 7, 3, 8, 7, 4, 6, 9, 0, 1, 8, 7,\n",
      "        5, 4, 5, 3, 7, 4, 6, 5]), tensor([5, 6, 7, 9, 0, 9, 5, 9, 4, 0, 1, 7, 8, 3, 5, 1, 0, 6, 5, 0, 2, 3, 7, 1,\n",
      "        0, 0, 0, 7, 7, 6, 0, 4]), tensor([7, 0, 0, 5, 3, 4, 8, 2, 5, 2, 7, 3, 2, 3, 2, 7, 8, 6, 7, 6, 9, 5, 8, 0,\n",
      "        7, 3, 5, 0, 9, 7, 3, 0]), tensor([6, 5, 7, 8, 4, 3, 1, 9, 0, 2, 9, 1, 3, 4, 4, 3, 3, 6, 2, 3, 8, 6, 2, 9,\n",
      "        5, 6, 1, 8, 2, 4, 3, 4]), tensor([2, 9, 4, 3, 7, 9, 6, 3, 5, 4, 5, 9, 8, 5, 3, 0, 1, 2, 4, 4, 1, 9, 6, 4,\n",
      "        6, 5, 5, 4, 6, 2, 0, 1]), tensor([4, 9, 9, 7, 6, 1, 2, 6, 0, 4, 6, 2, 5, 9, 4, 8, 4, 6, 1, 5, 9, 2, 1, 2,\n",
      "        9, 3, 1, 7, 1, 3, 3, 9]), tensor([1, 3, 8, 9, 9, 1, 9, 6, 0, 5, 8, 5, 5, 5, 3, 8, 9, 4, 7, 4, 4, 9, 2, 6,\n",
      "        1, 5, 0, 7, 3, 6, 0, 7]), tensor([1, 1, 8, 2, 8, 9, 2, 0, 7, 2, 6, 0, 5, 1, 6, 8, 2, 3, 7, 6, 3, 9, 7, 6,\n",
      "        1, 3, 9, 2, 4, 6, 3, 7]), tensor([8, 1, 1, 9, 5, 3, 8, 4, 6, 6, 1, 8, 2, 3, 6, 2, 8, 9, 9, 4, 8, 4, 1, 7,\n",
      "        9, 0, 8, 7, 3, 3, 8, 4]), tensor([1, 8, 2, 7, 4, 6, 8, 9, 2, 7, 3, 4, 6, 1, 1, 0, 6, 1, 6, 7, 8, 5, 9, 1,\n",
      "        5, 0, 9, 4, 2, 1, 7, 2]), tensor([9, 8, 8, 9, 5, 5, 3, 8, 2, 0, 3, 6, 1, 1, 9, 0, 9, 7, 5, 3, 2, 9, 5, 5,\n",
      "        4, 2, 9, 8, 3, 0, 6, 4]), tensor([1, 7, 4, 7, 2, 8, 5, 8, 6, 0, 1, 3, 2, 2, 3, 6, 2, 0, 2, 8, 3, 2, 4, 6,\n",
      "        1, 8, 4, 5, 4, 2, 3, 9]), tensor([0, 4, 3, 4, 5, 4, 2, 7, 0, 7, 3, 3, 6, 9, 4, 8, 5, 6, 0, 3, 6, 7, 2, 5,\n",
      "        3, 1, 1, 9, 7, 5, 4, 2]), tensor([1, 6, 4, 8, 9, 2, 5, 8, 3, 3, 0, 9, 6, 4, 6, 3, 2, 4, 9, 6, 8, 3, 6, 2,\n",
      "        0, 4, 1, 3, 7, 2, 8, 2]), tensor([2, 3, 2, 4, 0, 8, 4, 5, 1, 4, 8, 8, 2, 1, 2, 1, 1, 9, 6, 7, 9, 6, 8, 0,\n",
      "        3, 4, 3, 8, 3, 7, 5, 4]), tensor([1, 1, 2, 4, 7, 8, 0, 1, 0, 5, 2, 8, 9, 7, 9, 1, 1, 3, 3, 5, 6, 7, 4, 9,\n",
      "        4, 9, 3, 6, 6, 2, 8, 7]), tensor([2, 5, 9, 8, 3, 8, 1, 3, 3, 3, 5, 2, 5, 4, 4, 9, 2, 7, 1, 4, 8, 3, 7, 7,\n",
      "        6, 7, 9, 4, 7, 7, 0, 1]), tensor([2, 1, 2, 8, 2, 2, 7, 2, 7, 1, 8, 7, 5, 1, 3, 1, 0, 3, 6, 5, 3, 8, 6, 3,\n",
      "        4, 9, 0, 1, 8, 3, 0, 7]), tensor([0, 6, 4, 5, 1, 2, 6, 2, 8, 3, 9, 8, 3, 7, 2, 4, 2, 5, 1, 9, 4, 3, 8, 7,\n",
      "        1, 8, 1, 2, 0, 9, 2, 4]), tensor([3, 4, 6, 3, 3, 5, 2, 9, 7, 5, 3, 7, 5, 5, 6, 4, 8, 0, 7, 6, 8, 6, 2, 1,\n",
      "        9, 7, 7, 6, 8, 0, 3, 0]), tensor([9, 8, 5, 6, 4, 8, 1, 5, 5, 7, 0, 3, 6, 1, 3, 4, 4, 2, 6, 1, 7, 4, 2, 2,\n",
      "        6, 3, 8, 2, 4, 6, 3, 0]), tensor([8, 8, 4, 6, 2, 0, 7, 0, 8, 9, 1, 2, 6, 7, 6, 8, 1, 8, 2, 6, 6, 7, 5, 7,\n",
      "        9, 9, 3, 9, 4, 4, 6, 6]), tensor([1, 4, 8, 4, 2, 5, 2, 2, 2, 9, 1, 8, 0, 6, 2, 6, 0, 4, 6, 6, 1, 3, 6, 3,\n",
      "        4, 1, 7, 8, 1, 0, 7, 2]), tensor([5, 0, 3, 2, 8, 9, 8, 7, 8, 4, 5, 9, 7, 5, 1, 2, 4, 7, 2, 9, 7, 8, 0, 7,\n",
      "        4, 6, 3, 8, 8, 4, 5, 3]), tensor([8, 2, 4, 2, 2, 7, 8, 9, 0, 2, 7, 7, 1, 5, 7, 8, 4, 3, 9, 5, 9, 3, 0, 8,\n",
      "        4, 1, 6, 3, 5, 8, 0, 0]), tensor([1, 8, 6, 9, 0, 0, 7, 6, 6, 2, 7, 4, 8, 8, 2, 6, 3, 6, 7, 1, 4, 7, 4, 6,\n",
      "        7, 1, 6, 5, 2, 3, 7, 9]), tensor([6, 6, 8, 2, 1, 1, 8, 8, 3, 5, 7, 7, 6, 7, 4, 3, 7, 3, 8, 9, 0, 2, 2, 4,\n",
      "        5, 7, 0, 6, 3, 9, 7, 7]), tensor([2, 6, 5, 8, 3, 1, 3, 7, 4, 9, 4, 3, 9, 7, 2, 0, 8, 6, 9, 1, 9, 9, 6, 7,\n",
      "        1, 4, 7, 0, 3, 8, 7, 2]), tensor([8, 5, 9, 3, 2, 0, 8, 9, 4, 5, 6, 4, 3, 8, 9, 4, 8, 8, 4, 6, 9, 7, 2, 9,\n",
      "        2, 1, 2, 7, 5, 4, 0, 8]), tensor([3, 4, 7, 2, 2, 6, 8, 5, 7, 9, 5, 7, 4, 2, 3, 9, 3, 4, 1, 5, 6, 9, 7, 4,\n",
      "        0, 2, 5, 8, 0, 7, 7, 2]), tensor([2, 0, 4, 8, 2, 0, 6, 9, 8, 7, 6, 5, 0, 6, 0, 2, 3, 3, 3, 8, 7, 4, 1, 9,\n",
      "        1, 2, 6, 5, 2, 3, 2, 0]), tensor([2, 6, 0, 7, 2, 1, 8, 4, 8, 7, 9, 4, 1, 4, 5, 7, 7, 3, 2, 5, 9, 4, 4, 7,\n",
      "        3, 2, 0, 9, 6, 7, 3, 9]), tensor([1, 2, 1, 9, 7, 2, 3, 4, 8, 1, 8, 3, 5, 0, 5, 3, 8, 5, 7, 4, 9, 0, 6, 8,\n",
      "        4, 2, 4, 4, 4, 3, 7, 8]), tensor([7, 1, 3, 7, 6, 9, 5, 5, 2, 2, 4, 5, 0, 8, 6, 6, 4, 0, 8, 8, 9, 6, 9, 1,\n",
      "        5, 1, 2, 1, 3, 2, 6, 2]), tensor([4, 5, 7, 9, 9, 2, 0, 5, 7, 0, 5, 6, 5, 3, 3, 4, 3, 7, 3, 8, 2, 9, 8, 1,\n",
      "        7, 3, 2, 6, 3, 7, 1, 8]), tensor([5, 7, 8, 6, 8, 3, 8, 7, 7, 7, 7, 6, 5, 2, 2, 1, 2, 3, 4, 1, 0, 3, 9, 1,\n",
      "        8, 2, 3, 7, 4, 9, 5, 7]), tensor([4, 3, 9, 5, 6, 4, 2, 7, 3, 8, 3, 0, 5, 7, 0, 9, 6, 0, 2, 5, 7, 1, 2, 8,\n",
      "        2, 6, 2, 3, 1, 1, 1, 8]), tensor([6, 2, 2, 5, 9, 8, 7, 5, 3, 4, 7, 9, 2, 0, 1, 1, 1, 4, 8, 6, 8, 0, 9, 5,\n",
      "        6, 7, 6, 8, 2, 4, 6, 2]), tensor([6, 2, 5, 7, 2, 9, 7, 2, 2, 2, 0, 7, 4, 5, 2, 3, 3, 1, 5, 8, 1, 8, 6, 6,\n",
      "        3, 9, 1, 9, 7, 6, 9, 6]), tensor([9, 3, 0, 2, 2, 3, 4, 8, 6, 9, 2, 1, 1, 0, 5, 6, 7, 0, 4, 1, 1, 7, 0, 0,\n",
      "        1, 9, 2, 7, 3, 5, 2, 1]), tensor([6, 6, 2, 0, 4, 0, 2, 3, 5, 9, 5, 8, 9, 3, 3, 7, 8, 9, 4, 1, 1, 7, 0, 7,\n",
      "        0, 0, 9, 6, 0, 2, 9, 2]), tensor([8, 5, 5, 9, 3, 3, 5, 7, 1, 2, 3, 3, 8, 6, 6, 4, 1, 1, 9, 1, 4, 0, 6, 2,\n",
      "        2, 6, 6, 0, 6, 5, 0, 3]), tensor([0, 5, 1, 1, 8, 2, 5, 3, 5, 1, 6, 6, 3, 1, 2, 7, 9, 6, 3, 8, 8, 4, 4, 9,\n",
      "        1, 9, 7, 7, 6, 2, 2, 7]), tensor([5, 6, 1, 5, 7, 7, 8, 2, 8, 3, 7, 6, 6, 2, 9, 9, 0, 6, 7, 3, 1, 0, 8, 2,\n",
      "        4, 4, 4, 7, 1, 8, 6, 0]), tensor([3, 4, 6, 6, 9, 8, 0, 3, 8, 3, 9, 2, 1, 5, 6, 5, 6, 8, 4, 2, 5, 9, 3, 6,\n",
      "        4, 7, 8, 5, 9, 5, 0, 0]), tensor([6, 9, 8, 2, 9, 2, 2, 6, 4, 6, 1, 6, 3, 9, 4, 0, 3, 4, 2, 6, 9, 4, 7, 6,\n",
      "        5, 6, 3, 6, 8, 7, 0, 2]), tensor([1, 1, 8, 7, 3, 2, 0, 5, 4, 3, 8, 8, 8, 9, 4, 0, 9, 4, 3, 3, 6, 2, 2, 8,\n",
      "        8, 5, 9, 2, 7, 1, 9, 0]), tensor([3, 3, 6, 2, 3, 9, 7, 7, 3, 0, 4, 2, 4, 6, 6, 5, 2, 6, 9, 8, 5, 8, 3, 4,\n",
      "        1, 4, 8, 7, 2, 6, 2, 3]), tensor([7, 6, 3, 5, 2, 5, 3, 7, 1, 2, 9, 8, 7, 6, 8, 8, 7, 5, 8, 6, 4, 6, 8, 3,\n",
      "        6, 4, 9, 6, 1, 0, 5, 1]), tensor([2, 0, 9, 2, 6, 3, 6, 7, 4, 6, 4, 3, 8, 5, 1, 8, 3, 4, 2, 5, 0, 0, 9, 8,\n",
      "        7, 4, 4, 2, 2, 9, 3, 5]), tensor([0, 9, 9, 0, 1, 3, 7, 1, 9, 6, 5, 2, 6, 9, 5, 7, 9, 4, 2, 8, 3, 1, 7, 8,\n",
      "        4, 6, 8, 0, 5, 5, 7, 1]), tensor([9, 6, 2, 1, 5, 1, 9, 0, 4, 0, 3, 2, 7, 3, 9, 3, 5, 4, 0, 6, 7, 7, 4, 2,\n",
      "        3, 8, 5, 8, 3, 6, 4, 1]), tensor([4, 9, 5, 8, 9, 0, 3, 2, 9, 5, 9, 3, 1, 0, 8, 4, 1, 4, 6, 9, 9, 8, 9, 7,\n",
      "        2, 0, 1, 9, 9, 3, 9, 2]), tensor([2, 3, 7, 3, 1, 4, 6, 8, 3, 4, 3, 3, 8, 3, 7, 1, 6, 3, 8, 4, 7, 9, 8, 0,\n",
      "        3, 0, 4, 5, 7, 6, 7, 2]), tensor([5, 0, 2, 6, 3, 3, 0, 3, 4, 4, 4, 4, 6, 9, 7, 6, 7, 4, 3, 2, 2, 1, 9, 5,\n",
      "        9, 9, 0, 5, 8, 2, 7, 3]), tensor([9, 5, 2, 8, 9, 5, 8, 0, 0, 3, 0, 6, 3, 7, 8, 0, 1, 2, 2, 6, 1, 1, 3, 2,\n",
      "        2, 5, 4, 3, 9, 3, 4, 2]), tensor([3, 7, 2, 9, 2, 1, 6, 7, 5, 5, 9, 2, 6, 9, 7, 9, 7, 4, 1, 8, 3, 3, 8, 0,\n",
      "        8, 7, 6, 7, 7, 9, 6, 4]), tensor([0, 3, 7, 4, 1, 5, 2, 0, 5, 8, 6, 7, 0, 1, 0, 5, 6, 2, 1, 4, 1, 8, 7, 9,\n",
      "        9, 7, 3, 2, 2, 4, 7, 4]), tensor([3, 9, 6, 3, 9, 5, 1, 0, 9, 2, 7, 4, 3, 5, 7, 2, 7, 2, 8, 7, 5, 4, 5, 9,\n",
      "        4, 3, 5, 0, 2, 8, 5, 3]), tensor([1, 9, 3, 7, 1, 6, 3, 4, 4, 2, 5, 9, 2, 1, 1, 9, 7, 9, 0, 1, 6, 8, 9, 2,\n",
      "        8, 3, 7, 8, 7, 7, 0, 8]), tensor([5, 6, 0, 3, 5, 6, 7, 7, 9, 7, 1, 0, 0, 8, 6, 4, 0, 6, 4, 5, 5, 0, 8, 3,\n",
      "        3, 2, 8, 6, 7, 1, 8, 7]), tensor([1, 2, 2, 0, 4, 7, 3, 7, 4, 8, 6, 3, 8, 4, 6, 0, 6, 8, 7, 3, 3, 6, 5, 6,\n",
      "        1, 5, 0, 9, 9, 1, 3, 0]), tensor([6, 1, 6, 6, 5, 7, 2, 2, 0, 9, 2, 6, 8, 2, 8, 3, 7, 7, 3, 3, 9, 5, 7, 3,\n",
      "        6, 9, 4, 5, 6, 7, 2, 9]), tensor([5, 8, 8, 8, 4, 9, 9, 2, 3, 6, 3, 0, 2, 7, 6, 4, 2, 8, 4, 1, 5, 7, 9, 7,\n",
      "        3, 9, 8, 2, 5, 1, 9, 6]), tensor([1, 0, 4, 8, 0, 5, 6, 9, 8, 8, 4, 3, 4, 1, 7, 5, 1, 2, 6, 7, 0, 3, 2, 8,\n",
      "        7, 8, 5, 5, 1, 1, 3, 8]), tensor([7, 9, 9, 1, 0, 6, 3, 6, 3, 2, 7, 1, 2, 0, 1, 5, 3, 4, 9, 2, 4, 2, 2, 6,\n",
      "        7, 7, 6, 7, 3, 4, 0, 8]), tensor([3, 3, 5, 2, 0, 8, 3, 3, 4, 0, 1, 8, 2, 3, 2, 9, 5, 4, 3, 5, 2, 1, 6, 4,\n",
      "        4, 5, 8, 6, 7, 3, 2, 6]), tensor([7, 6, 2, 3, 8, 4, 2, 6, 3, 4, 8, 1, 7, 3, 2, 8, 7, 8, 9, 9, 9, 2, 0, 9,\n",
      "        4, 0, 8, 8, 8, 0, 5, 6]), tensor([6, 6, 6, 6, 9, 9, 2, 3, 5, 4, 0, 1, 0, 8, 9, 5, 7, 3, 3, 2, 4, 1, 2, 8,\n",
      "        1, 8, 2, 6, 6, 9, 8, 5]), tensor([1, 2, 2, 0, 7, 6, 5, 5, 0, 7, 1, 6, 5, 8, 9, 7, 4, 9, 6, 3, 3, 2, 5, 0,\n",
      "        8, 0, 4, 2, 3, 6, 0, 0]), tensor([3, 0, 5, 9, 4, 7, 1, 5, 4, 1, 6, 1, 7, 9, 4, 0, 4, 5, 2, 9, 4, 9, 8, 8,\n",
      "        7, 6, 2, 0, 9, 3, 6, 7]), tensor([6, 2, 7, 0, 6, 1, 0, 5, 7, 3, 5, 9, 2, 3, 4, 8, 5, 8, 1, 9, 6, 7, 6, 7,\n",
      "        3, 6, 2, 5, 2, 8, 8, 8]), tensor([7, 4, 0, 5, 1, 5, 9, 6, 0, 9, 5, 8, 5, 7, 4, 9, 8, 3, 4, 6, 5, 7, 5, 1,\n",
      "        1, 5, 4, 1, 4, 5, 8, 2]), tensor([9, 6, 3, 3, 4, 6, 2, 4, 1, 1, 4, 7, 2, 7, 0, 2, 6, 8, 8, 8, 7, 7, 1, 2,\n",
      "        6, 4, 1, 4, 0, 2, 5, 8]), tensor([2, 4, 2, 3, 1, 5, 8, 4, 4, 0, 8, 6, 8, 0, 3, 2, 5, 8, 7, 5, 7, 0, 1, 1,\n",
      "        9, 7, 8, 6, 1, 9, 6, 3]), tensor([6, 9, 4, 0, 6, 9, 9, 2, 2, 2, 0, 5, 6, 6, 3, 7, 8, 6, 2, 6, 1, 1, 9, 9,\n",
      "        4, 5, 3, 6, 8, 5, 8, 6]), tensor([6, 1, 2, 3, 7, 6, 9, 0, 4, 8, 2, 3, 6, 9, 5, 7, 9, 4, 0, 4, 1, 1, 8, 9,\n",
      "        6, 4, 2, 3, 8, 0, 7, 1]), tensor([8, 8, 5, 3, 3, 7, 7, 1, 0, 1, 4, 1, 9, 0, 2, 1, 1, 0, 7, 3, 7, 3, 9, 0,\n",
      "        1, 8, 9, 2, 2, 6, 0, 9]), tensor([3, 6, 1, 2, 7, 8, 0, 5, 6, 8, 2, 5, 5, 3, 5, 9, 1, 8, 5, 3, 1, 2, 4, 3,\n",
      "        7, 3, 5, 4, 8, 6, 7, 1]), tensor([2, 3, 9, 8, 3, 8, 7, 7, 9, 7, 0, 9, 4, 0, 9, 6, 1, 9, 8, 6, 4, 7, 6, 9,\n",
      "        5, 4, 7, 1, 2, 1, 2, 3]), tensor([9, 6, 0, 5, 2, 0, 5, 5, 4, 6, 9, 9, 1, 6, 7, 7, 7, 2, 5, 1, 2, 0, 6, 3,\n",
      "        8, 7, 8, 4, 1, 0, 8, 3]), tensor([9, 8, 8, 7, 8, 3, 2, 0, 7, 4, 8, 6, 9, 9, 4, 7, 7, 2, 2, 1, 5, 3, 2, 3,\n",
      "        5, 5, 0, 8, 4, 7, 8, 9]), tensor([4, 2, 1, 7, 6, 4, 4, 7, 4, 3, 6, 0, 7, 7, 8, 0, 9, 4, 2, 6, 2, 9, 7, 1,\n",
      "        9, 7, 3, 3, 1, 4, 3, 5]), tensor([3, 3, 9, 4, 1, 4, 4, 6, 7, 5, 4, 6, 9, 9, 8, 3, 8, 1, 2, 2, 7, 5, 3, 1,\n",
      "        4, 6, 0, 1, 2, 0, 7, 6]), tensor([8, 8, 2, 8, 4, 5, 0, 6, 1, 7, 9, 7, 3, 9, 4, 6, 2, 8, 7, 1, 3, 8, 7, 6,\n",
      "        2, 6, 8, 2, 8, 0, 1, 5]), tensor([3, 8, 1, 7, 2, 9, 3, 7, 9, 5, 1, 8, 3, 0, 9, 3, 6, 2, 4, 2, 7, 6, 0, 9,\n",
      "        8, 8, 1, 5, 7, 7, 1, 7]), tensor([5, 4, 4, 0, 9, 8, 7, 3, 7, 0, 4, 5, 5, 2, 2, 9, 4, 6, 3, 2, 0, 4, 7, 8,\n",
      "        6, 4, 3, 1, 9, 3, 8, 3]), tensor([9, 7, 1, 7, 1, 3, 4, 8, 5, 6, 0, 6, 4, 1, 1, 2, 9, 0, 3, 2, 1, 3, 2, 7,\n",
      "        6, 1, 8, 5, 7, 3, 0, 5]), tensor([0, 4, 6, 2, 2, 5, 2, 3, 8, 2, 1, 7, 3, 8, 8, 9, 8, 0, 1, 8, 1, 4, 9, 0,\n",
      "        3, 1, 1, 4, 7, 8, 3, 6]), tensor([9, 6, 2, 8, 3, 8, 4, 9, 4, 7, 7, 6, 3, 6, 4, 5, 7, 3, 7, 6, 6, 6, 9, 3,\n",
      "        0, 8, 4, 1, 2, 1, 8, 3]), tensor([9, 4, 8, 9, 9, 3, 3, 7, 0, 0, 6, 1, 6, 3, 6, 4, 2, 2, 7, 3, 6, 3, 4, 0,\n",
      "        0, 1, 3, 6, 6, 5, 7, 9]), tensor([6, 6, 3, 7, 5, 1, 2, 7, 7, 5, 8, 0, 9, 1, 2, 1, 4, 9, 1, 6, 5, 2, 3, 0,\n",
      "        7, 1, 2, 7, 9, 3, 7, 4]), tensor([4, 2, 6, 7, 2, 7, 3, 3, 7, 8, 8, 7, 0, 1, 6, 0, 9, 7, 9, 9, 1, 2, 0, 4,\n",
      "        7, 4, 3, 3, 1, 7, 5, 7]), tensor([6, 9, 0, 0, 3, 1, 4, 7, 5, 3, 2, 7, 8, 4, 7, 4, 0, 8, 3, 0, 1, 7, 9, 2,\n",
      "        9, 1, 6, 6, 5, 1, 0, 2]), tensor([3, 9, 3, 1, 8, 2, 8, 9, 8, 8, 1, 0, 9, 6, 6, 6, 1, 1, 4, 7, 3, 0, 7, 9,\n",
      "        6, 9, 5, 2, 0, 6, 7, 2]), tensor([3, 8, 3, 8, 1, 1, 2, 4, 8, 1, 0, 8, 1, 8, 5, 3, 2, 7, 0, 2, 4, 9, 4, 2,\n",
      "        4, 9, 9, 6, 9, 5, 6, 7]), tensor([3, 2, 3, 3, 9, 6, 7, 7, 8, 1, 1, 0, 6, 5, 7, 9, 4, 7, 2, 7, 0, 6, 2, 9,\n",
      "        7, 7, 7, 5, 6, 1, 2, 3]), tensor([4, 6, 2, 0, 9, 8, 7, 8, 6, 2, 8, 9, 7, 1, 6, 7, 9, 9, 0, 1, 5, 1, 1, 3,\n",
      "        6, 7, 9, 8, 3, 3, 8, 5]), tensor([2, 4, 3, 6, 8, 0, 5, 6, 6, 9, 0, 1, 2, 8, 3, 8, 2, 1, 8, 1, 7, 3, 9, 1,\n",
      "        8, 3, 5, 4, 1, 0, 8, 4]), tensor([6, 6, 8, 2, 2, 5, 5, 0, 2, 4, 9, 8, 6, 1, 0, 0, 6, 8, 3, 4, 7, 7, 5, 9,\n",
      "        2, 5, 3, 6, 9, 9, 4, 8]), tensor([5, 6, 9, 3, 4, 0, 2, 8, 3, 3, 9, 2, 3, 2, 7, 3, 8, 5, 0, 4, 6, 4, 1, 3,\n",
      "        9, 8, 8, 5, 2, 2, 2, 0]), tensor([5, 2, 7, 3, 8, 3, 2, 4, 8, 4, 1, 5, 0, 3, 3, 1, 9, 2, 8, 7, 8, 2, 3, 6,\n",
      "        2, 5, 6, 9, 0, 7, 1, 1]), tensor([7, 9, 6, 1, 4, 7, 5, 4, 6, 3, 3, 6, 3, 0, 0, 9, 9, 8, 2, 9, 6, 2, 5, 4,\n",
      "        7, 2, 6, 5, 2, 3, 9, 3]), tensor([7, 0, 6, 3, 5, 6, 4, 3, 4, 6, 9, 8, 8, 6, 2, 0, 6, 3, 7, 4, 2, 8, 1, 7,\n",
      "        2, 6, 9, 3, 6, 2, 0, 8]), tensor([7, 0, 5, 0, 2, 3, 1, 3, 0, 9, 5, 4, 3, 7, 6, 2, 2, 9, 0, 7, 6, 5, 6, 8,\n",
      "        2, 1, 3, 2, 2, 5, 9, 4]), tensor([5, 0, 2, 0, 7, 4, 4, 8, 3, 3, 8, 8, 3, 8, 9, 4, 0, 2, 8, 3, 8, 2, 5, 7,\n",
      "        0, 3, 6, 8, 1, 5, 9, 2]), tensor([2, 8, 9, 2, 1, 0, 5, 8, 2, 2, 8, 2, 2, 6, 7, 6, 7, 3, 7, 4, 8, 8, 8, 3,\n",
      "        9, 9, 0, 6, 2, 6, 3, 6]), tensor([4, 7, 2, 7, 6, 5, 6, 3, 1, 7, 8, 6, 4, 7, 3, 3, 8, 0, 0, 9, 2, 8, 5, 4,\n",
      "        9, 6, 2, 2, 6, 0, 1, 1]), tensor([9, 3, 8, 2, 1, 9, 3, 8, 4, 8, 2, 3, 7, 3, 6, 4, 9, 2, 6, 2, 9, 8, 0, 5,\n",
      "        7, 2, 4, 5, 2, 3, 0, 7]), tensor([2, 4, 2, 7, 3, 6, 3, 3, 1, 5, 4, 0, 3, 7, 7, 5, 6, 3, 2, 9, 2, 6, 3, 5,\n",
      "        4, 8, 9, 0, 9, 7, 5, 7]), tensor([7, 9, 3, 4, 8, 4, 3, 9, 3, 1, 0, 2, 5, 6, 8, 7, 9, 7, 7, 7, 9, 2, 6, 0,\n",
      "        6, 7, 6, 1, 8, 0, 3, 8]), tensor([5, 0, 5, 6, 9, 1, 1, 2, 2, 8, 9, 7, 7, 5, 8, 6, 1, 4, 0, 1, 8, 4, 3, 4,\n",
      "        7, 9, 3, 7, 7, 5, 3, 9]), tensor([1, 2, 3, 6, 7, 4, 6, 9, 3, 4, 4, 1, 7, 8, 1, 6, 5, 9, 6, 0, 9, 5, 3, 8,\n",
      "        8, 2, 8, 5, 7, 0, 7, 0]), tensor([9, 6, 9, 2, 9, 4, 8, 5, 2, 0, 3, 6, 6, 4, 7, 4, 1, 7, 7, 8, 5, 7, 0, 6,\n",
      "        4, 2, 1, 3, 8, 3, 3, 2]), tensor([7, 5, 9, 1, 0, 4, 3, 7, 6, 6, 3, 1, 8, 4, 7, 2, 5, 7, 3, 1, 8, 1, 9, 2,\n",
      "        9, 6, 2, 6, 1, 8, 6, 9]), tensor([8, 4, 0, 6, 8, 4, 5, 1, 2, 2, 6, 4, 2, 8, 5, 7, 8, 7, 6, 5, 5, 7, 9, 9,\n",
      "        8, 2, 8, 2, 1, 3, 3, 4]), tensor([8, 9, 4, 0, 7, 3, 6, 8, 1, 2, 6, 1, 6, 5, 2, 9, 7, 2, 8, 7, 3, 7, 0, 1,\n",
      "        2, 1, 7, 4, 2, 8, 5, 0]), tensor([2, 3, 0, 1, 6, 6, 5, 0, 1, 5, 8, 2, 5, 1, 7, 8, 7, 1, 2, 7, 0, 9, 3, 3,\n",
      "        9, 0, 4, 6, 6, 5, 9, 9]), tensor([2, 2, 7, 3, 8, 1, 4, 2, 3, 7, 8, 4, 0, 4, 5, 4, 2, 9, 3, 5, 8, 0, 1, 9,\n",
      "        6, 7, 3, 7, 4, 4, 6, 6]), tensor([2, 1, 3, 3, 6, 7, 0, 5, 9, 8, 9, 3, 7, 9, 9, 4, 8, 8, 0, 1, 4, 4, 0, 2,\n",
      "        8, 1, 6, 1, 3, 3, 2, 7]), tensor([8, 7, 0, 4, 3, 4, 4, 5, 7, 9, 2, 8, 2, 4, 5, 0, 1, 7, 6, 7, 6, 0, 0, 3,\n",
      "        5, 1, 1, 2, 3, 6, 9, 8]), tensor([1, 6, 1, 6, 8, 5, 4, 6, 4, 0, 4, 9, 3, 8, 5, 4, 8, 6, 2, 8, 6, 4, 4, 3,\n",
      "        8, 7, 5, 2, 8, 7, 2, 9]), tensor([5, 9, 2, 1, 0, 4, 1, 9, 7, 1, 7, 3, 5, 8, 7, 2, 5, 1, 5, 2, 0, 6, 0, 1,\n",
      "        2, 4, 4, 8, 0, 3, 2, 2]), tensor([3, 5, 4, 6, 3, 6, 5, 1, 8, 3, 1, 6, 7, 8, 4, 2, 0, 3, 7, 8, 1, 3, 9, 6,\n",
      "        2, 6, 1, 4, 8, 8, 3, 0]), tensor([8, 7, 7, 5, 4, 7, 7, 6, 1, 8, 1, 7, 7, 0, 3, 1, 6, 5, 5, 3, 8, 9, 4, 0,\n",
      "        9, 5, 1, 7, 2, 1, 2, 2]), tensor([8, 3, 2, 0, 7, 1, 3, 4, 4, 5, 7, 0, 6, 7, 3, 3, 7, 8, 8, 2, 5, 6, 9, 7,\n",
      "        1, 2, 9, 3, 0, 5, 5, 0]), tensor([9, 1, 6, 6, 5, 6, 4, 1, 4, 0, 3, 3, 6, 3, 0, 8, 4, 7, 5, 5, 7, 0, 7, 9,\n",
      "        4, 3, 2, 9, 2, 7, 1, 8]), tensor([8, 8, 9, 8, 3, 8, 9, 3, 6, 0, 2, 1, 8, 4, 4, 6, 0, 9, 7, 3, 1, 9, 1, 3,\n",
      "        5, 6, 2, 2, 3, 7, 3, 0]), tensor([8, 2, 9, 3, 9, 0, 0, 4, 1, 2, 6, 2, 9, 1, 4, 9, 7, 3, 2, 6, 2, 9, 7, 8,\n",
      "        5, 0, 9, 3, 0, 3, 8, 1]), tensor([3, 0, 7, 5, 8, 4, 5, 6, 8, 9, 1, 9, 1, 8, 1, 8])]\n"
     ]
    },
    {
     "data": {
      "text/plain": [
       "tensor([9, 2, 1, 1, 6, 4, 4, 6, 5, 7])"
      ]
     },
     "execution_count": 161,
     "metadata": {},
     "output_type": "execute_result"
    }
   ],
   "source": [
    "# import tqdm.auto\n",
    "from tqdm.auto import tqdm\n",
    "\n",
    "# 1. make prediction with trained model\n",
    "y_preds=[]\n",
    "model_cv2.eval()\n",
    "with torch.inference_mode():\n",
    "    for X,y in tqdm(test_dataloader, desc='Making prediction...'):\n",
    "        # send the data and targets to target device\n",
    "        X, y = X.to(device), y.to(device)\n",
    "        # Do the forward\n",
    "        y_logit = model_cv2(X)\n",
    "        # Turn predictions from logits -> prediction probabilities -> prediction labels\n",
    "        y_pred = torch.softmax(y_logit.squeeze(), dim=0).argmax(dim=1)\n",
    "        # put prediction on CPU for evalution\n",
    "        y_preds.append(y_pred.cpu())\n",
    "\n",
    "print(y_preds)\n",
    "y_pred_tensor = torch.cat(y_preds)\n",
    "y_pred_tensor[:10]        "
   ]
  },
  {
   "cell_type": "code",
   "execution_count": 162,
   "metadata": {},
   "outputs": [
    {
     "data": {
      "text/plain": [
       "10000"
      ]
     },
     "execution_count": 162,
     "metadata": {},
     "output_type": "execute_result"
    }
   ],
   "source": [
    "len(y_pred_tensor)"
   ]
  },
  {
   "cell_type": "code",
   "execution_count": 163,
   "metadata": {},
   "outputs": [
    {
     "name": "stdout",
     "output_type": "stream",
     "text": [
      "mlxtend version: 0.23.1\n"
     ]
    }
   ],
   "source": [
    "try:\n",
    "    import torchmetrics, mlxtend\n",
    "    print(f'mlxtend version: {mlxtend.__version__}')\n",
    "    assert int(mlxtend.__version__.split('.')[1]) >= 19, 'mixtend version should be 0.19.0 or higher'\n",
    "except:\n",
    "    !pip install -q torchmetrics -U mlxtend\n",
    "    import torchmetrics, mlxtend\n",
    "    print(f'mlxtend version: {mlxtend.__version__}')"
   ]
  },
  {
   "cell_type": "code",
   "execution_count": 164,
   "metadata": {},
   "outputs": [
    {
     "name": "stdout",
     "output_type": "stream",
     "text": [
      "0.23.1\n"
     ]
    }
   ],
   "source": [
    "import mlxtend\n",
    "print(mlxtend.__version__)"
   ]
  },
  {
   "cell_type": "code",
   "execution_count": 165,
   "metadata": {},
   "outputs": [
    {
     "data": {
      "text/plain": [
       "10"
      ]
     },
     "execution_count": 165,
     "metadata": {},
     "output_type": "execute_result"
    }
   ],
   "source": [
    "len(class_names)"
   ]
  },
  {
   "cell_type": "code",
   "execution_count": 166,
   "metadata": {},
   "outputs": [
    {
     "data": {
      "image/png": "[encoded data removed]",
      "text/plain": [
       "<Figure size 1000x700 with 1 Axes>"
      ]
     },
     "metadata": {},
     "output_type": "display_data"
    }
   ],
   "source": [
    "from torchmetrics import ConfusionMatrix\n",
    "from mlxtend.plotting import plot_confusion_matrix\n",
    "\n",
    "# Setup confusion instance and compare predictions to target\n",
    "confmat = ConfusionMatrix(num_classes=len(class_names), task='multiclass')\n",
    "confmat_tensor = confmat(preds=y_pred_tensor,\n",
    "                        target=test_data.targets)\n",
    "\n",
    "# Plot the confusion matrix\n",
    "fig, ax = plot_confusion_matrix(\n",
    "    conf_mat = confmat_tensor.numpy(), # matplotlib works only numpy\n",
    "    class_names=class_names,\n",
    "    figsize=(10,7)\n",
    ")"
   ]
  },
  {
   "cell_type": "code",
   "execution_count": 167,
   "metadata": {},
   "outputs": [
    {
     "data": {
      "text/plain": [
       "tensor([[659,   5,  35,  72,  10,   1, 211,   0,   7,   0],\n",
       "        [  8, 862,   9,  97,  19,   0,   4,   0,   1,   0],\n",
       "        [  9,   2, 822,  12,  92,   0,  61,   0,   2,   0],\n",
       "        [ 27,   5,  24, 843,  50,   0,  43,   0,   6,   2],\n",
       "        [  5,   4, 119,  49, 722,   0,  97,   0,   4,   0],\n",
       "        [  4,   0,   1,  11,   1, 781,   4,  72, 100,  26],\n",
       "        [ 80,   4, 123,  59,  98,   0, 623,   0,  13,   0],\n",
       "        [  1,   0,   0,   0,   0,  19,   0, 922,  15,  43],\n",
       "        [  6,   2,  11,  10,   9,   3,  29,   5, 923,   2],\n",
       "        [  0,   0,   0,   1,   0,  14,   2,  95,  12, 876]])"
      ]
     },
     "execution_count": 167,
     "metadata": {},
     "output_type": "execute_result"
    }
   ],
   "source": [
    "confmat_tensor"
   ]
  },
  {
   "cell_type": "code",
   "execution_count": 168,
   "metadata": {},
   "outputs": [
    {
     "name": "stdout",
     "output_type": "stream",
     "text": [
      "Saving model to: models\\03_pytorch_computer_vision_model_cv2.pth\n"
     ]
    }
   ],
   "source": [
    "# Save and load\n",
    "from pathlib import Path\n",
    "\n",
    "# Create model_directory path\n",
    "MODEL_PATH = Path('models')\n",
    "MODEL_PATH.mkdir(parents=True,\n",
    "                 exist_ok=True)\n",
    "\n",
    "# Create mdoel save\n",
    "MODEL_NAME = '03_pytorch_computer_vision_model_cv2.pth'\n",
    "MODEL_SAVE_PATH = MODEL_PATH / MODEL_NAME\n",
    "\n",
    "# Save the model state dict\n",
    "print(f'Saving model to: {MODEL_SAVE_PATH}')\n",
    "torch.save(obj=model_cv2.state_dict(),\n",
    "           f=MODEL_SAVE_PATH)"
   ]
  },
  {
   "cell_type": "code",
   "execution_count": 169,
   "metadata": {},
   "outputs": [
    {
     "data": {
      "text/plain": [
       "OrderedDict([('conv_block_1.0.weight',\n",
       "              tensor([[[[ 0.0805,  0.1832, -0.2826],\n",
       "                        [ 0.4557,  0.1132, -0.1321],\n",
       "                        [-0.2765,  0.0108,  0.3354]]],\n",
       "              \n",
       "              \n",
       "                      [[[-0.4128,  0.3929, -0.0413],\n",
       "                        [ 0.3861,  0.3277, -0.0247],\n",
       "                        [ 0.0466,  0.3053, -0.1662]]],\n",
       "              \n",
       "              \n",
       "                      [[[-0.1012,  0.1038, -0.0157],\n",
       "                        [-0.7295, -0.7255,  0.3408],\n",
       "                        [-0.9282, -0.6245,  0.0536]]],\n",
       "              \n",
       "              \n",
       "                      [[[-0.7510, -1.0111, -0.6958],\n",
       "                        [ 0.1230, -0.8176,  0.1198],\n",
       "                        [ 0.2006,  0.0238,  0.3691]]],\n",
       "              \n",
       "              \n",
       "                      [[[-0.0742,  0.2913,  0.1611],\n",
       "                        [-0.3425,  0.2214, -0.1068],\n",
       "                        [ 0.0743,  0.2141,  0.0827]]],\n",
       "              \n",
       "              \n",
       "                      [[[-0.1439,  0.1915,  0.0634],\n",
       "                        [ 0.1737, -0.2007, -0.3325],\n",
       "                        [-0.1252, -0.2530,  0.2797]]],\n",
       "              \n",
       "              \n",
       "                      [[[ 0.1192,  0.2429,  0.1098],\n",
       "                        [-0.0583,  0.1692, -0.3148],\n",
       "                        [-0.2262, -0.5460, -0.1432]]],\n",
       "              \n",
       "              \n",
       "                      [[[-0.1431,  0.1067, -0.1257],\n",
       "                        [ 0.3309, -0.2218, -0.4047],\n",
       "                        [-0.1524,  0.4655,  0.0980]]],\n",
       "              \n",
       "              \n",
       "                      [[[ 0.2003, -0.4696, -0.3455],\n",
       "                        [-0.4342, -0.5717,  0.0245],\n",
       "                        [ 0.1782,  0.4857,  0.0246]]],\n",
       "              \n",
       "              \n",
       "                      [[[-0.2270,  0.1766, -0.1343],\n",
       "                        [ 0.2037, -0.0784,  0.1907],\n",
       "                        [-0.2589, -0.1683,  0.1016]]]], device='cuda:0')),\n",
       "             ('conv_block_1.0.bias',\n",
       "              tensor([ 0.0612,  0.0405,  0.2209,  0.2280, -0.0396, -0.1727,  0.0789, -0.0286,\n",
       "                      -0.0554, -0.3223], device='cuda:0')),\n",
       "             ('conv_block_1.2.weight',\n",
       "              tensor([[[[ 2.8105e-02,  6.4586e-03, -5.9370e-02],\n",
       "                        [-1.3075e-01, -9.0632e-02, -1.7593e-01],\n",
       "                        [-1.7186e-01, -1.2945e-01, -1.2733e-01]],\n",
       "              \n",
       "                       [[-6.7792e-02,  6.8098e-03, -8.6698e-02],\n",
       "                        [-9.5629e-02, -2.1931e-01, -2.1930e-01],\n",
       "                        [-8.3036e-02, -9.2163e-02, -1.9635e-01]],\n",
       "              \n",
       "                       [[ 1.6577e-02,  4.5289e-03,  1.3463e-01],\n",
       "                        [ 4.5351e-02,  1.1171e-01,  1.1025e-01],\n",
       "                        [ 1.2448e-02,  1.0772e-02,  8.7805e-02]],\n",
       "              \n",
       "                       [[-1.9381e-01, -1.1659e-02, -7.1049e-02],\n",
       "                        [ 2.2618e-02, -2.6495e-02, -8.4963e-02],\n",
       "                        [ 7.5486e-02, -1.7937e-02,  3.2350e-02]],\n",
       "              \n",
       "                       [[-1.4885e-01, -1.6236e-01, -2.2334e-02],\n",
       "                        [-8.2009e-02, -5.4592e-03, -1.0657e-01],\n",
       "                        [ 3.1767e-02, -1.1804e-01, -3.6986e-02]],\n",
       "              \n",
       "                       [[ 2.2004e-02,  5.4463e-02,  8.4116e-02],\n",
       "                        [ 9.5837e-02, -8.3206e-02,  2.8999e-02],\n",
       "                        [-4.5040e-02, -1.2616e-02, -7.7393e-02]],\n",
       "              \n",
       "                       [[ 1.4019e-01, -3.3165e-02,  8.5465e-02],\n",
       "                        [ 3.4713e-02,  2.1649e-02, -4.2773e-02],\n",
       "                        [ 7.9038e-02,  3.1834e-03,  2.6431e-02]],\n",
       "              \n",
       "                       [[-9.1386e-02,  4.5432e-02, -1.6867e-02],\n",
       "                        [-4.9486e-02,  8.6241e-02,  2.2120e-02],\n",
       "                        [-5.6231e-02, -6.0635e-02, -1.1361e-02]],\n",
       "              \n",
       "                       [[ 5.7128e-02, -2.6780e-02, -6.1452e-02],\n",
       "                        [-4.3136e-02, -8.5174e-02,  3.5186e-02],\n",
       "                        [ 7.5755e-02, -1.1407e-01,  1.6813e-02]],\n",
       "              \n",
       "                       [[ 5.4447e-02,  1.9093e-02, -3.7538e-02],\n",
       "                        [ 5.5018e-02,  5.5394e-02,  3.9413e-02],\n",
       "                        [-1.8523e-02, -2.7913e-02,  1.1277e-02]]],\n",
       "              \n",
       "              \n",
       "                      [[[-6.8161e-02, -1.5451e-01, -3.7093e-03],\n",
       "                        [ 2.6588e-01, -3.3374e-02, -1.0670e-01],\n",
       "                        [ 1.5737e-02,  1.8436e-02,  1.4350e-01]],\n",
       "              \n",
       "                       [[ 8.8204e-03, -1.8495e-01, -1.6907e-01],\n",
       "                        [ 1.2693e-01,  2.4211e-02, -4.8196e-02],\n",
       "                        [-1.1893e-01, -3.5255e-02, -1.9237e-02]],\n",
       "              \n",
       "                       [[-3.9125e-02,  7.8270e-02,  2.0420e-01],\n",
       "                        [-1.1950e-03, -1.3016e-01, -2.9414e-02],\n",
       "                        [-3.8920e-02,  6.6651e-02,  2.9264e-02]],\n",
       "              \n",
       "                       [[ 1.7298e-01,  2.6410e-01,  2.8057e-01],\n",
       "                        [ 4.7978e-03,  2.6713e-01,  1.3032e-01],\n",
       "                        [-5.7652e-02, -1.1912e-01,  2.1248e-01]],\n",
       "              \n",
       "                       [[ 3.7207e-02,  1.0205e-02, -1.4655e-01],\n",
       "                        [-1.3269e-01, -9.2417e-02,  2.1687e-02],\n",
       "                        [ 5.2840e-02,  5.8337e-02,  7.2452e-03]],\n",
       "              \n",
       "                       [[ 2.8212e-02,  2.7683e-03, -7.9750e-02],\n",
       "                        [-8.8905e-02, -9.8951e-02,  4.3071e-02],\n",
       "                        [-5.2900e-02, -2.1839e-02, -6.1942e-02]],\n",
       "              \n",
       "                       [[-1.0225e-02, -2.9966e-02, -3.9425e-02],\n",
       "                        [ 6.0405e-03, -4.1857e-02,  4.4276e-02],\n",
       "                        [-4.4796e-02, -9.0917e-02, -4.1772e-02]],\n",
       "              \n",
       "                       [[-3.2867e-02,  1.5470e-02, -1.1402e-01],\n",
       "                        [ 1.3083e-01, -1.6137e-02,  2.3674e-02],\n",
       "                        [ 1.7898e-02,  7.6351e-02, -5.6020e-02]],\n",
       "              \n",
       "                       [[ 1.3624e-01,  2.5708e-02,  1.5699e-01],\n",
       "                        [ 1.0245e-01,  1.3062e-01,  6.9613e-02],\n",
       "                        [-8.2985e-03, -1.5730e-01,  3.7498e-03]],\n",
       "              \n",
       "                       [[-1.0465e-01,  6.5413e-02,  7.8817e-02],\n",
       "                        [ 9.9688e-02, -2.4927e-02, -8.6694e-02],\n",
       "                        [ 2.3739e-02,  5.8276e-02, -1.0495e-01]]],\n",
       "              \n",
       "              \n",
       "                      [[[-2.5902e-02, -6.5491e-02, -1.2571e-02],\n",
       "                        [-5.4631e-02, -4.7241e-02, -3.7386e-02],\n",
       "                        [-1.0847e-01,  8.0806e-02,  8.2471e-02]],\n",
       "              \n",
       "                       [[-1.7287e-02, -1.2549e-02, -4.4785e-02],\n",
       "                        [-9.5867e-02, -1.0329e-01,  3.5694e-02],\n",
       "                        [-6.4599e-02, -7.2923e-02, -1.4664e-02]],\n",
       "              \n",
       "                       [[-3.9172e-02, -3.7882e-02,  1.2934e-04],\n",
       "                        [-2.4375e-02, -3.7184e-02, -4.9595e-02],\n",
       "                        [-8.3818e-02,  8.7832e-02, -4.2032e-02]],\n",
       "              \n",
       "                       [[ 2.4746e-02, -4.0057e-02,  4.9265e-03],\n",
       "                        [ 9.5400e-02,  4.4361e-02, -9.3749e-02],\n",
       "                        [ 3.3213e-02,  9.1675e-02,  2.3571e-02]],\n",
       "              \n",
       "                       [[ 7.0585e-02,  1.0389e-01, -1.6420e-02],\n",
       "                        [ 2.1857e-02, -7.3250e-02, -2.2621e-02],\n",
       "                        [ 7.4066e-02,  5.0576e-02, -6.9031e-02]],\n",
       "              \n",
       "                       [[-8.4526e-02, -7.2040e-02, -1.0408e-01],\n",
       "                        [-8.1340e-02, -2.5958e-02,  7.1348e-02],\n",
       "                        [ 1.7818e-02, -8.0193e-02, -8.4568e-02]],\n",
       "              \n",
       "                       [[ 5.0893e-02, -7.9566e-02, -1.3977e-02],\n",
       "                        [ 4.9637e-02, -4.8960e-02, -1.0862e-02],\n",
       "                        [-8.2580e-03, -2.4584e-02, -5.3461e-02]],\n",
       "              \n",
       "                       [[-9.3965e-02, -8.5205e-02, -5.6437e-02],\n",
       "                        [ 1.0177e-01, -5.1237e-02, -7.0701e-02],\n",
       "                        [ 2.2043e-02,  2.8331e-02,  5.8418e-02]],\n",
       "              \n",
       "                       [[ 8.0051e-02,  5.8692e-02, -1.0462e-01],\n",
       "                        [ 9.2553e-03,  6.3199e-02, -1.1642e-02],\n",
       "                        [-6.9717e-02,  9.3282e-02, -4.2543e-02]],\n",
       "              \n",
       "                       [[-6.0014e-02, -9.5032e-02,  4.7085e-03],\n",
       "                        [ 4.6710e-02,  2.3334e-02,  2.0845e-02],\n",
       "                        [-7.9941e-02, -9.8440e-02,  1.8562e-03]]],\n",
       "              \n",
       "              \n",
       "                      [[[ 1.8168e-01,  6.5994e-02, -2.5460e-01],\n",
       "                        [ 2.4490e-01,  6.3180e-02, -1.4425e-01],\n",
       "                        [ 2.8233e-02,  1.9421e-02,  3.3498e-01]],\n",
       "              \n",
       "                       [[-4.0915e-02, -8.3952e-02, -8.1208e-02],\n",
       "                        [ 1.6831e-01,  5.3760e-02,  1.5108e-01],\n",
       "                        [-7.3384e-02, -5.0727e-02,  1.1938e-01]],\n",
       "              \n",
       "                       [[-1.3045e-01, -3.9921e-01, -3.0649e-01],\n",
       "                        [-1.5188e-01, -1.1299e-01, -9.2870e-02],\n",
       "                        [ 2.4291e-02, -1.5083e-01, -1.9854e-01]],\n",
       "              \n",
       "                       [[ 5.7544e-02,  1.0934e-01,  1.1310e-01],\n",
       "                        [-4.4848e-01, -3.4776e-01, -1.1392e-01],\n",
       "                        [-3.1467e-01, -2.9013e-01, -2.1217e-01]],\n",
       "              \n",
       "                       [[-1.2794e-01, -2.0276e-01, -9.3787e-02],\n",
       "                        [ 1.0496e-01,  4.1025e-02,  3.5098e-02],\n",
       "                        [ 1.2862e-01,  1.9259e-01,  1.7173e-01]],\n",
       "              \n",
       "                       [[-4.9022e-02, -5.5182e-02,  3.6777e-02],\n",
       "                        [-6.3420e-02, -6.9479e-02, -7.2643e-04],\n",
       "                        [-3.8322e-02, -8.1872e-02,  5.8425e-02]],\n",
       "              \n",
       "                       [[ 1.9205e-02, -1.2695e-01, -2.6501e-02],\n",
       "                        [-2.2497e-01, -2.6307e-01, -6.9531e-02],\n",
       "                        [ 1.0768e-01,  3.2242e-02,  5.9935e-02]],\n",
       "              \n",
       "                       [[-6.2325e-02, -1.3054e-01, -1.6185e-03],\n",
       "                        [-2.0527e-01, -9.9329e-02, -1.3602e-01],\n",
       "                        [ 8.9245e-03, -8.6296e-02,  1.1515e-02]],\n",
       "              \n",
       "                       [[-1.5948e-01, -1.2630e-01, -2.2190e-02],\n",
       "                        [-2.7063e-01, -2.4501e-01, -1.3057e-01],\n",
       "                        [ 2.6094e-02,  2.4575e-02, -2.9283e-02]],\n",
       "              \n",
       "                       [[-1.0379e-01, -8.6400e-02,  2.0558e-02],\n",
       "                        [ 2.8274e-02,  2.2197e-02, -2.8694e-02],\n",
       "                        [ 9.7432e-02,  1.5351e-02, -6.2076e-02]]],\n",
       "              \n",
       "              \n",
       "                      [[[ 5.0846e-02,  1.6706e-01,  1.8823e-01],\n",
       "                        [-6.4476e-02,  1.0217e-01, -1.7438e-03],\n",
       "                        [-1.6412e-01, -1.7572e-01,  1.1090e-02]],\n",
       "              \n",
       "                       [[ 2.1859e-01,  3.5154e-01,  2.0581e-01],\n",
       "                        [ 1.3457e-01,  4.5211e-02, -5.9951e-02],\n",
       "                        [-1.1412e-01, -2.1454e-01, -2.1312e-01]],\n",
       "              \n",
       "                       [[-6.7460e-02,  6.2571e-03,  5.6923e-03],\n",
       "                        [-8.2322e-02, -6.9187e-02,  4.3077e-03],\n",
       "                        [-7.3635e-02, -2.8817e-02,  7.5020e-02]],\n",
       "              \n",
       "                       [[-1.6666e-02,  1.0324e-01,  6.1157e-02],\n",
       "                        [ 2.6712e-02,  5.9180e-03, -3.3930e-02],\n",
       "                        [-1.1853e-02, -1.8945e-02, -1.5469e-02]],\n",
       "              \n",
       "                       [[ 7.3366e-02,  1.8256e-01,  5.8819e-03],\n",
       "                        [-9.2685e-02, -4.5550e-02, -7.4587e-02],\n",
       "                        [-1.1786e-01, -7.4866e-03,  2.3726e-02]],\n",
       "              \n",
       "                       [[ 4.8677e-02, -7.7068e-02, -5.6717e-02],\n",
       "                        [-2.3300e-02, -1.8237e-02,  7.5310e-03],\n",
       "                        [-9.4428e-02,  3.3641e-02, -7.9946e-02]],\n",
       "              \n",
       "                       [[-9.0431e-02, -9.2506e-02,  9.7500e-02],\n",
       "                        [-8.0503e-02,  9.8748e-02,  3.4147e-02],\n",
       "                        [ 2.3944e-02,  8.6706e-02, -1.0704e-02]],\n",
       "              \n",
       "                       [[ 6.7502e-02,  9.6419e-02, -7.5841e-02],\n",
       "                        [ 2.3410e-02,  9.6950e-03,  1.3715e-02],\n",
       "                        [-4.7347e-03,  2.1997e-03, -6.7962e-02]],\n",
       "              \n",
       "                       [[ 2.7726e-02,  1.3881e-01,  1.1579e-01],\n",
       "                        [-4.4731e-04, -9.8462e-02,  1.2831e-02],\n",
       "                        [-6.5403e-02,  9.3321e-02, -7.4100e-02]],\n",
       "              \n",
       "                       [[-7.6373e-03, -2.3390e-02,  1.8735e-02],\n",
       "                        [ 9.9178e-02,  1.0088e-02,  6.1163e-02],\n",
       "                        [ 8.1813e-02,  8.5146e-02, -3.6407e-02]]],\n",
       "              \n",
       "              \n",
       "                      [[[ 2.0063e-03,  4.6738e-02,  2.3722e-01],\n",
       "                        [ 9.1402e-02,  2.3779e-02, -7.0355e-03],\n",
       "                        [-6.5529e-02, -4.5960e-02, -3.0757e-02]],\n",
       "              \n",
       "                       [[ 3.8164e-01,  2.5206e-01,  2.1460e-01],\n",
       "                        [ 9.4617e-03,  5.7954e-02, -4.8297e-02],\n",
       "                        [-1.0529e-01, -1.6051e-01, -7.2755e-02]],\n",
       "              \n",
       "                       [[-9.8193e-02, -7.6169e-02, -1.2350e-01],\n",
       "                        [-1.2947e-01, -5.9808e-02,  3.9794e-02],\n",
       "                        [-7.3741e-03,  5.8655e-03, -3.1525e-02]],\n",
       "              \n",
       "                       [[ 1.5247e-01, -5.5357e-02, -5.3107e-03],\n",
       "                        [-1.4096e-01, -2.3082e-01, -1.2502e-01],\n",
       "                        [-7.9828e-03, -5.4177e-02, -5.3403e-02]],\n",
       "              \n",
       "                       [[-9.7549e-02,  1.2243e-02,  1.7789e-02],\n",
       "                        [ 8.4625e-02,  1.1562e-01,  1.4359e-01],\n",
       "                        [-7.3391e-02, -1.0093e-01, -1.3307e-01]],\n",
       "              \n",
       "                       [[-8.4248e-02, -9.2813e-03, -9.2510e-02],\n",
       "                        [ 7.4371e-02,  1.6989e-02, -5.3938e-02],\n",
       "                        [ 5.6643e-02, -1.0287e-01, -4.3645e-02]],\n",
       "              \n",
       "                       [[ 6.1568e-03, -7.6232e-02, -5.0472e-02],\n",
       "                        [ 2.8019e-02,  5.9044e-02,  8.0711e-02],\n",
       "                        [ 1.0936e-01, -5.6279e-02, -6.5750e-02]],\n",
       "              \n",
       "                       [[ 8.4717e-02, -2.0559e-03,  3.3902e-02],\n",
       "                        [-2.3866e-03, -1.0475e-01, -8.9918e-02],\n",
       "                        [ 4.5256e-02, -4.6962e-02, -6.3786e-03]],\n",
       "              \n",
       "                       [[-1.3762e-01, -9.9926e-02, -4.1932e-02],\n",
       "                        [-1.5260e-01, -5.1672e-02, -4.3122e-03],\n",
       "                        [-1.0079e-01,  3.3076e-02, -8.9933e-02]],\n",
       "              \n",
       "                       [[-5.1362e-02,  4.0411e-02,  8.3707e-02],\n",
       "                        [-2.8649e-02, -4.3164e-02, -9.5417e-02],\n",
       "                        [-5.4312e-02, -9.2238e-02, -2.4015e-02]]],\n",
       "              \n",
       "              \n",
       "                      [[[ 9.7620e-02, -1.3332e-01,  1.3914e-01],\n",
       "                        [ 1.4518e-01, -6.1489e-02, -1.8401e-01],\n",
       "                        [ 2.8182e-01,  1.9500e-02, -2.3516e-01]],\n",
       "              \n",
       "                       [[ 4.3880e-02,  1.8668e-01, -2.8423e-01],\n",
       "                        [ 3.7823e-01,  7.7213e-02, -2.6899e-01],\n",
       "                        [ 4.3169e-01, -1.2733e-01, -3.8505e-01]],\n",
       "              \n",
       "                       [[-1.0305e-01, -1.0616e-01, -1.3756e-01],\n",
       "                        [-5.6590e-02, -2.4712e-01,  9.4156e-03],\n",
       "                        [-1.1313e-02, -8.2445e-02,  4.8389e-02]],\n",
       "              \n",
       "                       [[-1.6944e-01,  4.8286e-02, -3.5627e-02],\n",
       "                        [-1.1400e-01, -7.8337e-02,  1.5209e-01],\n",
       "                        [ 3.3401e-02, -1.8702e-01,  1.5467e-01]],\n",
       "              \n",
       "                       [[ 9.2076e-02,  5.7411e-02, -1.8881e-01],\n",
       "                        [ 1.2887e-01,  1.1105e-01, -1.1254e-01],\n",
       "                        [ 2.6625e-02,  3.6900e-02, -1.0602e-01]],\n",
       "              \n",
       "                       [[ 9.6451e-02, -9.1548e-02, -3.2162e-02],\n",
       "                        [-1.0232e-01, -4.4511e-02,  3.3292e-02],\n",
       "                        [ 1.0281e-01,  1.6646e-02,  1.0151e-01]],\n",
       "              \n",
       "                       [[-2.0830e-02,  3.8169e-02,  1.2553e-01],\n",
       "                        [ 3.0881e-02, -6.8503e-02,  1.3113e-01],\n",
       "                        [ 7.8394e-02,  2.9655e-02,  2.7514e-02]],\n",
       "              \n",
       "                       [[-1.3516e-01, -4.7106e-02, -1.2386e-01],\n",
       "                        [ 6.2657e-03,  3.8954e-03, -1.5861e-01],\n",
       "                        [ 2.4131e-02, -4.1740e-02,  2.6989e-02]],\n",
       "              \n",
       "                       [[ 1.4000e-02, -1.6562e-01, -1.3902e-02],\n",
       "                        [ 9.4194e-02,  4.1669e-02, -1.5991e-01],\n",
       "                        [-2.9522e-02, -2.5839e-02, -8.1828e-02]],\n",
       "              \n",
       "                       [[ 5.9417e-02,  3.8324e-02,  8.3604e-02],\n",
       "                        [-3.9440e-02,  3.5529e-02,  3.7571e-02],\n",
       "                        [-8.7592e-02, -1.0225e-01, -5.4718e-02]]],\n",
       "              \n",
       "              \n",
       "                      [[[ 2.9036e-02, -2.2405e-01, -1.9724e-01],\n",
       "                        [ 2.6162e-02,  4.5494e-02,  5.3915e-02],\n",
       "                        [ 1.1070e-01,  1.2813e-01,  3.3843e-02]],\n",
       "              \n",
       "                       [[-6.7891e-02, -9.4950e-02, -1.2061e-01],\n",
       "                        [ 1.3561e-01,  2.8986e-01, -1.1347e-01],\n",
       "                        [ 1.2807e-01,  2.8440e-01, -2.3425e-01]],\n",
       "              \n",
       "                       [[-2.2903e-01, -2.4482e-01, -1.7977e-01],\n",
       "                        [-1.6029e-01, -3.2746e-01, -1.7199e-01],\n",
       "                        [ 4.4731e-02, -2.8889e-01, -2.0842e-01]],\n",
       "              \n",
       "                       [[-1.7405e-01, -1.9687e-01,  2.8753e-01],\n",
       "                        [-1.1809e-01, -1.2758e-01,  1.5128e-01],\n",
       "                        [-1.0537e-01, -2.7130e-01,  4.7070e-02]],\n",
       "              \n",
       "                       [[-3.3244e-02, -3.7453e-02, -1.0438e-01],\n",
       "                        [ 2.9458e-02,  1.0794e-01, -7.3772e-02],\n",
       "                        [-1.9031e-01,  2.7451e-02,  2.5941e-02]],\n",
       "              \n",
       "                       [[-1.9625e-02, -7.2933e-02,  9.5892e-03],\n",
       "                        [ 1.9242e-02, -1.3926e-02,  1.0974e-02],\n",
       "                        [-3.9392e-02,  2.6320e-02,  3.4128e-02]],\n",
       "              \n",
       "                       [[-9.4320e-02, -1.8717e-01,  5.0232e-02],\n",
       "                        [-1.4000e-01, -1.6845e-01,  8.1109e-02],\n",
       "                        [-5.6446e-02,  1.2167e-01,  1.1795e-01]],\n",
       "              \n",
       "                       [[-1.8456e-01,  1.0995e-03, -1.0537e-01],\n",
       "                        [-1.6140e-01, -1.7304e-02,  4.0606e-03],\n",
       "                        [ 6.6950e-02, -3.8295e-02,  3.3210e-02]],\n",
       "              \n",
       "                       [[-1.8676e-01,  3.4368e-02, -6.4252e-02],\n",
       "                        [-1.2847e-01, -3.4912e-02,  3.5703e-02],\n",
       "                        [ 4.3106e-02, -1.0983e-02, -1.1021e-01]],\n",
       "              \n",
       "                       [[ 2.0132e-02,  2.8574e-02,  4.0628e-02],\n",
       "                        [ 5.7952e-02, -2.3966e-02,  5.8630e-02],\n",
       "                        [ 7.7921e-02, -2.7494e-02,  7.4629e-02]]],\n",
       "              \n",
       "              \n",
       "                      [[[ 2.4470e-01,  2.7548e-02, -1.8772e-01],\n",
       "                        [ 8.1272e-02, -4.2245e-02, -2.2313e-01],\n",
       "                        [ 2.2424e-01,  2.0595e-01, -8.8519e-02]],\n",
       "              \n",
       "                       [[ 5.9891e-02,  2.6637e-01, -3.6426e-01],\n",
       "                        [ 6.2171e-02,  2.0519e-01, -5.0734e-01],\n",
       "                        [ 2.0644e-01,  2.2115e-01, -3.0531e-01]],\n",
       "              \n",
       "                       [[-1.5363e-01, -3.0849e-01, -8.4136e-02],\n",
       "                        [-1.6216e-01, -2.0891e-01, -1.7049e-01],\n",
       "                        [ 1.5340e-02, -1.7731e-01, -1.1340e-01]],\n",
       "              \n",
       "                       [[-9.5242e-02,  1.3265e-01,  2.5164e-01],\n",
       "                        [ 2.8672e-02, -3.2721e-02,  1.1248e-01],\n",
       "                        [-3.6234e-02, -1.4498e-01,  2.9373e-01]],\n",
       "              \n",
       "                       [[ 1.8067e-04,  1.6811e-01, -7.2146e-02],\n",
       "                        [ 5.0444e-02,  1.3980e-01, -4.4522e-01],\n",
       "                        [ 1.5767e-02,  7.4123e-02, -2.2064e-01]],\n",
       "              \n",
       "                       [[ 8.9437e-02,  8.3464e-02,  3.5683e-02],\n",
       "                        [ 7.2000e-03, -8.8881e-02, -1.0582e-02],\n",
       "                        [ 9.8567e-02,  2.7768e-02,  7.8548e-03]],\n",
       "              \n",
       "                       [[-3.5342e-02, -2.0637e-02,  1.9705e-01],\n",
       "                        [ 7.3231e-02,  1.2972e-01,  9.4593e-02],\n",
       "                        [ 3.8574e-02,  3.0888e-02, -3.4251e-02]],\n",
       "              \n",
       "                       [[ 8.7077e-02,  7.1723e-02,  1.0797e-01],\n",
       "                        [ 6.2387e-03, -2.0921e-02, -7.1884e-02],\n",
       "                        [-5.9563e-02,  3.3261e-03, -3.5459e-02]],\n",
       "              \n",
       "                       [[ 7.5267e-03,  8.3065e-02,  2.5172e-01],\n",
       "                        [ 7.8665e-02,  3.6993e-03,  1.7576e-02],\n",
       "                        [-8.6141e-02, -5.6417e-02,  1.5594e-01]],\n",
       "              \n",
       "                       [[ 5.5717e-02,  9.5203e-02,  1.7562e-04],\n",
       "                        [ 2.1296e-02,  3.6521e-02, -9.9726e-02],\n",
       "                        [ 9.7476e-03, -7.1186e-03, -5.9134e-02]]],\n",
       "              \n",
       "              \n",
       "                      [[[ 2.0381e-02,  2.2391e-01,  2.2911e-01],\n",
       "                        [-3.2639e-02,  1.2863e-01,  7.4324e-02],\n",
       "                        [-2.6471e-01, -8.5098e-02, -1.3123e-02]],\n",
       "              \n",
       "                       [[ 8.7333e-02,  4.0035e-02,  1.5868e-01],\n",
       "                        [-1.3808e-01, -2.1802e-02,  1.3245e-01],\n",
       "                        [-2.4755e-01, -2.6593e-01, -2.2953e-03]],\n",
       "              \n",
       "                       [[-8.6255e-02, -6.9113e-02,  7.9300e-02],\n",
       "                        [-7.6000e-02, -7.8313e-02, -8.0637e-02],\n",
       "                        [ 1.3761e-02,  2.3878e-02, -7.8028e-02]],\n",
       "              \n",
       "                       [[-2.2450e-02, -7.1602e-02, -5.8325e-02],\n",
       "                        [-1.5183e-01, -1.1657e-01, -4.9315e-02],\n",
       "                        [-6.9096e-02, -9.9087e-02,  1.0608e-02]],\n",
       "              \n",
       "                       [[-6.0531e-02, -2.2327e-02, -2.3907e-02],\n",
       "                        [-9.7579e-04, -8.3771e-02, -2.6474e-02],\n",
       "                        [-3.8480e-02, -4.2801e-02,  5.1789e-02]],\n",
       "              \n",
       "                       [[-9.9610e-02, -7.6136e-02, -4.1421e-02],\n",
       "                        [ 8.6852e-02,  1.0492e-02, -7.9165e-02],\n",
       "                        [ 1.9771e-03, -8.2894e-02, -2.3156e-02]],\n",
       "              \n",
       "                       [[-2.3039e-02,  9.3196e-02,  1.3170e-02],\n",
       "                        [ 4.6283e-02,  1.6695e-02, -3.7552e-02],\n",
       "                        [ 7.5262e-02,  4.6371e-02, -8.9966e-03]],\n",
       "              \n",
       "                       [[-3.6388e-02,  1.0410e-01,  2.7399e-03],\n",
       "                        [-5.0601e-02,  5.6293e-02,  9.7928e-02],\n",
       "                        [ 8.9402e-02,  2.0212e-02, -3.7368e-02]],\n",
       "              \n",
       "                       [[ 6.2417e-02,  1.1666e-01, -1.0801e-01],\n",
       "                        [-1.5316e-02, -7.5717e-02,  8.0657e-03],\n",
       "                        [ 3.4165e-02, -2.3404e-02, -7.3533e-03]],\n",
       "              \n",
       "                       [[ 4.7553e-02, -1.7714e-02, -8.8540e-02],\n",
       "                        [ 8.4309e-02, -5.2950e-02, -1.1458e-02],\n",
       "                        [ 9.9708e-03, -6.3600e-03, -9.9144e-02]]]], device='cuda:0')),\n",
       "             ('conv_block_1.2.bias',\n",
       "              tensor([ 0.3288, -0.0079, -0.0659,  0.5453, -0.1147,  0.1794,  0.0769,  0.3028,\n",
       "                       0.2241,  0.0047], device='cuda:0')),\n",
       "             ('conv_block_2.0.weight',\n",
       "              tensor([[[[ 2.6577e-02, -8.5999e-02, -6.4439e-02],\n",
       "                        [ 2.3462e-03,  1.4966e-02,  5.9303e-02],\n",
       "                        [-7.4818e-02,  3.2955e-02,  6.0450e-02]],\n",
       "              \n",
       "                       [[ 5.8096e-02, -9.8969e-02, -4.0762e-02],\n",
       "                        [-9.0292e-02, -6.7026e-02,  5.7105e-02],\n",
       "                        [-1.5989e-02,  4.4765e-02, -6.2586e-02]],\n",
       "              \n",
       "                       [[ 1.6013e-02, -6.3759e-02,  5.2693e-02],\n",
       "                        [-4.6143e-02, -2.6422e-02, -9.1452e-02],\n",
       "                        [ 3.4816e-04,  1.0008e-01,  5.1163e-02]],\n",
       "              \n",
       "                       [[-5.7923e-02, -2.9418e-03, -1.5873e-02],\n",
       "                        [-8.6743e-02,  7.4956e-02, -9.6212e-03],\n",
       "                        [ 1.8653e-02, -4.9565e-02, -5.8752e-02]],\n",
       "              \n",
       "                       [[ 1.5885e-02,  3.7941e-02,  2.2499e-02],\n",
       "                        [-5.4605e-02,  9.9361e-02, -1.8486e-02],\n",
       "                        [-6.6767e-02, -5.3289e-02,  1.0000e-01]],\n",
       "              \n",
       "                       [[ 7.1743e-05, -1.4928e-02, -4.4216e-02],\n",
       "                        [-3.1026e-02, -9.3950e-02, -8.8228e-02],\n",
       "                        [ 5.9484e-02,  8.4847e-02,  9.5094e-02]],\n",
       "              \n",
       "                       [[-7.6754e-02,  5.3608e-02, -6.7639e-02],\n",
       "                        [ 6.2075e-02,  7.2732e-02,  7.8425e-02],\n",
       "                        [ 7.4614e-02,  6.1592e-02, -4.3391e-04]],\n",
       "              \n",
       "                       [[ 4.7352e-02, -4.0482e-02,  4.3344e-02],\n",
       "                        [-3.4741e-02, -5.5303e-03, -9.5681e-02],\n",
       "                        [-2.9391e-02, -5.8577e-02, -3.8565e-02]],\n",
       "              \n",
       "                       [[-7.0152e-02, -9.8769e-02,  3.1013e-03],\n",
       "                        [ 6.6947e-02,  9.2052e-02,  5.7443e-02],\n",
       "                        [-5.7706e-02, -1.0961e-01,  3.8004e-02]],\n",
       "              \n",
       "                       [[ 5.8623e-02, -9.0180e-02,  3.7614e-02],\n",
       "                        [ 8.6901e-02,  5.1905e-03, -6.4466e-02],\n",
       "                        [ 8.5972e-02,  4.4433e-02,  6.8744e-02]]],\n",
       "              \n",
       "              \n",
       "                      [[[-8.9061e-02,  3.6738e-02, -8.6567e-02],\n",
       "                        [ 9.2101e-02, -6.5270e-02,  5.2113e-02],\n",
       "                        [ 1.9546e-02,  1.8557e-02, -1.9081e-02]],\n",
       "              \n",
       "                       [[ 4.3199e-02, -4.4124e-02, -9.9625e-02],\n",
       "                        [-4.0086e-02,  8.2916e-02, -2.7334e-02],\n",
       "                        [ 3.3521e-02, -3.8682e-02,  7.9584e-02]],\n",
       "              \n",
       "                       [[ 6.3092e-02,  3.7213e-02, -5.3880e-02],\n",
       "                        [-8.6137e-02,  3.9674e-03, -6.1841e-02],\n",
       "                        [ 8.6665e-02, -1.0130e-01,  4.7103e-02]],\n",
       "              \n",
       "                       [[ 4.0374e-02,  1.9383e-02, -1.2122e-02],\n",
       "                        [-1.7491e-01,  6.0758e-02, -7.1223e-02],\n",
       "                        [-2.0120e-01,  2.8176e-02, -1.2836e-01]],\n",
       "              \n",
       "                       [[-3.2253e-04,  1.0837e-01, -7.9437e-02],\n",
       "                        [-6.7661e-02,  3.1464e-02, -1.9175e-02],\n",
       "                        [ 1.0628e-02, -9.5400e-02, -2.1590e-02]],\n",
       "              \n",
       "                       [[-5.9500e-02, -6.2735e-02, -1.0750e-01],\n",
       "                        [ 4.7698e-02,  1.3812e-02, -9.6262e-02],\n",
       "                        [ 7.5474e-02,  2.5233e-02,  1.2408e-02]],\n",
       "              \n",
       "                       [[-1.2598e-01, -2.0882e-02,  5.8546e-02],\n",
       "                        [ 1.2725e-02, -1.1499e-01,  5.7533e-02],\n",
       "                        [-6.9024e-02, -3.2058e-03,  2.2191e-02]],\n",
       "              \n",
       "                       [[ 5.9432e-02, -9.5911e-02,  6.4154e-02],\n",
       "                        [-9.6648e-02,  1.2033e-03, -9.4484e-02],\n",
       "                        [-6.7250e-02, -3.2112e-02, -5.2380e-02]],\n",
       "              \n",
       "                       [[-5.8209e-02,  1.2024e-03,  8.4074e-02],\n",
       "                        [ 2.8645e-02,  6.1799e-02,  3.2882e-02],\n",
       "                        [ 2.1665e-02, -3.4150e-02, -3.1332e-02]],\n",
       "              \n",
       "                       [[ 3.3772e-02, -8.0258e-02, -7.8346e-02],\n",
       "                        [ 2.3797e-02, -3.0687e-02,  2.8702e-03],\n",
       "                        [-1.7900e-02,  2.2019e-02,  6.9172e-02]]],\n",
       "              \n",
       "              \n",
       "                      [[[-5.3952e-02,  9.2568e-02,  9.5710e-02],\n",
       "                        [-1.5698e-01, -1.5816e-01, -1.8662e-01],\n",
       "                        [-6.7992e-02,  4.7014e-02,  6.8052e-02]],\n",
       "              \n",
       "                       [[-1.1658e-01,  2.4563e-02,  1.1400e-01],\n",
       "                        [-1.2625e-01,  6.5936e-02, -3.4052e-03],\n",
       "                        [-1.7946e-01, -8.7922e-02, -9.1950e-02]],\n",
       "              \n",
       "                       [[ 8.1175e-02,  6.6372e-02,  9.7877e-02],\n",
       "                        [-7.9060e-02,  6.9075e-02,  8.7930e-02],\n",
       "                        [-5.2440e-02,  9.6931e-02,  7.9206e-02]],\n",
       "              \n",
       "                       [[-9.2155e-02,  2.3233e-01, -3.1967e-03],\n",
       "                        [-1.8964e-01,  4.6421e-01,  5.1636e-01],\n",
       "                        [-4.3420e-01, -1.2403e-01,  5.7997e-02]],\n",
       "              \n",
       "                       [[ 2.1021e-01,  3.9328e-02,  8.1621e-02],\n",
       "                        [-5.1157e-02, -1.5508e-02,  4.7264e-02],\n",
       "                        [-7.7903e-02,  2.1883e-03,  3.7783e-04]],\n",
       "              \n",
       "                       [[ 1.5897e-01,  1.1416e-02, -2.2535e-02],\n",
       "                        [ 5.2003e-02,  2.4118e-01,  1.0037e-01],\n",
       "                        [-1.8377e-01,  5.0332e-02,  5.8325e-02]],\n",
       "              \n",
       "                       [[-1.3988e-01,  6.2402e-02,  5.6594e-02],\n",
       "                        [-4.3423e-01, -1.7471e-01,  1.1973e-01],\n",
       "                        [-5.5435e-02, -1.9560e-01, -1.7897e-01]],\n",
       "              \n",
       "                       [[-2.1055e-01, -1.1521e-01,  2.3115e-01],\n",
       "                        [-3.3322e-01,  3.1721e-01,  3.5790e-01],\n",
       "                        [-1.9296e-01, -4.7031e-02,  4.2780e-02]],\n",
       "              \n",
       "                       [[-1.7333e-01, -7.7664e-02,  4.0068e-01],\n",
       "                        [-4.2076e-01, -1.6395e-01,  2.8217e-01],\n",
       "                        [-5.0377e-02, -2.5619e-01, -1.7672e-01]],\n",
       "              \n",
       "                       [[ 2.2695e-01, -5.2644e-02, -3.8702e-02],\n",
       "                        [-7.6557e-03,  1.4096e-01,  4.9839e-02],\n",
       "                        [-4.4482e-02,  6.8404e-02,  1.0295e-01]]],\n",
       "              \n",
       "              \n",
       "                      [[[ 2.6541e-01,  1.2080e-01, -1.5297e-02],\n",
       "                        [ 1.0743e-02, -1.4630e-01,  4.7126e-02],\n",
       "                        [ 5.9892e-02, -1.1789e-01, -1.2885e-02]],\n",
       "              \n",
       "                       [[ 3.0212e-01,  1.1663e-01, -1.5987e-01],\n",
       "                        [ 1.9110e-01, -1.5874e-01, -1.2501e-01],\n",
       "                        [-6.6691e-02, -1.7215e-01, -5.1095e-02]],\n",
       "              \n",
       "                       [[ 2.1020e-02,  5.6893e-02, -5.0596e-02],\n",
       "                        [ 1.0909e-02,  1.5791e-03,  2.6597e-02],\n",
       "                        [-5.7807e-02,  5.9298e-02,  6.9865e-02]],\n",
       "              \n",
       "                       [[-5.5367e-01, -5.3061e-01,  1.9313e-01],\n",
       "                        [ 7.1278e-02,  5.9524e-01,  3.0736e-01],\n",
       "                        [-1.5830e-01,  4.1631e-01,  7.7440e-02]],\n",
       "              \n",
       "                       [[ 1.2419e-01, -8.2706e-02, -9.4451e-02],\n",
       "                        [ 5.6128e-02, -1.6679e-01,  5.3169e-02],\n",
       "                        [-2.3110e-02,  9.1865e-02,  7.3854e-02]],\n",
       "              \n",
       "                       [[-3.0918e-01, -4.4494e-01,  7.7588e-02],\n",
       "                        [-1.8964e-01,  2.0474e-01,  3.1214e-01],\n",
       "                        [ 4.2024e-02,  3.3160e-01,  1.9735e-01]],\n",
       "              \n",
       "                       [[-1.6142e-01, -7.2666e-02, -1.2835e-01],\n",
       "                        [-2.8087e-01,  2.8410e-01,  9.8949e-02],\n",
       "                        [-4.2739e-01, -3.6119e-02,  1.5764e-01]],\n",
       "              \n",
       "                       [[-9.0996e-02, -3.7825e-01,  8.4625e-02],\n",
       "                        [-2.2323e-01,  3.4574e-01,  1.3248e-01],\n",
       "                        [-3.2271e-01,  2.1213e-01,  1.2791e-01]],\n",
       "              \n",
       "                       [[ 2.8250e-01, -1.3011e-01, -2.1987e-01],\n",
       "                        [-3.0298e-01, -1.1521e-02, -2.0488e-02],\n",
       "                        [-4.7011e-01,  3.7880e-02, -2.9447e-02]],\n",
       "              \n",
       "                       [[ 1.6886e-01, -1.8909e-01, -6.4158e-02],\n",
       "                        [ 1.4082e-01, -1.5698e-01, -3.7512e-02],\n",
       "                        [-6.1964e-02,  1.3564e-01,  1.8002e-01]]],\n",
       "              \n",
       "              \n",
       "                      [[[-4.8177e-02,  1.1888e-01, -6.5460e-02],\n",
       "                        [-1.0331e-01,  8.9105e-02,  3.5802e-02],\n",
       "                        [ 1.3527e-01,  2.3439e-02,  9.7713e-02]],\n",
       "              \n",
       "                       [[ 1.0412e-01,  7.9437e-02, -1.2684e-01],\n",
       "                        [ 8.3799e-02, -6.3815e-02,  9.5503e-02],\n",
       "                        [-1.9944e-02, -6.5469e-02,  4.1200e-02]],\n",
       "              \n",
       "                       [[-2.1470e-02, -9.4700e-02, -3.8259e-02],\n",
       "                        [ 1.0870e-02,  8.2071e-02, -3.2450e-02],\n",
       "                        [ 6.2611e-02,  1.3225e-02,  3.6182e-03]],\n",
       "              \n",
       "                       [[ 2.3317e-01, -1.4154e-01, -2.6091e-01],\n",
       "                        [ 1.2084e-01, -1.2628e-01, -1.9069e-01],\n",
       "                        [ 7.9318e-02, -6.0874e-02, -1.4352e-01]],\n",
       "              \n",
       "                       [[-2.2276e-02, -4.2625e-02, -9.0847e-02],\n",
       "                        [ 2.7202e-02, -3.8719e-02,  1.6941e-04],\n",
       "                        [ 4.3226e-02, -7.6604e-02, -4.9750e-02]],\n",
       "              \n",
       "                       [[ 2.0948e-02, -1.3328e-01, -8.0809e-02],\n",
       "                        [ 5.6987e-02, -8.2849e-04, -5.1772e-02],\n",
       "                        [ 1.4014e-01, -2.7590e-02, -1.2271e-01]],\n",
       "              \n",
       "                       [[ 1.6593e-01, -7.8553e-02, -8.6475e-02],\n",
       "                        [ 5.6513e-02, -5.1655e-02, -8.9466e-02],\n",
       "                        [ 1.2531e-01,  5.4493e-02,  6.2651e-03]],\n",
       "              \n",
       "                       [[ 2.3165e-01, -1.3788e-01, -1.0482e-01],\n",
       "                        [ 1.0980e-01,  4.9956e-02, -1.6616e-01],\n",
       "                        [ 2.7646e-02, -4.1769e-02, -6.5259e-02]],\n",
       "              \n",
       "                       [[ 1.1356e-01, -1.1649e-01, -2.0932e-01],\n",
       "                        [ 3.1704e-02,  5.6223e-02, -2.0953e-02],\n",
       "                        [-5.2556e-02, -3.0597e-02, -2.4863e-02]],\n",
       "              \n",
       "                       [[-1.0571e-01,  2.5246e-02,  8.1334e-02],\n",
       "                        [ 1.0185e-02, -9.4835e-02,  4.2044e-03],\n",
       "                        [ 5.3887e-02,  7.4242e-02, -6.7878e-02]]],\n",
       "              \n",
       "              \n",
       "                      [[[-1.0215e-01,  3.4113e-02, -3.9875e-03],\n",
       "                        [-3.9232e-02, -5.2813e-02, -6.5769e-02],\n",
       "                        [ 7.7191e-02, -2.7971e-02,  6.6314e-02]],\n",
       "              \n",
       "                       [[ 9.0788e-02,  9.1072e-03,  2.0570e-02],\n",
       "                        [-9.3459e-03,  6.9203e-02, -9.9736e-02],\n",
       "                        [ 3.9993e-02, -2.0489e-02,  4.4429e-02]],\n",
       "              \n",
       "                       [[-4.6738e-04, -3.9028e-02, -1.1383e-02],\n",
       "                        [ 5.6920e-02, -7.3207e-02, -6.6628e-02],\n",
       "                        [-2.3612e-02, -3.8237e-02,  4.1406e-02]],\n",
       "              \n",
       "                       [[ 2.4427e-02, -5.3084e-02,  5.1320e-02],\n",
       "                        [-9.6599e-02, -1.0433e-01, -8.7953e-02],\n",
       "                        [-1.2059e-01, -1.1529e-01, -1.3879e-01]],\n",
       "              \n",
       "                       [[-9.3515e-02,  3.1264e-02,  6.3648e-02],\n",
       "                        [ 9.7719e-02,  9.6334e-02,  1.0129e-02],\n",
       "                        [ 2.0089e-02, -5.6732e-02,  5.3441e-02]],\n",
       "              \n",
       "                       [[-9.9046e-02,  4.8345e-02,  6.9282e-03],\n",
       "                        [ 2.8880e-02,  3.8707e-02, -4.5372e-02],\n",
       "                        [ 8.1953e-02,  4.3232e-02,  6.3325e-02]],\n",
       "              \n",
       "                       [[-3.1970e-02,  2.4181e-02,  3.4005e-02],\n",
       "                        [ 4.5176e-03,  4.4554e-02, -5.5292e-02],\n",
       "                        [ 2.9970e-02, -9.0135e-03,  2.8548e-02]],\n",
       "              \n",
       "                       [[ 7.6478e-02, -7.7526e-04, -5.8580e-02],\n",
       "                        [-3.7984e-02,  7.6871e-03,  1.7507e-04],\n",
       "                        [-4.9602e-02,  6.5478e-02,  4.8768e-02]],\n",
       "              \n",
       "                       [[-1.0990e-01, -4.8362e-02, -3.8871e-02],\n",
       "                        [-1.0145e-01, -1.1162e-02, -5.0075e-02],\n",
       "                        [-8.1744e-02, -5.2575e-02, -5.0848e-02]],\n",
       "              \n",
       "                       [[ 1.0542e-01,  4.5613e-02,  1.0327e-01],\n",
       "                        [ 3.0457e-02,  2.7696e-02,  5.1021e-02],\n",
       "                        [ 1.8034e-02, -8.1525e-02, -5.9849e-02]]],\n",
       "              \n",
       "              \n",
       "                      [[[-4.0258e-02, -1.0135e-02,  3.0326e-02],\n",
       "                        [ 3.5097e-02,  7.9879e-02,  1.8775e-02],\n",
       "                        [-4.2204e-02, -7.9581e-02, -8.9637e-02]],\n",
       "              \n",
       "                       [[-6.9797e-02,  2.7790e-02,  5.4911e-02],\n",
       "                        [ 9.0178e-02, -2.9494e-02, -4.0773e-03],\n",
       "                        [-3.6040e-02,  8.3112e-03,  4.7637e-02]],\n",
       "              \n",
       "                       [[-2.3046e-03,  4.8886e-03,  1.3349e-02],\n",
       "                        [ 3.9272e-02, -3.1961e-02, -6.2887e-02],\n",
       "                        [ 2.4883e-02, -1.2500e-02, -4.7778e-02]],\n",
       "              \n",
       "                       [[ 8.9211e-03, -2.9015e-02, -5.1407e-02],\n",
       "                        [-7.9261e-02, -3.9948e-02, -1.2175e-01],\n",
       "                        [-1.3369e-02, -2.9791e-02,  5.5186e-02]],\n",
       "              \n",
       "                       [[-3.9420e-03,  1.1298e-03,  1.8062e-02],\n",
       "                        [ 7.9431e-02, -4.6643e-02,  6.2412e-02],\n",
       "                        [ 2.6712e-02, -6.7002e-02,  3.5331e-02]],\n",
       "              \n",
       "                       [[-6.6852e-02, -3.7036e-02, -5.5150e-02],\n",
       "                        [-7.6850e-02,  7.7806e-02, -9.8513e-02],\n",
       "                        [ 4.7839e-02, -9.9838e-02, -1.3019e-02]],\n",
       "              \n",
       "                       [[-2.2228e-02,  5.2625e-02, -6.6581e-02],\n",
       "                        [ 6.3018e-03, -1.5891e-03,  3.7875e-02],\n",
       "                        [-2.0128e-02,  1.9294e-02, -9.2676e-02]],\n",
       "              \n",
       "                       [[-9.3908e-02,  7.6498e-02, -9.9342e-02],\n",
       "                        [-3.6816e-02, -2.7671e-02,  8.6970e-02],\n",
       "                        [-4.0780e-02, -9.4628e-02, -2.3836e-02]],\n",
       "              \n",
       "                       [[ 2.0481e-02,  1.5888e-02,  5.5560e-02],\n",
       "                        [-4.7418e-02,  3.6158e-02, -1.1574e-01],\n",
       "                        [ 1.4598e-02,  3.5502e-02,  5.5730e-02]],\n",
       "              \n",
       "                       [[-5.9402e-02, -2.6418e-02,  2.7785e-02],\n",
       "                        [-7.2660e-02, -8.0590e-02, -9.7697e-02],\n",
       "                        [ 9.5191e-03,  7.0994e-02,  3.3550e-02]]],\n",
       "              \n",
       "              \n",
       "                      [[[-1.2799e-02,  7.6975e-02,  2.8153e-02],\n",
       "                        [-1.3642e-01, -1.9919e-01, -1.3058e-01],\n",
       "                        [ 1.8758e-01, -4.5273e-02, -8.9818e-02]],\n",
       "              \n",
       "                       [[-1.5290e-01,  3.8566e-02, -8.3359e-02],\n",
       "                        [-2.2429e-01, -1.0256e-01,  3.6597e-01],\n",
       "                        [-2.1275e-01, -6.5026e-02, -9.2397e-02]],\n",
       "              \n",
       "                       [[ 5.4981e-02, -4.5935e-02,  5.6491e-04],\n",
       "                        [-1.9315e-02,  6.8432e-02,  3.4183e-02],\n",
       "                        [-9.3679e-02,  1.0014e-02, -7.2355e-02]],\n",
       "              \n",
       "                       [[-3.2593e-01, -5.1341e-02, -8.5162e-01],\n",
       "                        [ 2.4624e-01,  9.7293e-01, -4.2505e-01],\n",
       "                        [-8.9869e-02,  5.0991e-01,  1.4368e-01]],\n",
       "              \n",
       "                       [[-1.0807e-01, -2.6459e-01,  7.6229e-02],\n",
       "                        [-1.4512e-01, -1.5806e-01, -8.5004e-02],\n",
       "                        [-1.6283e-03,  6.6047e-02, -4.5884e-02]],\n",
       "              \n",
       "                       [[-5.2410e-02, -3.1570e-01, -2.4696e-01],\n",
       "                        [ 3.8403e-02,  3.8802e-01, -2.6311e-01],\n",
       "                        [ 2.9490e-02,  1.4829e-01,  5.2172e-03]],\n",
       "              \n",
       "                       [[-1.2717e-01, -1.0259e-01, -8.4215e-02],\n",
       "                        [ 1.8907e-02,  3.1644e-01, -2.3427e-01],\n",
       "                        [-1.2619e-01,  1.1531e-01,  3.5982e-02]],\n",
       "              \n",
       "                       [[-2.4379e-01,  1.2049e-01, -2.9330e-01],\n",
       "                        [-3.6226e-02,  5.9986e-01, -8.3771e-02],\n",
       "                        [-2.7870e-01,  1.7479e-01,  1.7990e-01]],\n",
       "              \n",
       "                       [[-1.0099e-01,  1.4902e-01,  7.4258e-02],\n",
       "                        [-3.5443e-01,  3.5467e-01, -6.0353e-03],\n",
       "                        [-2.0801e-01, -2.3874e-01, -5.1583e-02]],\n",
       "              \n",
       "                       [[ 1.9415e-02, -1.9409e-01, -4.8727e-02],\n",
       "                        [-2.2394e-02,  6.1612e-02, -4.7382e-03],\n",
       "                        [ 7.6935e-03,  6.8068e-02, -2.2057e-01]]],\n",
       "              \n",
       "              \n",
       "                      [[[-7.6096e-02,  2.7138e-02,  2.2285e-01],\n",
       "                        [ 3.3544e-03,  1.6370e-01,  2.6649e-01],\n",
       "                        [-3.7734e-02, -1.0293e-01, -2.7151e-03]],\n",
       "              \n",
       "                       [[-1.5887e-01, -5.7531e-02,  8.6696e-02],\n",
       "                        [-1.4765e-01, -1.2232e-02, -4.8866e-02],\n",
       "                        [ 1.1987e-01,  1.4244e-01,  9.3116e-02]],\n",
       "              \n",
       "                       [[-2.5031e-04,  2.2422e-02,  9.9444e-02],\n",
       "                        [ 1.0173e-01, -4.4934e-02,  9.4677e-02],\n",
       "                        [ 3.7763e-02, -1.2799e-02,  9.1356e-02]],\n",
       "              \n",
       "                       [[ 1.2779e-01,  1.1341e-01,  2.1372e-01],\n",
       "                        [-1.9342e-03, -7.6111e-01, -3.6408e-01],\n",
       "                        [ 2.4301e-01, -1.8198e-01,  3.0283e-01]],\n",
       "              \n",
       "                       [[ 6.1751e-02,  2.2698e-01, -7.3307e-02],\n",
       "                        [ 9.9995e-02,  3.5465e-02, -2.4299e-01],\n",
       "                        [-1.7933e-01, -4.3739e-02,  1.0707e-01]],\n",
       "              \n",
       "                       [[ 1.7781e-01,  1.9891e-01,  3.7574e-02],\n",
       "                        [ 8.2141e-02, -2.4252e-01, -2.4259e-02],\n",
       "                        [-1.1182e-01, -3.0725e-01,  9.8047e-02]],\n",
       "              \n",
       "                       [[ 3.4375e-02,  6.7202e-03, -9.7182e-02],\n",
       "                        [ 9.6313e-03, -2.5777e-01, -3.0080e-01],\n",
       "                        [-8.2045e-02, -2.7827e-01, -1.4692e-01]],\n",
       "              \n",
       "                       [[ 1.2777e-01,  7.6603e-02, -7.3793e-02],\n",
       "                        [ 5.2901e-03, -5.0022e-01, -3.3468e-01],\n",
       "                        [ 1.6756e-01, -2.3563e-01, -1.1261e-01]],\n",
       "              \n",
       "                       [[-3.4769e-02,  7.2569e-02, -6.9021e-02],\n",
       "                        [-5.4132e-02, -1.8396e-01, -2.8768e-01],\n",
       "                        [ 1.3259e-01, -1.9158e-01, -1.0216e-01]],\n",
       "              \n",
       "                       [[-2.0207e-01, -5.8884e-02,  2.2287e-01],\n",
       "                        [-4.2726e-03,  6.9593e-02, -4.3836e-02],\n",
       "                        [-6.3699e-02, -9.7247e-02,  4.3306e-02]]],\n",
       "              \n",
       "              \n",
       "                      [[[-8.5667e-02,  9.0409e-02,  5.9338e-02],\n",
       "                        [ 1.0175e-01,  1.3964e-01, -6.2245e-03],\n",
       "                        [ 1.0517e-01, -3.3829e-02, -4.4441e-02]],\n",
       "              \n",
       "                       [[ 7.3887e-02,  5.2797e-02,  2.0468e-02],\n",
       "                        [-2.5342e-02, -2.7869e-02,  1.2138e-01],\n",
       "                        [ 2.5189e-02,  4.4114e-02,  2.2056e-02]],\n",
       "              \n",
       "                       [[ 7.7675e-02, -5.3814e-02, -3.6184e-02],\n",
       "                        [ 7.1472e-02,  5.9479e-02, -5.1702e-02],\n",
       "                        [-1.0419e-01,  1.9778e-02,  5.5519e-02]],\n",
       "              \n",
       "                       [[-1.5424e-02,  5.4101e-03, -2.1671e-01],\n",
       "                        [-5.0483e-02, -1.9141e-01,  7.2829e-02],\n",
       "                        [-2.8462e-02, -4.7020e-02,  1.6221e-01]],\n",
       "              \n",
       "                       [[-6.9808e-02, -9.6789e-02, -1.0937e-01],\n",
       "                        [ 6.9114e-02,  3.3873e-02, -7.4011e-02],\n",
       "                        [ 3.6871e-02,  9.5926e-02, -8.2389e-02]],\n",
       "              \n",
       "                       [[ 5.6330e-02, -1.3591e-02, -5.0079e-02],\n",
       "                        [ 8.0342e-02,  5.3493e-02,  1.2299e-02],\n",
       "                        [ 1.5004e-02,  1.0357e-02,  7.4111e-02]],\n",
       "              \n",
       "                       [[-1.1817e-01, -1.5521e-02, -1.1500e-01],\n",
       "                        [ 3.7708e-03, -3.4445e-02, -5.8951e-02],\n",
       "                        [-1.3613e-01, -1.0807e-01,  2.8751e-02]],\n",
       "              \n",
       "                       [[ 3.9678e-02,  2.0758e-02, -9.4593e-02],\n",
       "                        [-7.1473e-02, -1.0034e-01,  4.4081e-02],\n",
       "                        [-1.0604e-01,  2.5412e-02,  8.0590e-02]],\n",
       "              \n",
       "                       [[-1.0903e-01, -8.2266e-04, -2.2640e-02],\n",
       "                        [-6.2024e-02,  3.0140e-02, -4.8553e-02],\n",
       "                        [ 7.4068e-02, -7.9055e-02,  7.0060e-03]],\n",
       "              \n",
       "                       [[-9.0990e-02, -5.4215e-02, -2.3404e-03],\n",
       "                        [ 8.7636e-02,  4.9668e-02, -8.3538e-02],\n",
       "                        [ 5.6537e-03, -6.4893e-02,  3.1938e-02]]]], device='cuda:0')),\n",
       "             ('conv_block_2.0.bias',\n",
       "              tensor([-0.0884, -0.0886,  0.1945,  0.0558, -0.1398, -0.0094, -0.0228,  0.3275,\n",
       "                       0.8988,  0.0818], device='cuda:0')),\n",
       "             ('conv_block_2.2.weight',\n",
       "              tensor([[[[-6.4318e-02, -7.8600e-02, -1.9112e-02],\n",
       "                        [-2.7021e-02,  6.5934e-02, -8.2872e-03],\n",
       "                        [ 3.3829e-02, -4.5441e-02,  8.4951e-02]],\n",
       "              \n",
       "                       [[ 9.5621e-02, -9.0403e-02, -3.0480e-02],\n",
       "                        [-7.9674e-02,  4.9340e-02, -9.4494e-02],\n",
       "                        [-3.1526e-02,  1.1652e-01, -9.9036e-02]],\n",
       "              \n",
       "                       [[-3.8398e-01, -9.3282e-02,  1.7306e-02],\n",
       "                        [-5.1773e-01,  2.5419e-01, -1.1493e-01],\n",
       "                        [-2.7801e-01,  3.1541e-01, -3.6523e-02]],\n",
       "              \n",
       "                       [[-4.7962e-01,  8.9541e-02, -3.0310e-01],\n",
       "                        [-7.7784e-01,  4.9140e-01,  5.3544e-02],\n",
       "                        [-8.0611e-03,  3.1508e-02, -2.0695e-01]],\n",
       "              \n",
       "                       [[-1.5502e-01,  7.7086e-02,  1.7073e-01],\n",
       "                        [-3.4042e-02,  5.3467e-02,  1.1934e-01],\n",
       "                        [-9.5913e-02,  2.1009e-02,  5.0570e-03]],\n",
       "              \n",
       "                       [[-7.2750e-02, -5.6134e-02,  1.0572e-01],\n",
       "                        [-2.1412e-02,  3.1885e-02,  7.1772e-02],\n",
       "                        [-1.1274e-02, -6.1856e-02, -7.3143e-02]],\n",
       "              \n",
       "                       [[-3.2826e-02,  3.8898e-02, -8.8171e-02],\n",
       "                        [-9.5855e-03,  4.1169e-02,  8.5214e-02],\n",
       "                        [ 4.2491e-02,  2.9193e-02,  7.8256e-02]],\n",
       "              \n",
       "                       [[-1.0359e-01, -1.5436e-01, -4.4613e-01],\n",
       "                        [-6.9840e-01,  2.4035e-01,  3.2963e-01],\n",
       "                        [-2.8367e-01,  3.1300e-01, -4.5945e-02]],\n",
       "              \n",
       "                       [[ 2.6491e-01, -1.5196e-01,  8.3938e-03],\n",
       "                        [-7.9531e-02, -4.7223e-01, -7.1452e-02],\n",
       "                        [ 6.6950e-02, -4.1247e-01,  8.7384e-03]],\n",
       "              \n",
       "                       [[-6.4126e-02,  3.3124e-02, -1.5043e-01],\n",
       "                        [ 4.3717e-03, -1.4679e-01, -6.4030e-02],\n",
       "                        [ 9.3731e-03, -2.5499e-02, -6.3581e-02]]],\n",
       "              \n",
       "              \n",
       "                      [[[ 3.2159e-02, -2.7490e-02, -5.8362e-02],\n",
       "                        [-7.7417e-02, -2.2220e-02, -9.9534e-02],\n",
       "                        [ 8.7422e-02, -5.0896e-02, -4.2949e-02]],\n",
       "              \n",
       "                       [[ 3.0080e-02,  5.2152e-02,  1.4472e-02],\n",
       "                        [ 8.2645e-02, -4.6936e-02,  5.2519e-02],\n",
       "                        [-6.6824e-03, -8.8041e-02, -4.1279e-02]],\n",
       "              \n",
       "                       [[-1.3401e-01,  2.1209e-01,  8.1332e-02],\n",
       "                        [-2.7497e-02, -1.6080e-01, -8.7269e-02],\n",
       "                        [-9.7289e-03, -2.3884e-01,  2.9366e-01]],\n",
       "              \n",
       "                       [[ 3.5209e-02,  1.1173e-02,  1.8294e-01],\n",
       "                        [-5.3451e-03, -3.9907e-01,  3.6298e-02],\n",
       "                        [-9.4904e-02, -2.4260e-01,  2.5903e-01]],\n",
       "              \n",
       "                       [[ 7.5408e-02, -2.2511e-02, -8.9909e-03],\n",
       "                        [ 1.2164e-01, -1.2397e-01,  7.6156e-03],\n",
       "                        [ 1.3183e-01, -1.0011e-01, -9.2696e-02]],\n",
       "              \n",
       "                       [[ 9.8862e-03,  4.7782e-02,  5.8930e-02],\n",
       "                        [-5.9092e-02, -9.8639e-02,  1.5743e-03],\n",
       "                        [-1.8201e-02,  3.0653e-02, -2.9292e-02]],\n",
       "              \n",
       "                       [[ 8.5543e-02,  1.4918e-02,  8.5683e-02],\n",
       "                        [-7.4218e-02,  4.4398e-02,  1.6721e-02],\n",
       "                        [-5.8523e-02,  4.9138e-02, -1.0547e-01]],\n",
       "              \n",
       "                       [[-1.0852e-01, -2.2349e-01,  3.7501e-01],\n",
       "                        [ 7.9581e-02, -4.6740e-01,  2.2191e-01],\n",
       "                        [ 3.7725e-01, -7.5056e-01,  1.4080e-01]],\n",
       "              \n",
       "                       [[-8.6471e-02, -2.9376e-01, -2.1678e-01],\n",
       "                        [-8.1896e-03, -1.2759e-01, -1.7793e-01],\n",
       "                        [-1.2291e-01,  5.1420e-02,  2.9113e-02]],\n",
       "              \n",
       "                       [[-3.8362e-02,  4.1163e-02,  1.3452e-01],\n",
       "                        [-9.2857e-02, -1.0315e-01,  4.1283e-02],\n",
       "                        [-4.9091e-02, -5.3284e-02, -9.3796e-02]]],\n",
       "              \n",
       "              \n",
       "                      [[[ 8.7333e-02, -8.6324e-03, -2.1247e-02],\n",
       "                        [-4.2765e-02, -2.1542e-02,  4.8615e-02],\n",
       "                        [-2.3236e-03,  8.9578e-02, -9.1892e-03]],\n",
       "              \n",
       "                       [[-7.5550e-02,  1.6582e-02, -5.7184e-02],\n",
       "                        [-5.5430e-02,  1.8966e-02,  5.3544e-02],\n",
       "                        [-1.0121e-02,  5.3488e-02,  3.3987e-02]],\n",
       "              \n",
       "                       [[-1.3831e-01, -2.0288e-01, -1.5687e-01],\n",
       "                        [ 1.9730e-01,  1.1590e-01, -8.8357e-02],\n",
       "                        [-1.4518e-01,  8.6065e-02,  6.6323e-01]],\n",
       "              \n",
       "                       [[ 2.0887e-03,  1.7862e-01,  8.2058e-03],\n",
       "                        [ 4.5161e-01,  2.6807e-01, -2.5049e-01],\n",
       "                        [-1.4149e-01, -5.5070e-01,  1.1294e-01]],\n",
       "              \n",
       "                       [[ 5.1684e-02, -1.0855e-01, -4.5891e-02],\n",
       "                        [-4.9878e-02,  6.8622e-02, -8.4124e-02],\n",
       "                        [ 4.9250e-02,  5.7253e-02,  7.5649e-02]],\n",
       "              \n",
       "                       [[ 9.3948e-02,  5.6631e-03, -1.1344e-01],\n",
       "                        [ 8.5422e-02,  1.8352e-02, -8.3391e-04],\n",
       "                        [-8.7098e-02, -1.2764e-02, -4.6705e-02]],\n",
       "              \n",
       "                       [[ 7.2685e-02,  4.9842e-02,  5.2486e-02],\n",
       "                        [ 4.5211e-02, -8.6548e-02, -6.8265e-02],\n",
       "                        [-7.3659e-02, -6.9121e-02,  5.3786e-02]],\n",
       "              \n",
       "                       [[-3.3829e-01,  5.7961e-02,  2.3941e-01],\n",
       "                        [-3.3427e-01,  9.9369e-02,  1.1767e-02],\n",
       "                        [-1.4483e-01, -3.3203e-01, -1.9413e-01]],\n",
       "              \n",
       "                       [[-1.7221e-01, -1.4897e-01, -1.0633e-01],\n",
       "                        [-3.2480e-01, -4.5851e-02, -1.7753e-01],\n",
       "                        [-1.4380e-01, -2.5139e-02, -2.6423e-01]],\n",
       "              \n",
       "                       [[ 9.0142e-02,  5.1607e-03, -1.0171e-01],\n",
       "                        [-1.9189e-02,  1.6586e-02, -5.5484e-02],\n",
       "                        [ 2.8632e-02, -1.0429e-01, -1.1933e-01]]],\n",
       "              \n",
       "              \n",
       "                      [[[-6.4196e-02, -3.5789e-02, -1.1940e-02],\n",
       "                        [-2.0313e-02,  4.8228e-02, -9.2991e-02],\n",
       "                        [ 1.5477e-02,  1.8824e-03,  2.7988e-02]],\n",
       "              \n",
       "                       [[ 1.1315e-01,  5.6146e-02, -7.7496e-02],\n",
       "                        [-8.2105e-02, -3.1073e-02, -6.5891e-02],\n",
       "                        [ 3.5448e-02, -2.5055e-03,  7.8844e-02]],\n",
       "              \n",
       "                       [[-1.0613e-01, -2.8414e-01,  1.2124e-01],\n",
       "                        [-4.4664e-01, -4.6055e-01,  7.7263e-01],\n",
       "                        [-3.5858e-01, -3.2469e-01,  1.3055e-01]],\n",
       "              \n",
       "                       [[-1.5955e-01, -4.1825e-01,  1.8150e-01],\n",
       "                        [ 4.0787e-02, -2.5692e-01, -1.0116e-01],\n",
       "                        [ 4.1481e-02, -3.0886e-01, -3.4927e-01]],\n",
       "              \n",
       "                       [[ 4.7867e-02, -2.8876e-02,  8.0396e-02],\n",
       "                        [-1.1554e-02, -1.4918e-01, -5.4501e-02],\n",
       "                        [ 1.4037e-01, -2.2618e-01,  2.3990e-02]],\n",
       "              \n",
       "                       [[-8.1562e-02,  9.6288e-02,  6.7088e-02],\n",
       "                        [-7.6890e-02, -1.0974e-01, -8.9909e-03],\n",
       "                        [-2.7970e-02,  2.8843e-02, -7.5910e-02]],\n",
       "              \n",
       "                       [[ 4.7397e-02, -9.3341e-02, -6.0557e-02],\n",
       "                        [-5.5368e-02,  5.0246e-02, -4.3515e-03],\n",
       "                        [-1.0129e-01, -6.4254e-02, -5.2142e-02]],\n",
       "              \n",
       "                       [[-4.1203e-02,  3.8117e-02,  3.3424e-01],\n",
       "                        [ 1.0355e-01, -1.0936e-01, -8.8679e-02],\n",
       "                        [ 7.8576e-02, -1.4276e-01, -3.0777e-01]],\n",
       "              \n",
       "                       [[ 5.2305e-02, -1.6423e-01, -6.8496e-02],\n",
       "                        [ 3.8674e-01,  2.2722e-01, -3.7347e-01],\n",
       "                        [ 2.7931e-01,  1.3670e-01, -1.8885e-02]],\n",
       "              \n",
       "                       [[ 4.9607e-02,  9.4055e-02,  8.0600e-02],\n",
       "                        [ 2.3433e-02, -1.4085e-01, -1.0763e-01],\n",
       "                        [-1.0101e-01, -3.5323e-03, -1.1183e-01]]],\n",
       "              \n",
       "              \n",
       "                      [[[-8.0445e-02, -5.1160e-02, -9.7154e-02],\n",
       "                        [ 2.5131e-04,  1.5201e-02, -6.1678e-02],\n",
       "                        [ 6.9091e-02, -4.0003e-02, -2.9669e-02]],\n",
       "              \n",
       "                       [[ 8.0620e-02,  8.5266e-02, -2.2401e-02],\n",
       "                        [-7.8809e-02, -6.1509e-02,  9.3940e-04],\n",
       "                        [ 5.8007e-02,  4.3520e-02, -5.8912e-02]],\n",
       "              \n",
       "                       [[-9.9046e-02, -1.0477e-01, -4.0241e-02],\n",
       "                        [ 2.8997e-03, -5.7930e-02, -8.0300e-02],\n",
       "                        [ 1.4779e-02, -9.2944e-02, -7.2379e-02]],\n",
       "              \n",
       "                       [[-8.7147e-02, -3.1318e-02,  9.3259e-02],\n",
       "                        [ 4.1766e-02, -1.1256e-02,  2.4799e-02],\n",
       "                        [ 4.0953e-02, -3.1365e-05, -9.0176e-02]],\n",
       "              \n",
       "                       [[-1.6233e-02,  3.9502e-02, -2.6955e-02],\n",
       "                        [-4.8249e-02,  9.8758e-02, -5.4416e-02],\n",
       "                        [ 1.6843e-01,  1.5428e-01,  5.5498e-02]],\n",
       "              \n",
       "                       [[ 6.2021e-03, -3.5019e-02,  2.4161e-02],\n",
       "                        [-7.3771e-02, -4.7207e-02, -2.4700e-02],\n",
       "                        [-2.5779e-02, -1.0230e-01,  3.8500e-02]],\n",
       "              \n",
       "                       [[ 8.6214e-02, -5.9615e-02,  2.4901e-02],\n",
       "                        [-1.3327e-02, -5.9231e-03,  2.2938e-03],\n",
       "                        [ 8.8993e-02,  1.0690e-02, -7.1780e-02]],\n",
       "              \n",
       "                       [[-3.1391e-02,  3.7239e-02,  3.5612e-02],\n",
       "                        [-5.9870e-02, -2.1550e-02, -3.8904e-02],\n",
       "                        [-1.8851e-01, -6.4538e-02,  2.0123e-02]],\n",
       "              \n",
       "                       [[-1.0418e-01,  1.3740e-01, -1.2769e-02],\n",
       "                        [-6.6695e-02,  7.8369e-02,  1.9277e-02],\n",
       "                        [ 7.3802e-03,  5.2784e-02, -1.7752e-02]],\n",
       "              \n",
       "                       [[-9.0870e-02, -4.8322e-03, -2.5629e-02],\n",
       "                        [ 9.4562e-02,  8.5409e-02,  1.9509e-02],\n",
       "                        [ 9.2836e-02, -6.2922e-02,  8.8167e-02]]],\n",
       "              \n",
       "              \n",
       "                      [[[ 9.0906e-02, -4.3539e-03, -8.5219e-02],\n",
       "                        [-3.3149e-02, -2.7905e-02,  1.8540e-03],\n",
       "                        [-9.5376e-02,  1.9494e-02, -4.3583e-02]],\n",
       "              \n",
       "                       [[-2.9093e-02, -5.4711e-02, -2.2479e-02],\n",
       "                        [-9.6261e-02, -5.4836e-02,  9.8576e-03],\n",
       "                        [ 7.5196e-02,  9.8376e-02, -8.1170e-02]],\n",
       "              \n",
       "                       [[ 1.8245e-01, -1.4674e-01, -3.5743e-01],\n",
       "                        [ 2.1632e-01, -1.6096e-01, -1.6205e-01],\n",
       "                        [-1.5600e-01,  3.4722e-02,  1.8617e-01]],\n",
       "              \n",
       "                       [[ 2.1075e-01, -5.7200e-01, -3.9463e-01],\n",
       "                        [-1.2749e-01, -2.4325e-01,  2.2203e-01],\n",
       "                        [-2.0013e-01,  2.4755e-01,  2.8647e-02]],\n",
       "              \n",
       "                       [[-1.5147e-02, -9.7696e-02, -5.2731e-02],\n",
       "                        [-7.7075e-02, -1.0941e-01, -7.3063e-02],\n",
       "                        [ 3.4894e-02,  1.9271e-02, -2.0670e-01]],\n",
       "              \n",
       "                       [[ 3.8833e-02, -9.5647e-02,  9.2892e-02],\n",
       "                        [-4.8037e-02,  5.1378e-02, -8.4069e-02],\n",
       "                        [-6.9660e-02,  1.1702e-02,  3.7860e-02]],\n",
       "              \n",
       "                       [[ 8.0822e-02,  9.0314e-02, -5.1826e-03],\n",
       "                        [-1.3845e-02,  2.0501e-02, -2.5733e-02],\n",
       "                        [ 5.2628e-03, -9.8703e-02, -8.7514e-02]],\n",
       "              \n",
       "                       [[ 5.6426e-01,  1.5123e-01, -1.7481e-02],\n",
       "                        [-4.9318e-02,  8.0795e-04,  1.2887e-01],\n",
       "                        [-4.8404e-01, -4.8139e-01, -1.0905e-01]],\n",
       "              \n",
       "                       [[-3.0670e-02, -2.4900e-01, -4.6827e-02],\n",
       "                        [-1.2765e-01, -1.2624e-01, -2.2149e-01],\n",
       "                        [ 8.4088e-02,  1.6428e-01, -2.1600e-01]],\n",
       "              \n",
       "                       [[ 9.5428e-02,  6.8048e-02,  4.4458e-02],\n",
       "                        [-5.3566e-02, -5.1354e-02,  9.6536e-02],\n",
       "                        [ 6.8225e-02,  4.8897e-02, -8.1698e-02]]],\n",
       "              \n",
       "              \n",
       "                      [[[ 8.2238e-02, -8.5367e-03,  7.9097e-02],\n",
       "                        [ 9.1296e-02,  1.1509e-02, -4.4005e-02],\n",
       "                        [ 9.9730e-02, -5.4209e-02,  6.9174e-02]],\n",
       "              \n",
       "                       [[-1.1880e-01, -5.0444e-02, -1.0391e-01],\n",
       "                        [-6.1982e-02,  3.0518e-02, -8.5578e-02],\n",
       "                        [-9.3798e-02,  7.2951e-02,  5.3827e-02]],\n",
       "              \n",
       "                       [[ 5.5906e-02,  1.2898e-01,  2.8725e-01],\n",
       "                        [-1.1557e-01, -2.3800e-01, -2.0607e-01],\n",
       "                        [ 1.9109e-01, -2.2087e-01, -1.8348e-01]],\n",
       "              \n",
       "                       [[-2.3588e-02,  2.0350e-01,  2.2932e-01],\n",
       "                        [-3.3532e-01, -1.0750e-01, -4.3599e-01],\n",
       "                        [ 2.2942e-03, -1.6591e-01,  3.1172e-01]],\n",
       "              \n",
       "                       [[ 2.3618e-02,  1.5406e-01,  5.4873e-02],\n",
       "                        [-5.5132e-02,  8.4256e-02, -1.0357e-01],\n",
       "                        [-1.0445e-01, -1.5957e-01, -7.5799e-02]],\n",
       "              \n",
       "                       [[-7.1923e-02, -9.6074e-02, -6.2491e-03],\n",
       "                        [-2.5435e-03, -2.7070e-02, -7.2118e-02],\n",
       "                        [ 9.2879e-02, -3.4438e-02,  4.9700e-02]],\n",
       "              \n",
       "                       [[ 7.1984e-02, -7.6380e-02, -1.9168e-02],\n",
       "                        [ 6.2048e-02,  9.4497e-02, -1.4857e-02],\n",
       "                        [ 8.1859e-02, -8.4605e-02, -6.3659e-02]],\n",
       "              \n",
       "                       [[-1.9454e-01, -4.5029e-01,  1.9544e-01],\n",
       "                        [-5.6187e-02, -6.9785e-01, -5.4726e-01],\n",
       "                        [ 3.4892e-01,  8.1414e-01,  7.0192e-02]],\n",
       "              \n",
       "                       [[ 2.4463e-01,  9.3468e-02, -2.5663e-01],\n",
       "                        [-1.7253e-01,  2.9985e-01,  4.8326e-01],\n",
       "                        [-1.8992e-01, -6.1913e-01,  8.3422e-02]],\n",
       "              \n",
       "                       [[ 9.2732e-02, -8.5643e-02,  2.9914e-02],\n",
       "                        [ 4.1374e-02, -6.9831e-02, -1.1270e-01],\n",
       "                        [ 4.7558e-02, -1.4967e-01,  4.4248e-02]]],\n",
       "              \n",
       "              \n",
       "                      [[[ 7.7127e-02, -3.0601e-02,  9.5827e-02],\n",
       "                        [-3.8076e-02,  1.7483e-02, -7.4674e-02],\n",
       "                        [-3.9250e-03,  4.1981e-02,  4.3251e-02]],\n",
       "              \n",
       "                       [[-2.3968e-01, -2.6277e-01, -1.4262e-01],\n",
       "                        [-1.3197e-01, -1.5906e-01, -2.3699e-01],\n",
       "                        [-1.7646e-01, -1.7485e-01, -9.5164e-02]],\n",
       "              \n",
       "                       [[-1.0648e-02, -3.6105e-02, -6.1227e-02],\n",
       "                        [ 3.9209e-02,  4.1023e-03,  9.8165e-02],\n",
       "                        [ 3.3340e-02, -1.0865e-01, -2.1012e-02]],\n",
       "              \n",
       "                       [[-1.1630e-01, -1.1640e-01, -7.0492e-02],\n",
       "                        [ 1.0740e-01,  1.1959e-01,  2.6766e-01],\n",
       "                        [-1.6290e-01, -1.3315e-01, -1.2496e-01]],\n",
       "              \n",
       "                       [[-1.7915e-03, -9.0847e-03,  9.4630e-02],\n",
       "                        [-4.5815e-02, -5.7936e-02, -1.7303e-04],\n",
       "                        [ 7.8559e-02,  2.2615e-02,  4.2795e-02]],\n",
       "              \n",
       "                       [[-4.2257e-02,  2.7939e-02, -4.8534e-03],\n",
       "                        [ 3.1059e-02, -5.7990e-02, -1.3967e-01],\n",
       "                        [-8.9945e-02, -9.4102e-04,  2.7494e-02]],\n",
       "              \n",
       "                       [[-1.2006e-01,  2.3728e-02, -4.3654e-02],\n",
       "                        [-7.4632e-02, -5.5883e-02, -7.4623e-02],\n",
       "                        [ 2.3731e-02, -5.7170e-02,  6.4946e-03]],\n",
       "              \n",
       "                       [[-1.6545e-01, -9.9964e-02, -5.5182e-02],\n",
       "                        [ 7.8182e-02,  8.7311e-02,  5.3950e-02],\n",
       "                        [-2.8146e-01, -2.1370e-01, -3.4505e-01]],\n",
       "              \n",
       "                       [[-1.4337e-01, -6.7705e-02, -1.0734e-01],\n",
       "                        [ 6.7599e-02, -1.0212e-01, -2.1545e-02],\n",
       "                        [ 2.4849e-02, -1.3564e-01,  2.5438e-02]],\n",
       "              \n",
       "                       [[-6.7433e-02, -3.5651e-03,  4.3467e-02],\n",
       "                        [-1.0759e-01, -1.0237e-01,  2.5290e-02],\n",
       "                        [-5.1140e-02, -7.1879e-02,  1.1406e-02]]],\n",
       "              \n",
       "              \n",
       "                      [[[-5.1634e-02, -5.4458e-03,  7.2225e-02],\n",
       "                        [ 3.9875e-02, -6.8308e-02,  2.7284e-02],\n",
       "                        [-8.0422e-02, -5.7335e-02,  6.7538e-02]],\n",
       "              \n",
       "                       [[-6.3749e-02, -1.1372e-01, -4.7724e-02],\n",
       "                        [-1.8181e-02, -1.3865e-01, -1.4086e-01],\n",
       "                        [-1.3318e-01, -3.4518e-02, -1.2950e-01]],\n",
       "              \n",
       "                       [[-2.5859e-01, -4.0920e-01, -1.6621e-01],\n",
       "                        [-1.1246e-01, -2.9462e-01, -1.4900e-01],\n",
       "                        [-8.2874e-02, -2.7661e-01, -3.1022e-01]],\n",
       "              \n",
       "                       [[-6.5015e-02,  1.3778e-01, -3.7834e-01],\n",
       "                        [-2.4771e-01,  2.1912e-02, -2.8545e-01],\n",
       "                        [-1.3237e-01, -2.6954e-01, -7.4254e-02]],\n",
       "              \n",
       "                       [[ 2.2468e-01, -4.2840e-01,  5.1913e-02],\n",
       "                        [ 3.4054e-02, -3.8715e-03, -2.1130e-01],\n",
       "                        [-1.0328e-01, -9.8853e-02, -1.7255e-01]],\n",
       "              \n",
       "                       [[ 9.4267e-02, -7.2003e-02, -8.1794e-03],\n",
       "                        [-8.4204e-02,  2.0127e-02,  8.0115e-02],\n",
       "                        [ 9.3696e-02,  2.7767e-03, -5.9177e-02]],\n",
       "              \n",
       "                       [[ 1.0161e-01, -6.9897e-03,  5.6030e-02],\n",
       "                        [-6.6394e-02, -7.4952e-02, -1.1672e-01],\n",
       "                        [ 8.7179e-02,  3.2904e-03, -9.3035e-02]],\n",
       "              \n",
       "                       [[-5.2295e-01, -2.8130e-01,  6.8926e-03],\n",
       "                        [-3.0007e-02, -5.2601e-01, -4.9200e-02],\n",
       "                        [ 3.9517e-01, -2.7669e-01, -7.7971e-02]],\n",
       "              \n",
       "                       [[ 1.2437e-01,  2.6879e-01,  2.9539e-01],\n",
       "                        [ 4.3087e-02,  2.1045e-01,  3.0149e-01],\n",
       "                        [-4.2042e-02, -1.8079e-01,  2.7526e-01]],\n",
       "              \n",
       "                       [[ 1.0386e-01,  9.4598e-02, -4.7487e-02],\n",
       "                        [-1.5895e-02, -6.6669e-02,  1.1288e-01],\n",
       "                        [-1.3344e-01,  2.0760e-02,  5.0693e-02]]],\n",
       "              \n",
       "              \n",
       "                      [[[ 3.8445e-02,  3.2721e-02, -5.2252e-02],\n",
       "                        [ 5.5649e-02,  4.5349e-02, -8.8060e-02],\n",
       "                        [ 1.0518e-01,  9.1463e-02,  6.4644e-02]],\n",
       "              \n",
       "                       [[-3.2446e-02,  1.6062e-02, -7.8800e-02],\n",
       "                        [-5.5691e-02,  3.1633e-02,  2.9650e-02],\n",
       "                        [ 2.2924e-02, -1.1698e-01,  7.3275e-02]],\n",
       "              \n",
       "                       [[-3.6463e-01, -5.5741e-02,  3.5729e-01],\n",
       "                        [-2.2940e-01, -7.0693e-02,  1.6956e-01],\n",
       "                        [ 1.2901e-01, -1.4546e-01, -7.2262e-02]],\n",
       "              \n",
       "                       [[-5.2795e-01,  3.3030e-01,  3.3185e-02],\n",
       "                        [ 2.2547e-01,  5.5562e-01, -3.4436e-01],\n",
       "                        [ 4.6496e-01, -2.1190e-01, -6.0162e-01]],\n",
       "              \n",
       "                       [[-9.8556e-02,  7.1543e-02, -7.4583e-02],\n",
       "                        [-1.1802e-01, -6.8376e-02,  4.1414e-02],\n",
       "                        [-1.8536e-01, -1.3942e-01, -5.3772e-02]],\n",
       "              \n",
       "                       [[ 6.2433e-03, -5.0746e-02,  3.4620e-02],\n",
       "                        [-7.1674e-02, -8.6540e-02, -1.4542e-02],\n",
       "                        [-5.7007e-02,  6.8957e-02, -7.0135e-02]],\n",
       "              \n",
       "                       [[-1.7414e-02,  3.2218e-02, -1.0473e-01],\n",
       "                        [ 6.6566e-02, -5.9079e-02, -4.0321e-02],\n",
       "                        [-7.6132e-02, -5.0862e-02, -5.2594e-02]],\n",
       "              \n",
       "                       [[-5.5921e-01, -5.3092e-01, -3.6063e-02],\n",
       "                        [-4.7376e-01,  1.4421e-01,  1.0317e-01],\n",
       "                        [ 2.5767e-01,  7.9639e-02, -1.1421e-01]],\n",
       "              \n",
       "                       [[ 4.0363e-01, -2.5931e-01, -2.4772e-02],\n",
       "                        [-3.4385e-02, -1.5676e-01, -1.0497e-01],\n",
       "                        [-1.8510e-01,  4.8754e-02,  2.1132e-01]],\n",
       "              \n",
       "                       [[-1.8500e-02, -1.0689e-01, -4.3901e-02],\n",
       "                        [-3.2254e-03, -5.1873e-02,  6.7416e-02],\n",
       "                        [-2.5768e-02, -3.8481e-02,  7.5952e-02]]]], device='cuda:0')),\n",
       "             ('conv_block_2.2.bias',\n",
       "              tensor([ 0.6881,  0.0264, -0.1924, -0.1082, -0.1499,  0.1994, -0.0215, -0.1379,\n",
       "                       0.1721, -0.0966], device='cuda:0')),\n",
       "             ('classifier.1.weight',\n",
       "              tensor([[ 0.0271,  0.0758,  0.0564,  ..., -0.1091, -0.0524, -0.0384],\n",
       "                      [-0.0909,  0.0867,  0.1738,  ...,  0.4325, -0.0141,  0.0227],\n",
       "                      [ 0.1081,  0.1369,  0.0307,  ..., -0.0929,  0.0102,  0.0329],\n",
       "                      ...,\n",
       "                      [ 0.0016, -0.1045, -0.1479,  ..., -0.0750, -0.0954, -0.0142],\n",
       "                      [ 0.0615,  0.0741, -0.1325,  ..., -0.0430, -0.1335, -0.0794],\n",
       "                      [-0.0997, -0.1476,  0.0467,  ...,  0.0129,  0.0688,  0.0101]],\n",
       "                     device='cuda:0')),\n",
       "             ('classifier.1.bias',\n",
       "              tensor([ 0.0653, -0.1996,  0.3383, -0.1199, -0.3627, -0.0946,  0.1518, -0.0351,\n",
       "                       0.2871, -0.0675], device='cuda:0'))])"
      ]
     },
     "execution_count": 169,
     "metadata": {},
     "output_type": "execute_result"
    }
   ],
   "source": [
    "model_cv2.state_dict()"
   ]
  },
  {
   "cell_type": "code",
   "execution_count": 170,
   "metadata": {},
   "outputs": [
    {
     "data": {
      "text/plain": [
       "FashionMNISTModelV2(\n",
       "  (conv_block_1): Sequential(\n",
       "    (0): Conv2d(1, 10, kernel_size=(3, 3), stride=(1, 1), padding=(1, 1))\n",
       "    (1): ReLU()\n",
       "    (2): Conv2d(10, 10, kernel_size=(3, 3), stride=(1, 1), padding=(1, 1))\n",
       "    (3): ReLU()\n",
       "    (4): MaxPool2d(kernel_size=2, stride=2, padding=0, dilation=1, ceil_mode=False)\n",
       "  )\n",
       "  (conv_block_2): Sequential(\n",
       "    (0): Conv2d(10, 10, kernel_size=(3, 3), stride=(1, 1), padding=(1, 1))\n",
       "    (1): ReLU()\n",
       "    (2): Conv2d(10, 10, kernel_size=(3, 3), stride=(1, 1), padding=(1, 1))\n",
       "    (3): ReLU()\n",
       "    (4): MaxPool2d(kernel_size=2, stride=2, padding=0, dilation=1, ceil_mode=False)\n",
       "  )\n",
       "  (classifier): Sequential(\n",
       "    (0): Flatten(start_dim=1, end_dim=-1)\n",
       "    (1): Linear(in_features=490, out_features=10, bias=True)\n",
       "  )\n",
       ")"
      ]
     },
     "execution_count": 170,
     "metadata": {},
     "output_type": "execute_result"
    }
   ],
   "source": [
    "# Create a new instance\n",
    "from json import load\n",
    "\n",
    "\n",
    "torch.manual_seed(42)\n",
    "\n",
    "loaded_model_cv2 = FashionMNISTModelV2(input_shape=1,\n",
    "                                       hidden_units=10,\n",
    "                                       output_shape=len(class_names))\n",
    "\n",
    "# loaded in the save sate_dict()\n",
    "loaded_model_cv2.load_state_dict(torch.load(f=MODEL_SAVE_PATH))\n",
    "# Send the model to the target device\n",
    "loaded_model_cv2 = loaded_model_cv2.to(device)\n",
    "loaded_model_cv2"
   ]
  },
  {
   "cell_type": "code",
   "execution_count": 171,
   "metadata": {},
   "outputs": [
    {
     "data": {
      "text/plain": [
       "{'model_name': 'FashionMNISTModelV2',\n",
       " 'model_loss': 0.3236289918422699,\n",
       " 'model_acc': 88.46845047923323}"
      ]
     },
     "execution_count": 171,
     "metadata": {},
     "output_type": "execute_result"
    }
   ],
   "source": [
    "# Evaluate loaded model\n",
    "torch.manual_seed(42)\n",
    "\n",
    "loaded_model_cv2_results = eval_model(\n",
    "    model=loaded_model_cv2,\n",
    "    data_loader=test_dataloader,\n",
    "    loss_fn = loss_fn,\n",
    "    accuracy_fn=accuracy_fn    \n",
    ")\n",
    "\n",
    "loaded_model_cv2_results"
   ]
  },
  {
   "cell_type": "code",
   "execution_count": 172,
   "metadata": {},
   "outputs": [
    {
     "data": {
      "text/plain": [
       "{'model_name': 'FashionMNISTModelV2',\n",
       " 'model_loss': 0.3236290216445923,\n",
       " 'model_acc': 88.46845047923323}"
      ]
     },
     "execution_count": 172,
     "metadata": {},
     "output_type": "execute_result"
    }
   ],
   "source": [
    "model_cv2_results"
   ]
  },
  {
   "cell_type": "code",
   "execution_count": 173,
   "metadata": {},
   "outputs": [
    {
     "data": {
      "text/plain": [
       "tensor(True)"
      ]
     },
     "execution_count": 173,
     "metadata": {},
     "output_type": "execute_result"
    }
   ],
   "source": [
    "# Check if model results are close to each other\n",
    "torch.isclose(torch.tensor(model_cv2_results['model_loss']),\n",
    "              torch.tensor(loaded_model_cv2_results['model_loss']),\n",
    "              atol=1e-02, # absolute tolerance\n",
    "              rtol=1e-03\n",
    ")"
   ]
  }
 ],
 "metadata": {
  "kernelspec": {
   "display_name": "ai",
   "language": "python",
   "name": "python3"
  },
  "language_info": {
   "codemirror_mode": {
    "name": "ipython",
    "version": 3
   },
   "file_extension": ".py",
   "mimetype": "text/x-python",
   "name": "python",
   "nbconvert_exporter": "python",
   "pygments_lexer": "ipython3",
   "version": "3.11.7"
  }
 },
 "nbformat": 4,
 "nbformat_minor": 2
}
