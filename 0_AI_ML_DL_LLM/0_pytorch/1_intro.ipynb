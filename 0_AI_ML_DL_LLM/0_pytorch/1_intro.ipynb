{
 "cells": [
  {
   "cell_type": "code",
   "execution_count": 80,
   "metadata": {},
   "outputs": [
    {
     "name": "stdout",
     "output_type": "stream",
     "text": [
      "2.1.2+cu121\n"
     ]
    }
   ],
   "source": [
    "import torch\n",
    "import pandas as pd\n",
    "import numpy as np\n",
    "import matplotlib.pyplot as plt\n",
    "print(torch.__version__)"
   ]
  },
  {
   "cell_type": "markdown",
   "metadata": {},
   "source": [
    "### 1. Introduction to Tensors\n",
    "Creating tensors\n",
    "PyTorch tensors are created using 'torch.Tensor()'"
   ]
  },
  {
   "cell_type": "code",
   "execution_count": 81,
   "metadata": {},
   "outputs": [
    {
     "data": {
      "text/plain": [
       "tensor(7)"
      ]
     },
     "execution_count": 81,
     "metadata": {},
     "output_type": "execute_result"
    }
   ],
   "source": [
    "#scalar\n",
    "scalar = torch.tensor(7)\n",
    "scalar"
   ]
  },
  {
   "cell_type": "code",
   "execution_count": 82,
   "metadata": {},
   "outputs": [
    {
     "data": {
      "text/plain": [
       "0"
      ]
     },
     "execution_count": 82,
     "metadata": {},
     "output_type": "execute_result"
    }
   ],
   "source": [
    "scalar.ndim"
   ]
  },
  {
   "cell_type": "code",
   "execution_count": 83,
   "metadata": {},
   "outputs": [
    {
     "data": {
      "text/plain": [
       "7"
      ]
     },
     "execution_count": 83,
     "metadata": {},
     "output_type": "execute_result"
    }
   ],
   "source": [
    "# Get tensor back as Python int\n",
    "scalar.item()"
   ]
  },
  {
   "cell_type": "code",
   "execution_count": 84,
   "metadata": {},
   "outputs": [
    {
     "data": {
      "text/plain": [
       "tensor([7, 7])"
      ]
     },
     "execution_count": 84,
     "metadata": {},
     "output_type": "execute_result"
    }
   ],
   "source": [
    "# Vector\n",
    "vector  = torch.tensor([7,7])\n",
    "vector"
   ]
  },
  {
   "cell_type": "code",
   "execution_count": 85,
   "metadata": {},
   "outputs": [
    {
     "data": {
      "text/plain": [
       "1"
      ]
     },
     "execution_count": 85,
     "metadata": {},
     "output_type": "execute_result"
    }
   ],
   "source": [
    "vector.ndim"
   ]
  },
  {
   "cell_type": "code",
   "execution_count": 86,
   "metadata": {},
   "outputs": [
    {
     "data": {
      "text/plain": [
       "torch.Size([2])"
      ]
     },
     "execution_count": 86,
     "metadata": {},
     "output_type": "execute_result"
    }
   ],
   "source": [
    "vector.shape"
   ]
  },
  {
   "cell_type": "code",
   "execution_count": 87,
   "metadata": {},
   "outputs": [
    {
     "data": {
      "text/plain": [
       "tensor([[ 7,  8],\n",
       "        [ 9, 10]])"
      ]
     },
     "execution_count": 87,
     "metadata": {},
     "output_type": "execute_result"
    }
   ],
   "source": [
    "# Matrix\n",
    "Matrix = torch.tensor([\n",
    "    [7,8],\n",
    "    [9,10]\n",
    "])\n",
    "Matrix"
   ]
  },
  {
   "cell_type": "code",
   "execution_count": 88,
   "metadata": {},
   "outputs": [
    {
     "data": {
      "text/plain": [
       "2"
      ]
     },
     "execution_count": 88,
     "metadata": {},
     "output_type": "execute_result"
    }
   ],
   "source": [
    "Matrix.ndim"
   ]
  },
  {
   "cell_type": "code",
   "execution_count": 89,
   "metadata": {},
   "outputs": [
    {
     "data": {
      "text/plain": [
       "(tensor([7, 8]), tensor([ 9, 10]))"
      ]
     },
     "execution_count": 89,
     "metadata": {},
     "output_type": "execute_result"
    }
   ],
   "source": [
    "Matrix[0], Matrix[1]"
   ]
  },
  {
   "cell_type": "code",
   "execution_count": 90,
   "metadata": {},
   "outputs": [
    {
     "data": {
      "text/plain": [
       "torch.Size([2, 2])"
      ]
     },
     "execution_count": 90,
     "metadata": {},
     "output_type": "execute_result"
    }
   ],
   "source": [
    "Matrix.shape"
   ]
  },
  {
   "cell_type": "code",
   "execution_count": 91,
   "metadata": {},
   "outputs": [
    {
     "data": {
      "text/plain": [
       "tensor([[[1, 2, 3],\n",
       "         [3, 6, 9],\n",
       "         [2, 4, 5]]])"
      ]
     },
     "execution_count": 91,
     "metadata": {},
     "output_type": "execute_result"
    }
   ],
   "source": [
    "# Tensor\n",
    "TENSOR = torch.tensor([[[1,2,3],\n",
    "                        [3,6,9],\n",
    "                        [2,4,5]]])\n",
    "TENSOR"
   ]
  },
  {
   "cell_type": "code",
   "execution_count": 92,
   "metadata": {},
   "outputs": [
    {
     "data": {
      "text/plain": [
       "3"
      ]
     },
     "execution_count": 92,
     "metadata": {},
     "output_type": "execute_result"
    }
   ],
   "source": [
    "TENSOR.ndim"
   ]
  },
  {
   "cell_type": "code",
   "execution_count": 93,
   "metadata": {},
   "outputs": [
    {
     "data": {
      "text/plain": [
       "torch.Size([1, 3, 3])"
      ]
     },
     "execution_count": 93,
     "metadata": {},
     "output_type": "execute_result"
    }
   ],
   "source": [
    "TENSOR.shape #[1,3,3] -> First bracket-purple (1), Second bracket-blue (2), Third Bracket-yellow (3) "
   ]
  },
  {
   "cell_type": "code",
   "execution_count": 94,
   "metadata": {},
   "outputs": [
    {
     "data": {
      "text/plain": [
       "tensor([[1, 2, 3],\n",
       "        [3, 6, 9],\n",
       "        [2, 4, 5]])"
      ]
     },
     "execution_count": 94,
     "metadata": {},
     "output_type": "execute_result"
    }
   ],
   "source": [
    "TENSOR[0]"
   ]
  },
  {
   "cell_type": "markdown",
   "metadata": {},
   "source": [
    "### 1.1. Random tensors\n",
    "- Random tensors are important because the way many neural networks learn is that they start with tensors full of random numbers and then adjust those random numbers to better represent the data\n",
    "\n",
    "Start with random numbers -> look at data -> update random numbers -> look at data -> update random numbers"
   ]
  },
  {
   "cell_type": "code",
   "execution_count": 95,
   "metadata": {},
   "outputs": [
    {
     "data": {
      "text/plain": [
       "tensor([[[8.7049e-02, 1.2135e-01, 8.5441e-01, 5.5493e-01, 4.4724e-01,\n",
       "          6.0796e-01, 2.9867e-01, 4.2136e-01, 1.2623e-01, 5.6924e-01],\n",
       "         [5.6325e-01, 5.0304e-01, 3.4297e-01, 5.0584e-01, 4.2037e-01,\n",
       "          6.1751e-01, 1.5533e-01, 6.2064e-01, 4.4082e-01, 6.2484e-01],\n",
       "         [7.7657e-01, 5.7876e-02, 1.6380e-01, 1.1698e-01, 1.9377e-01,\n",
       "          8.9979e-02, 9.2821e-01, 1.7813e-01, 8.8107e-01, 3.4235e-01],\n",
       "         [4.0639e-01, 9.0671e-01, 9.2850e-01, 6.3041e-01, 7.6933e-01,\n",
       "          1.6371e-01, 6.7337e-01, 1.7413e-01, 8.4313e-01, 1.2654e-01],\n",
       "         [9.1943e-01, 7.7460e-01, 8.4256e-01, 5.6680e-01, 2.0544e-01,\n",
       "          9.5007e-01, 7.8041e-01, 6.2631e-01, 8.4448e-01, 7.8103e-01],\n",
       "         [8.7993e-01, 6.9602e-02, 8.6750e-03, 6.9385e-01, 4.4355e-01,\n",
       "          5.4685e-02, 2.2158e-01, 7.4944e-02, 8.4894e-01, 8.7824e-01],\n",
       "         [5.6307e-01, 8.1192e-02, 3.4369e-01, 4.8881e-01, 9.1688e-01,\n",
       "          7.6088e-01, 1.5869e-01, 4.6079e-01, 8.5944e-01, 7.0147e-01],\n",
       "         [4.4538e-01, 4.9801e-01, 6.0834e-01, 8.8456e-01, 7.4596e-01,\n",
       "          7.2007e-01, 8.6847e-01, 5.7349e-01, 5.1208e-02, 7.0397e-01],\n",
       "         [4.7118e-01, 5.9868e-01, 1.9379e-01, 1.4833e-01, 9.5765e-02,\n",
       "          3.7833e-01, 5.9893e-01, 7.5516e-01, 3.8908e-01, 6.9551e-01],\n",
       "         [8.4029e-01, 9.3692e-01, 1.1733e-01, 8.5094e-01, 8.1817e-01,\n",
       "          7.5729e-02, 4.3252e-02, 3.8453e-01, 6.7282e-01, 4.8039e-02]],\n",
       "\n",
       "        [[6.3822e-01, 1.2920e-01, 9.0153e-01, 9.3943e-01, 5.2740e-01,\n",
       "          8.5777e-01, 7.8985e-01, 7.0175e-01, 3.1139e-01, 3.5294e-01],\n",
       "         [3.3766e-01, 7.7324e-01, 9.4818e-01, 6.9296e-01, 9.3330e-01,\n",
       "          3.0886e-01, 7.9595e-01, 9.0580e-01, 9.9715e-01, 3.3793e-01],\n",
       "         [8.1108e-01, 9.3889e-01, 1.5536e-01, 2.3646e-01, 8.1277e-01,\n",
       "          1.9586e-01, 8.9144e-01, 5.5370e-01, 6.6476e-01, 7.2849e-01],\n",
       "         [6.0024e-01, 2.7208e-01, 4.7664e-01, 8.2514e-01, 8.5832e-01,\n",
       "          2.7548e-01, 3.0478e-01, 2.5139e-01, 1.5555e-01, 4.3500e-01],\n",
       "         [4.5778e-01, 7.0085e-01, 5.2639e-01, 8.9921e-01, 7.2743e-01,\n",
       "          3.4589e-01, 5.2761e-01, 7.6023e-01, 2.7603e-01, 7.9463e-01],\n",
       "         [5.6230e-02, 9.1649e-01, 1.0210e-01, 9.8560e-02, 7.0290e-01,\n",
       "          2.7020e-01, 2.9948e-01, 7.1412e-01, 7.3695e-02, 9.5427e-02],\n",
       "         [2.6287e-01, 9.5002e-01, 4.7700e-01, 2.9940e-01, 2.1837e-01,\n",
       "          7.5193e-01, 3.5757e-01, 9.4401e-01, 5.2048e-01, 7.1986e-01],\n",
       "         [3.7597e-02, 9.3652e-01, 4.5099e-01, 4.0251e-01, 3.1443e-01,\n",
       "          7.9226e-01, 6.7258e-01, 4.9606e-01, 5.5554e-01, 4.5631e-01],\n",
       "         [4.7925e-01, 6.5193e-01, 2.6485e-01, 7.3583e-01, 2.2053e-01,\n",
       "          7.7466e-01, 5.0745e-01, 1.6320e-01, 8.5518e-01, 5.9048e-01],\n",
       "         [2.4427e-01, 6.4889e-02, 8.6341e-01, 4.9896e-01, 6.4917e-01,\n",
       "          1.9270e-01, 2.3377e-01, 1.4204e-01, 4.6199e-01, 1.7645e-01]],\n",
       "\n",
       "        [[5.8144e-01, 2.9588e-01, 3.1132e-01, 1.0462e-01, 3.8315e-01,\n",
       "          3.0566e-02, 8.0557e-01, 8.2686e-01, 1.5032e-01, 2.0159e-01],\n",
       "         [9.8070e-01, 5.4959e-01, 2.2666e-01, 3.2754e-01, 3.6118e-01,\n",
       "          3.9435e-01, 2.4016e-01, 9.1130e-01, 7.0057e-02, 3.0201e-01],\n",
       "         [8.3320e-02, 7.5490e-01, 5.6585e-01, 5.5979e-01, 2.8898e-01,\n",
       "          3.0580e-01, 5.1312e-01, 6.1532e-01, 2.4284e-01, 6.5378e-01],\n",
       "         [8.0896e-01, 8.4508e-01, 2.8766e-01, 5.9215e-01, 6.9248e-01,\n",
       "          9.5274e-01, 4.4373e-01, 9.8027e-01, 2.2939e-01, 9.1658e-01],\n",
       "         [7.4185e-01, 3.9725e-01, 8.1935e-01, 1.1325e-01, 9.5826e-01,\n",
       "          3.5110e-01, 7.0042e-01, 6.3806e-01, 3.5209e-01, 3.8503e-01],\n",
       "         [7.0271e-01, 2.2965e-01, 5.8310e-01, 4.8710e-01, 4.8674e-01,\n",
       "          1.3480e-03, 9.6498e-02, 8.9345e-01, 8.0886e-01, 5.7782e-01],\n",
       "         [1.8119e-01, 3.9623e-01, 8.5763e-01, 1.7296e-01, 5.8857e-01,\n",
       "          7.8094e-01, 1.8533e-01, 2.2361e-01, 9.3565e-01, 4.0698e-01],\n",
       "         [9.4784e-01, 4.7364e-01, 9.6914e-01, 9.4260e-01, 5.5643e-01,\n",
       "          6.6638e-01, 9.8430e-01, 1.8975e-01, 1.2182e-01, 2.6382e-02],\n",
       "         [7.8161e-01, 5.6509e-01, 8.8753e-01, 1.5554e-01, 7.8872e-01,\n",
       "          2.4908e-01, 3.3198e-01, 9.2948e-01, 4.3346e-01, 1.2568e-01],\n",
       "         [6.2017e-01, 7.4148e-01, 1.5957e-03, 4.6792e-01, 3.6140e-01,\n",
       "          8.7242e-01, 8.5090e-01, 8.1011e-01, 5.1281e-01, 4.2010e-01]],\n",
       "\n",
       "        [[5.7218e-01, 9.6238e-01, 2.6739e-01, 8.8095e-01, 7.2685e-01,\n",
       "          6.2679e-01, 9.8120e-01, 2.2345e-01, 2.8717e-01, 5.1132e-02],\n",
       "         [1.0731e-01, 8.6853e-01, 3.9261e-02, 9.6554e-01, 3.6685e-01,\n",
       "          1.4828e-01, 1.1616e-01, 5.4242e-01, 7.9795e-01, 4.7655e-01],\n",
       "         [1.9973e-01, 9.4872e-01, 4.7334e-01, 8.3232e-01, 1.8398e-01,\n",
       "          5.8454e-02, 8.3751e-01, 6.0239e-01, 8.8787e-01, 5.6209e-02],\n",
       "         [7.5543e-01, 8.3974e-01, 2.8658e-01, 4.3702e-01, 9.2412e-01,\n",
       "          4.9526e-01, 5.1868e-01, 7.1870e-01, 5.4257e-01, 5.0121e-01],\n",
       "         [6.2502e-01, 2.3342e-02, 9.4658e-01, 8.9460e-01, 6.1455e-01,\n",
       "          1.6348e-02, 2.2806e-01, 6.7908e-01, 7.8536e-01, 1.7062e-01],\n",
       "         [3.4143e-01, 4.2361e-01, 9.6502e-01, 6.2054e-01, 1.2270e-01,\n",
       "          2.1494e-01, 5.6332e-01, 1.4140e-01, 2.8959e-01, 5.7677e-01],\n",
       "         [3.0879e-01, 5.8178e-02, 2.9281e-01, 4.1278e-02, 2.0386e-01,\n",
       "          5.4699e-01, 7.5287e-01, 8.7214e-01, 1.7661e-01, 1.3955e-01],\n",
       "         [3.3711e-01, 6.5373e-01, 9.1819e-01, 3.8083e-01, 4.1919e-01,\n",
       "          7.8387e-01, 6.9470e-01, 5.1544e-01, 2.0230e-01, 3.7960e-01],\n",
       "         [7.7472e-02, 5.1735e-01, 2.4433e-01, 6.7380e-01, 4.1286e-01,\n",
       "          6.1473e-01, 2.2920e-01, 2.3374e-01, 7.8843e-01, 6.8182e-01],\n",
       "         [8.4844e-02, 8.7651e-01, 2.0585e-01, 4.9574e-01, 5.6801e-01,\n",
       "          1.3787e-01, 1.7681e-01, 3.4494e-01, 1.6358e-01, 2.6411e-01]],\n",
       "\n",
       "        [[8.0250e-01, 8.2203e-02, 4.6534e-01, 8.5166e-01, 9.4029e-01,\n",
       "          3.9356e-01, 4.2478e-01, 4.0671e-01, 5.5328e-01, 2.1949e-01],\n",
       "         [1.1593e-01, 3.3107e-01, 6.4775e-01, 8.5629e-01, 2.7144e-02,\n",
       "          5.7375e-01, 7.2263e-01, 6.4920e-01, 3.4312e-01, 7.7118e-01],\n",
       "         [3.7538e-01, 1.9678e-01, 8.6146e-01, 1.4671e-02, 5.6078e-01,\n",
       "          8.6612e-01, 5.8744e-01, 7.3392e-01, 5.1632e-01, 2.9824e-01],\n",
       "         [2.0105e-01, 2.7175e-01, 8.2804e-01, 5.5498e-01, 8.2302e-01,\n",
       "          2.5048e-01, 2.6706e-02, 9.9498e-01, 8.6695e-01, 5.7955e-01],\n",
       "         [5.3045e-01, 6.8915e-01, 2.4464e-01, 1.0126e-01, 1.5663e-01,\n",
       "          5.1761e-01, 1.6372e-01, 8.2666e-01, 6.9526e-01, 5.3310e-01],\n",
       "         [8.2575e-01, 9.1970e-01, 4.4957e-02, 5.6118e-01, 7.0228e-01,\n",
       "          8.5116e-02, 8.8504e-01, 4.9421e-01, 6.1926e-01, 1.7412e-02],\n",
       "         [6.5420e-01, 2.1657e-01, 8.8822e-01, 7.4351e-01, 3.0868e-01,\n",
       "          4.7361e-01, 6.5177e-01, 3.6298e-01, 6.7640e-01, 3.9808e-01],\n",
       "         [3.4385e-01, 2.9051e-01, 6.1858e-01, 9.2255e-01, 6.6208e-01,\n",
       "          3.4527e-01, 8.6469e-01, 5.4675e-01, 4.9788e-02, 7.1688e-01],\n",
       "         [4.1755e-01, 6.2307e-01, 9.5562e-01, 9.2511e-01, 4.2187e-01,\n",
       "          1.7148e-01, 4.6018e-01, 2.6500e-02, 4.3216e-01, 7.6598e-02],\n",
       "         [5.9763e-01, 6.8945e-01, 4.5357e-01, 1.3041e-01, 3.4746e-02,\n",
       "          2.4552e-01, 2.8172e-01, 9.0204e-01, 1.2519e-01, 7.8840e-01]],\n",
       "\n",
       "        [[4.0261e-01, 1.6687e-01, 6.7792e-01, 8.7060e-01, 2.1853e-02,\n",
       "          4.0170e-01, 8.9312e-01, 8.6889e-01, 7.9808e-01, 4.5546e-01],\n",
       "         [9.7821e-01, 8.6525e-01, 9.1705e-01, 6.8289e-01, 2.6707e-01,\n",
       "          2.8836e-01, 9.7834e-01, 7.4041e-01, 7.0277e-01, 5.0723e-01],\n",
       "         [9.9642e-02, 2.7939e-01, 5.5274e-01, 2.0846e-01, 2.6403e-01,\n",
       "          5.8469e-01, 4.1680e-01, 3.0678e-01, 9.5737e-01, 1.4494e-01],\n",
       "         [4.1553e-01, 3.8661e-01, 2.8342e-01, 3.1652e-02, 1.8263e-01,\n",
       "          4.0023e-01, 3.8923e-01, 1.6415e-01, 2.3895e-01, 8.2858e-01],\n",
       "         [1.6049e-01, 9.6753e-01, 7.0098e-01, 8.6135e-01, 6.8094e-01,\n",
       "          5.8156e-01, 5.1217e-01, 3.7279e-01, 3.7868e-01, 8.3766e-01],\n",
       "         [1.7982e-01, 7.2224e-01, 7.5075e-01, 9.3852e-01, 4.5972e-01,\n",
       "          2.2004e-01, 6.8022e-01, 6.3773e-02, 6.0260e-01, 6.5662e-01],\n",
       "         [8.9318e-02, 4.1391e-01, 7.2087e-01, 5.9983e-01, 7.3006e-01,\n",
       "          3.3397e-01, 1.3438e-01, 3.6001e-01, 8.0282e-01, 6.0531e-01],\n",
       "         [4.1746e-01, 5.5983e-01, 4.7961e-02, 3.3233e-01, 2.8272e-01,\n",
       "          9.0716e-02, 9.1012e-01, 2.8501e-01, 3.9810e-02, 1.2786e-01],\n",
       "         [8.4821e-01, 4.6596e-01, 4.4847e-01, 8.6416e-01, 1.7482e-01,\n",
       "          8.3396e-01, 3.4911e-01, 9.9251e-01, 8.3812e-01, 5.9585e-01],\n",
       "         [2.6050e-01, 6.2822e-01, 3.6902e-01, 3.5537e-01, 4.6432e-01,\n",
       "          9.5441e-01, 5.0071e-01, 6.4817e-01, 6.1758e-01, 2.6390e-02]],\n",
       "\n",
       "        [[7.3194e-03, 5.0395e-02, 3.9218e-01, 9.9658e-01, 9.3714e-01,\n",
       "          2.9291e-01, 8.3709e-01, 7.4088e-01, 9.2905e-02, 6.8196e-01],\n",
       "         [9.9434e-01, 5.9714e-01, 3.3866e-01, 5.6907e-01, 8.7908e-01,\n",
       "          3.3191e-01, 1.1172e-01, 2.3472e-01, 4.7796e-01, 5.9137e-01],\n",
       "         [1.9574e-01, 9.8539e-01, 2.3028e-01, 2.3201e-01, 5.8328e-01,\n",
       "          7.6979e-01, 1.8858e-01, 1.4929e-01, 1.2202e-01, 7.4175e-02],\n",
       "         [8.9067e-01, 7.7970e-01, 9.8228e-01, 2.4872e-01, 1.3437e-01,\n",
       "          3.8965e-02, 1.8487e-01, 5.3061e-02, 8.2620e-01, 6.4848e-01],\n",
       "         [1.5180e-01, 8.9263e-01, 8.4935e-02, 3.5546e-01, 7.8995e-02,\n",
       "          3.1564e-01, 4.1359e-01, 1.5487e-01, 8.1849e-02, 5.5755e-01],\n",
       "         [6.6948e-01, 7.9533e-02, 6.3115e-01, 8.6643e-01, 7.0306e-01,\n",
       "          2.6734e-01, 7.2961e-01, 9.5709e-01, 6.7357e-01, 8.4026e-01],\n",
       "         [2.5599e-01, 2.6235e-01, 2.9503e-01, 8.3646e-01, 9.7486e-01,\n",
       "          5.0303e-01, 3.8491e-01, 8.1237e-01, 1.9596e-01, 9.1389e-01],\n",
       "         [3.6905e-01, 8.1747e-01, 7.6255e-01, 2.9043e-01, 7.8993e-01,\n",
       "          9.7636e-01, 4.5061e-01, 3.4772e-01, 9.2114e-01, 4.3069e-01],\n",
       "         [8.1042e-01, 3.5000e-01, 1.4793e-01, 5.3300e-01, 2.0262e-01,\n",
       "          6.0271e-02, 4.5618e-02, 2.1829e-01, 9.7603e-01, 2.1675e-01],\n",
       "         [9.3057e-01, 4.8350e-01, 1.4316e-01, 4.9628e-01, 5.8216e-01,\n",
       "          8.5799e-01, 1.9594e-02, 4.0499e-01, 7.9975e-01, 9.8913e-01]],\n",
       "\n",
       "        [[7.0308e-01, 7.6530e-01, 6.1434e-01, 7.1997e-01, 2.2496e-01,\n",
       "          4.2781e-01, 7.8772e-01, 4.8207e-01, 4.9652e-01, 7.7710e-01],\n",
       "         [2.0064e-01, 4.9596e-01, 5.0743e-01, 6.6007e-01, 7.6941e-02,\n",
       "          8.1720e-01, 8.3480e-01, 9.6432e-01, 8.7432e-01, 9.0065e-01],\n",
       "         [8.4377e-01, 1.2491e-01, 1.9776e-01, 5.0713e-01, 4.2402e-03,\n",
       "          9.4455e-01, 2.6727e-04, 4.8838e-01, 2.6389e-01, 5.5752e-01],\n",
       "         [5.3473e-01, 9.3993e-01, 5.6199e-01, 2.9720e-01, 2.4681e-01,\n",
       "          4.7689e-01, 3.9332e-01, 1.5792e-01, 7.8453e-02, 3.1306e-01],\n",
       "         [7.2067e-01, 4.1352e-01, 1.1094e-01, 8.0899e-01, 4.5211e-01,\n",
       "          8.3303e-01, 8.7884e-01, 2.7480e-01, 9.3899e-01, 8.4630e-01],\n",
       "         [5.3925e-01, 4.3794e-01, 4.0733e-01, 6.5003e-01, 8.9683e-01,\n",
       "          9.5839e-01, 5.8401e-01, 5.0738e-02, 8.3730e-01, 8.0012e-01],\n",
       "         [5.8453e-01, 2.8668e-01, 9.6954e-02, 9.6558e-01, 3.3162e-01,\n",
       "          6.7904e-01, 8.1156e-01, 4.5280e-01, 8.6766e-01, 1.4612e-01],\n",
       "         [5.1274e-01, 3.9754e-01, 2.2310e-01, 6.4711e-01, 2.4729e-01,\n",
       "          2.6352e-01, 6.9245e-01, 9.9678e-01, 5.7837e-01, 9.6340e-02],\n",
       "         [6.4610e-01, 5.3647e-02, 7.9569e-01, 2.9631e-01, 1.2903e-01,\n",
       "          3.6723e-01, 8.5001e-01, 3.2332e-01, 1.8400e-02, 1.4529e-01],\n",
       "         [1.7535e-01, 8.4420e-01, 9.2489e-02, 5.2033e-01, 7.2655e-02,\n",
       "          5.5534e-01, 9.2516e-01, 1.7353e-01, 5.6643e-01, 7.8529e-01]],\n",
       "\n",
       "        [[8.8787e-01, 8.8105e-01, 7.2658e-01, 5.6294e-01, 9.9371e-01,\n",
       "          2.6997e-02, 5.0789e-02, 6.1920e-01, 9.2472e-01, 9.4811e-01],\n",
       "         [2.1162e-01, 2.5799e-03, 5.0549e-02, 5.7235e-01, 7.2544e-01,\n",
       "          3.5656e-02, 7.4770e-02, 7.4240e-01, 4.8435e-02, 4.1425e-01],\n",
       "         [4.9212e-01, 6.0756e-01, 2.0519e-02, 5.9638e-01, 2.3989e-01,\n",
       "          9.3523e-01, 3.5409e-01, 4.5475e-01, 3.0163e-01, 9.6650e-01],\n",
       "         [2.1109e-01, 7.6550e-02, 9.9643e-01, 3.4939e-01, 5.1229e-01,\n",
       "          6.0264e-01, 4.7300e-01, 6.5551e-01, 5.7034e-01, 7.6337e-01],\n",
       "         [8.5267e-01, 6.5080e-01, 1.1300e-01, 6.6430e-01, 2.1235e-01,\n",
       "          7.8831e-01, 5.2925e-01, 1.6366e-01, 9.3656e-01, 1.7961e-01],\n",
       "         [1.4253e-01, 7.8789e-02, 2.0526e-01, 4.4475e-01, 7.6825e-01,\n",
       "          2.1606e-01, 8.7308e-01, 5.7738e-01, 7.2507e-01, 5.4466e-01],\n",
       "         [8.0116e-01, 1.8190e-01, 1.2702e-01, 7.1904e-01, 4.2532e-01,\n",
       "          5.9067e-01, 3.4930e-01, 6.8768e-01, 5.8491e-01, 3.4271e-01],\n",
       "         [6.3557e-01, 1.1172e-01, 7.9177e-01, 6.1241e-01, 1.3072e-01,\n",
       "          7.7435e-01, 7.4434e-01, 7.4218e-01, 6.1562e-01, 7.0254e-01],\n",
       "         [6.6001e-01, 2.6764e-02, 9.7731e-01, 4.7092e-01, 1.5228e-01,\n",
       "          4.6664e-01, 5.2739e-01, 6.9360e-01, 9.2418e-01, 8.7173e-01],\n",
       "         [3.3761e-01, 1.0334e-01, 8.8200e-01, 4.1732e-01, 2.4081e-01,\n",
       "          7.1626e-01, 7.0267e-01, 5.0548e-01, 7.8144e-01, 5.9242e-01]],\n",
       "\n",
       "        [[2.2796e-01, 6.9883e-01, 8.2207e-01, 1.3682e-01, 4.0981e-01,\n",
       "          2.4454e-01, 7.1294e-01, 1.3521e-01, 1.9962e-01, 4.6206e-04],\n",
       "         [2.7856e-01, 9.0296e-01, 9.9789e-01, 8.3478e-01, 7.8887e-01,\n",
       "          9.2411e-01, 6.2459e-01, 2.8342e-01, 5.1763e-01, 2.5101e-01],\n",
       "         [6.3554e-01, 2.7359e-01, 7.1279e-01, 2.1933e-01, 2.2475e-01,\n",
       "          8.9515e-01, 3.2211e-01, 2.0665e-01, 6.5793e-01, 6.2173e-01],\n",
       "         [8.8206e-01, 6.7371e-01, 1.9800e-01, 4.1399e-01, 2.1689e-01,\n",
       "          6.9961e-01, 4.3627e-01, 5.8753e-01, 9.3000e-01, 8.1389e-01],\n",
       "         [3.5197e-01, 8.5578e-01, 8.6802e-03, 3.1857e-01, 3.1249e-01,\n",
       "          7.0554e-04, 1.6418e-01, 3.4710e-01, 4.6904e-01, 1.9791e-02],\n",
       "         [4.5862e-01, 1.6121e-01, 9.9353e-01, 6.1470e-01, 8.1456e-01,\n",
       "          3.4319e-01, 7.8194e-02, 7.4783e-02, 9.4079e-01, 3.9500e-01],\n",
       "         [7.6667e-01, 2.5325e-01, 8.9280e-01, 6.3569e-01, 3.3938e-01,\n",
       "          6.7050e-01, 1.1941e-01, 7.9741e-01, 1.5121e-01, 7.4499e-01],\n",
       "         [8.6035e-01, 9.7458e-01, 2.3570e-01, 7.4044e-02, 1.1466e-01,\n",
       "          9.1935e-01, 7.9623e-01, 8.0094e-01, 5.9036e-01, 2.1028e-01],\n",
       "         [9.6996e-01, 7.0072e-01, 9.9231e-01, 4.3418e-01, 6.1396e-01,\n",
       "          6.2533e-01, 2.7270e-01, 7.2752e-01, 5.3938e-01, 4.8252e-01],\n",
       "         [3.9488e-01, 3.9737e-01, 3.6464e-01, 7.3626e-01, 6.6749e-02,\n",
       "          2.7290e-01, 2.4780e-01, 8.8720e-01, 3.0140e-01, 9.0660e-01]]])"
      ]
     },
     "execution_count": 95,
     "metadata": {},
     "output_type": "execute_result"
    }
   ],
   "source": [
    "# Create a random tensor of size\n",
    "# random_numbers = torch.rand(3,4)\n",
    "random_numbers = torch.rand(10,10,10)\n",
    "random_numbers"
   ]
  },
  {
   "cell_type": "code",
   "execution_count": 96,
   "metadata": {},
   "outputs": [
    {
     "data": {
      "text/plain": [
       "3"
      ]
     },
     "execution_count": 96,
     "metadata": {},
     "output_type": "execute_result"
    }
   ],
   "source": [
    "random_numbers.ndim"
   ]
  },
  {
   "cell_type": "code",
   "execution_count": 97,
   "metadata": {},
   "outputs": [
    {
     "data": {
      "text/plain": [
       "(torch.Size([3, 224, 224]), 3)"
      ]
     },
     "execution_count": 97,
     "metadata": {},
     "output_type": "execute_result"
    }
   ],
   "source": [
    "# Create a random tensor with similar shape to an image tensor\n",
    "random_image_size_tensor = torch.rand(size=(3, 224, 224)) # height, width, colur (RGB)\n",
    "random_image_size_tensor.shape, random_image_size_tensor.ndim"
   ]
  },
  {
   "cell_type": "code",
   "execution_count": 98,
   "metadata": {},
   "outputs": [
    {
     "data": {
      "text/plain": [
       "tensor([[[0.0069, 0.2402, 0.4657,  ..., 0.5138, 0.7079, 0.2867],\n",
       "         [0.3453, 0.6213, 0.6013,  ..., 0.1215, 0.5079, 0.7136],\n",
       "         [0.9672, 0.5970, 0.4650,  ..., 0.3658, 0.6596, 0.5460],\n",
       "         ...,\n",
       "         [0.8390, 0.4120, 0.6313,  ..., 0.7442, 0.1579, 0.7079],\n",
       "         [0.9253, 0.0721, 0.9469,  ..., 0.4815, 0.0911, 0.8463],\n",
       "         [0.3156, 0.2565, 0.3605,  ..., 0.4413, 0.3719, 0.8730]],\n",
       "\n",
       "        [[0.9166, 0.9552, 0.9735,  ..., 0.9730, 0.1100, 0.1815],\n",
       "         [0.5413, 0.3618, 0.1676,  ..., 0.2357, 0.0981, 0.6728],\n",
       "         [0.4785, 0.6505, 0.7029,  ..., 0.7867, 0.8852, 0.5549],\n",
       "         ...,\n",
       "         [0.1253, 0.1881, 0.7485,  ..., 0.1120, 0.7624, 0.9300],\n",
       "         [0.3408, 0.9308, 0.4139,  ..., 0.3060, 0.7084, 0.0657],\n",
       "         [0.3265, 0.4439, 0.4206,  ..., 0.0371, 0.8385, 0.6509]],\n",
       "\n",
       "        [[0.4221, 0.2768, 0.2736,  ..., 0.5660, 0.3240, 0.3043],\n",
       "         [0.3919, 0.2521, 0.3898,  ..., 0.9555, 0.6634, 0.8618],\n",
       "         [0.0322, 0.2753, 0.2107,  ..., 0.4705, 0.3580, 0.3964],\n",
       "         ...,\n",
       "         [0.3107, 0.8169, 0.0866,  ..., 0.3110, 0.5788, 0.0712],\n",
       "         [0.8131, 0.3478, 0.1106,  ..., 0.3061, 0.0920, 0.8877],\n",
       "         [0.3958, 0.0397, 0.8277,  ..., 0.6782, 0.0813, 0.4106]]])"
      ]
     },
     "execution_count": 98,
     "metadata": {},
     "output_type": "execute_result"
    }
   ],
   "source": [
    "random_image_size_tensor"
   ]
  },
  {
   "cell_type": "markdown",
   "metadata": {},
   "source": [
    "### 1.2 Zeros and Ones\n",
    "these are using for the masking process"
   ]
  },
  {
   "cell_type": "code",
   "execution_count": 99,
   "metadata": {},
   "outputs": [
    {
     "data": {
      "text/plain": [
       "tensor([[0., 0., 0., 0.],\n",
       "        [0., 0., 0., 0.],\n",
       "        [0., 0., 0., 0.]])"
      ]
     },
     "execution_count": 99,
     "metadata": {},
     "output_type": "execute_result"
    }
   ],
   "source": [
    "# Create a tensor of all zeros\n",
    "zeros = torch.zeros(size=(3,4))\n",
    "zeros"
   ]
  },
  {
   "cell_type": "code",
   "execution_count": 100,
   "metadata": {},
   "outputs": [
    {
     "data": {
      "text/plain": [
       "tensor([[1., 1., 1., 1.],\n",
       "        [1., 1., 1., 1.],\n",
       "        [1., 1., 1., 1.]])"
      ]
     },
     "execution_count": 100,
     "metadata": {},
     "output_type": "execute_result"
    }
   ],
   "source": [
    "# Create a tensor of all ones\n",
    "ones = torch.ones(size=(3,4))\n",
    "ones"
   ]
  },
  {
   "cell_type": "code",
   "execution_count": 101,
   "metadata": {},
   "outputs": [
    {
     "data": {
      "text/plain": [
       "(torch.float32, torch.float32)"
      ]
     },
     "execution_count": 101,
     "metadata": {},
     "output_type": "execute_result"
    }
   ],
   "source": [
    "ones.dtype, zeros.dtype"
   ]
  },
  {
   "cell_type": "markdown",
   "metadata": {},
   "source": [
    "### 1.3 Creating a range of tensors and tensors-like"
   ]
  },
  {
   "cell_type": "code",
   "execution_count": 102,
   "metadata": {},
   "outputs": [
    {
     "data": {
      "text/plain": [
       "tensor([ 1,  2,  3,  4,  5,  6,  7,  8,  9, 10])"
      ]
     },
     "execution_count": 102,
     "metadata": {},
     "output_type": "execute_result"
    }
   ],
   "source": [
    "# Use torch.range() and get deprecated message, use torch.arange()\n",
    "one_to_ten = torch.arange(start=1, end=11, step=1)\n",
    "one_to_ten"
   ]
  },
  {
   "cell_type": "code",
   "execution_count": 103,
   "metadata": {},
   "outputs": [
    {
     "data": {
      "text/plain": [
       "tensor([0, 0, 0, 0, 0, 0, 0, 0, 0, 0])"
      ]
     },
     "execution_count": 103,
     "metadata": {},
     "output_type": "execute_result"
    }
   ],
   "source": [
    "# Creating tensors like\n",
    "ten_zeros = torch.zeros_like(input=one_to_ten)\n",
    "ten_zeros"
   ]
  },
  {
   "cell_type": "markdown",
   "metadata": {},
   "source": [
    "### 1.4 Tensor datatypes\n",
    "\n",
    "**Note:** Tensor datatypes is one of the 3 big errors\n",
    "1. Tensors not right datatype\n",
    "2. Tensors not right shape\n",
    "3. Tensors not on the right device\n",
    "\n",
    "**ps.** Precision in computing"
   ]
  },
  {
   "cell_type": "code",
   "execution_count": 104,
   "metadata": {},
   "outputs": [
    {
     "data": {
      "text/plain": [
       "(tensor([3., 6., 9.]), torch.float32)"
      ]
     },
     "execution_count": 104,
     "metadata": {},
     "output_type": "execute_result"
    }
   ],
   "source": [
    "# Float 32 tensor\n",
    "float_32_tensor = torch.tensor([3.0, 6.0, 9.0], \n",
    "                                dtype=None, # what datatype is the tensor (e.g. float32*, float64, float16*) <- Precision computing\n",
    "                                device=None, # what device is tensor on (e.g. CPU, GPU, NPU, TPU)\n",
    "                                requires_grad=False) # whether or not to track gradients with this operation\n",
    "float_32_tensor, float_32_tensor.dtype"
   ]
  },
  {
   "cell_type": "code",
   "execution_count": 105,
   "metadata": {},
   "outputs": [
    {
     "data": {
      "text/plain": [
       "(tensor([3., 6., 9.], dtype=torch.float16), torch.float16)"
      ]
     },
     "execution_count": 105,
     "metadata": {},
     "output_type": "execute_result"
    }
   ],
   "source": [
    "float_16_tensor = float_32_tensor.type(torch.float16)\n",
    "float_16_tensor,float_16_tensor.dtype"
   ]
  },
  {
   "cell_type": "code",
   "execution_count": 106,
   "metadata": {},
   "outputs": [
    {
     "data": {
      "text/plain": [
       "tensor([ 9., 36., 81.])"
      ]
     },
     "execution_count": 106,
     "metadata": {},
     "output_type": "execute_result"
    }
   ],
   "source": [
    "float_32_tensor*float_16_tensor # Errors not happened but massive neural network striking risk to u by this"
   ]
  },
  {
   "cell_type": "code",
   "execution_count": 107,
   "metadata": {},
   "outputs": [
    {
     "data": {
      "text/plain": [
       "tensor([3, 6, 9], dtype=torch.int32)"
      ]
     },
     "execution_count": 107,
     "metadata": {},
     "output_type": "execute_result"
    }
   ],
   "source": [
    "int_32_tensor = torch.tensor([3,6,9,], dtype=torch.int32) # multiply other tensor : OK\n",
    "# int_32_tensor = torch.tensor([3,6,9,], dtype=torch.int64) # multiply other tensor : OK\n",
    "# int_32_tensor = torch.tensor([3,6,9,], dtype=torch.long)  # multiply other tensor : OK\n",
    "int_32_tensor"
   ]
  },
  {
   "cell_type": "code",
   "execution_count": 108,
   "metadata": {},
   "outputs": [
    {
     "data": {
      "text/plain": [
       "tensor([ 9., 36., 81.])"
      ]
     },
     "execution_count": 108,
     "metadata": {},
     "output_type": "execute_result"
    }
   ],
   "source": [
    "float_32_tensor*int_32_tensor"
   ]
  },
  {
   "cell_type": "markdown",
   "metadata": {},
   "source": [
    "### **1.4 Advice! - Tensor attributes errors**\n",
    "\n",
    "1. Tensors not right datatype - to do datatype from a tensor, [ **tensor.dtype** ]\n",
    "2. Tensors not right shape - to get shape from a tensor,  [ **tensor.shape** ]\n",
    "3. Tensors not on the right device - to get device from a tensor, [ **tensor.device** ]"
   ]
  },
  {
   "cell_type": "code",
   "execution_count": 109,
   "metadata": {},
   "outputs": [
    {
     "data": {
      "text/plain": [
       "tensor([[0.1205, 0.5147, 0.6169, 0.5351],\n",
       "        [0.5946, 0.0347, 0.8396, 0.7542],\n",
       "        [0.2289, 0.0607, 0.5133, 0.7292]])"
      ]
     },
     "execution_count": 109,
     "metadata": {},
     "output_type": "execute_result"
    }
   ],
   "source": [
    "# Create a tensor\n",
    "some_tensor = torch.rand(3,4)\n",
    "some_tensor"
   ]
  },
  {
   "cell_type": "code",
   "execution_count": 110,
   "metadata": {},
   "outputs": [
    {
     "data": {
      "text/plain": [
       "(<function Tensor.size>, torch.Size([3, 4]))"
      ]
     },
     "execution_count": 110,
     "metadata": {},
     "output_type": "execute_result"
    }
   ],
   "source": [
    "some_tensor.size, some_tensor.shape"
   ]
  },
  {
   "cell_type": "code",
   "execution_count": 111,
   "metadata": {},
   "outputs": [
    {
     "name": "stdout",
     "output_type": "stream",
     "text": [
      "tensor([[0.1205, 0.5147, 0.6169, 0.5351],\n",
      "        [0.5946, 0.0347, 0.8396, 0.7542],\n",
      "        [0.2289, 0.0607, 0.5133, 0.7292]])\n",
      "Datatype of tensor: torch.float32\n",
      "Shape    of tensor: torch.Size([3, 4])\n",
      "Device   of tensor: cpu\n"
     ]
    }
   ],
   "source": [
    "# Find out details about some tensor\n",
    "print(some_tensor)\n",
    "print(f'Datatype of tensor: {some_tensor.dtype}')\n",
    "print(f'Shape    of tensor: {some_tensor.shape}')\n",
    "print(f'Device   of tensor: {some_tensor.device}')"
   ]
  },
  {
   "cell_type": "markdown",
   "metadata": {},
   "source": [
    "### 1.5 Manipulating Tensors\n",
    "\n",
    "Tensor operations include:\n",
    "* Addition\n",
    "* Subtraction\n",
    "* Multiplication (element-wise)\n",
    "* Division\n",
    "* Matrix multiplication"
   ]
  },
  {
   "cell_type": "code",
   "execution_count": 112,
   "metadata": {},
   "outputs": [
    {
     "data": {
      "text/plain": [
       "tensor([11, 12, 13])"
      ]
     },
     "execution_count": 112,
     "metadata": {},
     "output_type": "execute_result"
    }
   ],
   "source": [
    "# Create a tensor and add 10 to it\n",
    "tensor = torch.tensor([1,2,3])\n",
    "tensor + 10"
   ]
  },
  {
   "cell_type": "code",
   "execution_count": 113,
   "metadata": {},
   "outputs": [
    {
     "data": {
      "text/plain": [
       "tensor([10, 20, 30])"
      ]
     },
     "execution_count": 113,
     "metadata": {},
     "output_type": "execute_result"
    }
   ],
   "source": [
    "# Multiply tensor by 10\n",
    "tensor*10"
   ]
  },
  {
   "cell_type": "code",
   "execution_count": 114,
   "metadata": {},
   "outputs": [
    {
     "data": {
      "text/plain": [
       "tensor([1, 2, 3])"
      ]
     },
     "execution_count": 114,
     "metadata": {},
     "output_type": "execute_result"
    }
   ],
   "source": [
    "tensor"
   ]
  },
  {
   "cell_type": "code",
   "execution_count": 115,
   "metadata": {},
   "outputs": [
    {
     "data": {
      "text/plain": [
       "tensor([-9, -8, -7])"
      ]
     },
     "execution_count": 115,
     "metadata": {},
     "output_type": "execute_result"
    }
   ],
   "source": [
    "# Subtract 10\n",
    "tensor-10"
   ]
  },
  {
   "cell_type": "code",
   "execution_count": 116,
   "metadata": {},
   "outputs": [
    {
     "data": {
      "text/plain": [
       "tensor([10, 20, 30])"
      ]
     },
     "execution_count": 116,
     "metadata": {},
     "output_type": "execute_result"
    }
   ],
   "source": [
    "# Try Pytorch in-bulit function\n",
    "torch.mul(tensor, 10)"
   ]
  },
  {
   "cell_type": "code",
   "execution_count": 117,
   "metadata": {},
   "outputs": [
    {
     "data": {
      "text/plain": [
       "tensor([11, 12, 13])"
      ]
     },
     "execution_count": 117,
     "metadata": {},
     "output_type": "execute_result"
    }
   ],
   "source": [
    "torch.add(tensor, 10)"
   ]
  },
  {
   "cell_type": "markdown",
   "metadata": {},
   "source": [
    "### 1.6 Matrix multiplication\n",
    "\n",
    "two main ways of performing multiplication \n",
    "1. element-wise multiplication\n",
    "2. Matrix multiplication (dot product)\n",
    "\n",
    "**TWO RULES:** \n",
    "1. the **inner dimensions must match: (matmul = @)\n",
    "* '(3, 2) @ (3, 2)' won't work\n",
    "* '(2, 3) @ (3, 2)' work\n",
    "* '(3, 2) @ (2, 3)' work\n",
    "2. The resulting matrix has the shape of the **outer dimensions**:\n",
    "* '(2, 3) @ (3, 2)' -> '(2, 2)'\n",
    "* '(3, 2) @ (2, 3)' -> '(3, 3)'\n",
    "\n",
    "*ps.* matrix multiplication : https://www.mathsisfun.com/algebra/matrix-multiplying.html    \n",
    "*ps.* matrix multiplicaiton simulation : http://matrixmultiplication.xyz/\n",
    "\n"
   ]
  },
  {
   "cell_type": "code",
   "execution_count": 118,
   "metadata": {},
   "outputs": [
    {
     "name": "stdout",
     "output_type": "stream",
     "text": [
      "tensor([1, 2, 3]) * tensor([1, 2, 3])\n",
      "Equals:tensor([1, 4, 9])\n"
     ]
    }
   ],
   "source": [
    "# element wise multiplication\n",
    "print(tensor, '*', tensor)\n",
    "print(f'Equals:{tensor*tensor}')"
   ]
  },
  {
   "cell_type": "code",
   "execution_count": 119,
   "metadata": {},
   "outputs": [
    {
     "data": {
      "text/plain": [
       "tensor(14)"
      ]
     },
     "execution_count": 119,
     "metadata": {},
     "output_type": "execute_result"
    }
   ],
   "source": [
    "# Matrix multiplication\n",
    "torch.matmul(tensor, tensor)"
   ]
  },
  {
   "cell_type": "code",
   "execution_count": 120,
   "metadata": {},
   "outputs": [
    {
     "data": {
      "text/plain": [
       "tensor([1, 2, 3])"
      ]
     },
     "execution_count": 120,
     "metadata": {},
     "output_type": "execute_result"
    }
   ],
   "source": [
    "tensor"
   ]
  },
  {
   "cell_type": "code",
   "execution_count": 121,
   "metadata": {},
   "outputs": [
    {
     "data": {
      "text/plain": [
       "14"
      ]
     },
     "execution_count": 121,
     "metadata": {},
     "output_type": "execute_result"
    }
   ],
   "source": [
    "# Matrix multiplication by hand (dot product)\n",
    "1*1 + 2*2 + 3*3"
   ]
  },
  {
   "cell_type": "code",
   "execution_count": 122,
   "metadata": {},
   "outputs": [
    {
     "name": "stdout",
     "output_type": "stream",
     "text": [
      "CPU times: total: 0 ns\n",
      "Wall time: 0 ns\n"
     ]
    },
    {
     "data": {
      "text/plain": [
       "tensor(14)"
      ]
     },
     "execution_count": 122,
     "metadata": {},
     "output_type": "execute_result"
    }
   ],
   "source": [
    "%%time\n",
    "value =0\n",
    "for i in range(len(tensor)):\n",
    "    value += tensor[i]*tensor[i]\n",
    "value"
   ]
  },
  {
   "cell_type": "code",
   "execution_count": 123,
   "metadata": {},
   "outputs": [
    {
     "name": "stdout",
     "output_type": "stream",
     "text": [
      "CPU times: total: 0 ns\n",
      "Wall time: 0 ns\n"
     ]
    },
    {
     "data": {
      "text/plain": [
       "tensor(14)"
      ]
     },
     "execution_count": 123,
     "metadata": {},
     "output_type": "execute_result"
    }
   ],
   "source": [
    "%%time\n",
    "torch.matmul(tensor,tensor)"
   ]
  },
  {
   "cell_type": "markdown",
   "metadata": {},
   "source": [
    "### **1.7 Advice! - Matrix Multiplication ( shape errors )**"
   ]
  },
  {
   "cell_type": "code",
   "execution_count": 124,
   "metadata": {},
   "outputs": [
    {
     "name": "stdout",
     "output_type": "stream",
     "text": [
      "ERROR OCCURRED: mat1 and mat2 shapes cannot be multiplied (3x2 and 3x2)\n"
     ]
    }
   ],
   "source": [
    "try:\n",
    "    # shape for matrix multiplication\n",
    "    tensor_A = torch.tensor([[1,2],\n",
    "                            [3,4],\n",
    "                            [5,6]])\n",
    "    tensor_B = torch.tensor([[7,10],\n",
    "                            [8,11],\n",
    "                            [9,12]])\n",
    "\n",
    "    # torch.mm(tensor_A, tensor_B) # torch.mm = torch.matmul\n",
    "    torch.mm(tensor_A, tensor_B)\n",
    "except RuntimeError  as e:\n",
    "    print(f'ERROR OCCURRED: {e}')"
   ]
  },
  {
   "cell_type": "markdown",
   "metadata": {},
   "source": []
  },
  {
   "cell_type": "markdown",
   "metadata": {},
   "source": [
    "To fix tensor shape issues, using a **transpose**  \n",
    "A **transpose** switches the axes or dimensions of a given tensor"
   ]
  },
  {
   "cell_type": "code",
   "execution_count": 125,
   "metadata": {},
   "outputs": [
    {
     "data": {
      "text/plain": [
       "(tensor([[ 7, 10],\n",
       "         [ 8, 11],\n",
       "         [ 9, 12]]),\n",
       " torch.Size([3, 2]))"
      ]
     },
     "execution_count": 125,
     "metadata": {},
     "output_type": "execute_result"
    }
   ],
   "source": [
    "tensor_B, tensor_B.shape"
   ]
  },
  {
   "cell_type": "code",
   "execution_count": 126,
   "metadata": {},
   "outputs": [
    {
     "data": {
      "text/plain": [
       "(tensor([[ 7,  8,  9],\n",
       "         [10, 11, 12]]),\n",
       " torch.Size([2, 3]))"
      ]
     },
     "execution_count": 126,
     "metadata": {},
     "output_type": "execute_result"
    }
   ],
   "source": [
    "tensor_B.T, tensor_B.T.shape"
   ]
  },
  {
   "cell_type": "code",
   "execution_count": 127,
   "metadata": {},
   "outputs": [
    {
     "data": {
      "text/plain": [
       "(tensor([[ 27,  30,  33],\n",
       "         [ 61,  68,  75],\n",
       "         [ 95, 106, 117]]),\n",
       " torch.Size([3, 3]))"
      ]
     },
     "execution_count": 127,
     "metadata": {},
     "output_type": "execute_result"
    }
   ],
   "source": [
    "torch.mm(tensor_A, tensor_B.T), torch.mm(tensor_A, tensor_B.T).shape"
   ]
  },
  {
   "cell_type": "code",
   "execution_count": 128,
   "metadata": {},
   "outputs": [
    {
     "name": "stdout",
     "output_type": "stream",
     "text": [
      "Original shapes: tensor_A = torch.Size([3, 2]), tensor_B = torch.Size([3, 2])\n",
      "New shapes: tensor_A = torch.Size([3, 2]) (same as above), tensor_B.T = torch.Size([2, 3])\n",
      "Multiplying: ( torch.Size([3, 2]) @ torch.Size([3, 2]) <- inner dimension must match\n",
      "Output:\n",
      "\n",
      "tensor([[ 27,  30,  33],\n",
      "        [ 61,  68,  75],\n",
      "        [ 95, 106, 117]])\n",
      "\n",
      "Output shapes: torch.Size([3, 3])\n"
     ]
    }
   ],
   "source": [
    "# the matrix multiplication operation works when tensor_B is transpose\n",
    "print(f'Original shapes: tensor_A = {tensor_A.shape}, tensor_B = {tensor_B.shape}')\n",
    "print(f'New shapes: tensor_A = {tensor_A.shape} (same as above), tensor_B.T = {tensor_B.T.shape}')\n",
    "print(f'Multiplying: ( {tensor_A.shape} @ {tensor_B.shape} <- inner dimension must match')\n",
    "print(f'Output:\\n')\n",
    "output = torch.matmul(tensor_A, tensor_B.T)\n",
    "print(output)\n",
    "print(f'\\nOutput shapes: {output.shape}')"
   ]
  },
  {
   "cell_type": "markdown",
   "metadata": {},
   "source": [
    "### 1.8 Min, Max, mean, sum, etc (tensor aggregation)"
   ]
  },
  {
   "cell_type": "code",
   "execution_count": 129,
   "metadata": {},
   "outputs": [
    {
     "data": {
      "text/plain": [
       "(tensor([ 1, 11, 21, 31, 41, 51, 61, 71, 81, 91]), torch.int64)"
      ]
     },
     "execution_count": 129,
     "metadata": {},
     "output_type": "execute_result"
    }
   ],
   "source": [
    "# Create a tensor\n",
    "x = torch.arange(1,100,10)\n",
    "x, x.dtype"
   ]
  },
  {
   "cell_type": "code",
   "execution_count": 130,
   "metadata": {},
   "outputs": [
    {
     "data": {
      "text/plain": [
       "(tensor(1), tensor(1))"
      ]
     },
     "execution_count": 130,
     "metadata": {},
     "output_type": "execute_result"
    }
   ],
   "source": [
    "# Find the min\n",
    "torch.min(x), x.min()"
   ]
  },
  {
   "cell_type": "code",
   "execution_count": 131,
   "metadata": {},
   "outputs": [
    {
     "data": {
      "text/plain": [
       "(tensor(91), tensor(91))"
      ]
     },
     "execution_count": 131,
     "metadata": {},
     "output_type": "execute_result"
    }
   ],
   "source": [
    "# find the max\n",
    "torch.max(x), x.max()"
   ]
  },
  {
   "cell_type": "code",
   "execution_count": 132,
   "metadata": {},
   "outputs": [
    {
     "name": "stdout",
     "output_type": "stream",
     "text": [
      "ERRORS OCCURED: mean(): could not infer output dtype. Input dtype must be either a floating point or complex dtype. Got: Long\n",
      "\n"
     ]
    },
    {
     "data": {
      "text/plain": [
       "(tensor(46.), tensor(46.))"
      ]
     },
     "execution_count": 132,
     "metadata": {},
     "output_type": "execute_result"
    }
   ],
   "source": [
    "# find the mean \n",
    "try:\n",
    "    torch.mean(x)\n",
    "except RuntimeError as e:\n",
    "    print(f'ERRORS OCCURED: {e}\\n')\n",
    "\n",
    "# note: torch.mean() function requires a tensor of float32\n",
    "torch.mean(x.type(torch.float32)), x.type(torch.float32).mean()"
   ]
  },
  {
   "cell_type": "code",
   "execution_count": 133,
   "metadata": {},
   "outputs": [
    {
     "data": {
      "text/plain": [
       "(tensor(460), tensor(460))"
      ]
     },
     "execution_count": 133,
     "metadata": {},
     "output_type": "execute_result"
    }
   ],
   "source": [
    "# Find the sum\n",
    "torch.sum(x), x.sum()"
   ]
  },
  {
   "cell_type": "code",
   "execution_count": 134,
   "metadata": {},
   "outputs": [
    {
     "data": {
      "text/plain": [
       "tensor([ 1, 11, 21, 31, 41, 51, 61, 71, 81, 91])"
      ]
     },
     "execution_count": 134,
     "metadata": {},
     "output_type": "execute_result"
    }
   ],
   "source": [
    "# Find the positional min and max\n",
    "x"
   ]
  },
  {
   "cell_type": "code",
   "execution_count": 135,
   "metadata": {},
   "outputs": [
    {
     "name": "stdout",
     "output_type": "stream",
     "text": [
      "position: 0, values:1, x.min: 1\n"
     ]
    }
   ],
   "source": [
    "# Find the position in tensor minimum \n",
    "print(f'position: {x.argmin()}, values:{x[x.argmin()]}, x.min: {x.min()}')"
   ]
  },
  {
   "cell_type": "code",
   "execution_count": 136,
   "metadata": {},
   "outputs": [
    {
     "name": "stdout",
     "output_type": "stream",
     "text": [
      "position: 9, values:91, x.min: 91\n"
     ]
    }
   ],
   "source": [
    "# Find the position in tensor maximum \n",
    "print(f'position: {x.argmax()}, values:{x[x.argmax()]}, x.min: {x.max()}')"
   ]
  },
  {
   "cell_type": "markdown",
   "metadata": {},
   "source": [
    "### 1.9 Reshaping, Stacking, squeezing and unsqueezing tensors\n",
    "\n",
    "* **Reshaping** - reshapes an input tensor to a defined shape   \n",
    "* View      - return a view of an input of certain shape but keep the same memory\n",
    "* Stacking  - Combing multiple tensors on top of each other (vstack) or side by side (hstack)\n",
    "* **squeeze**   - remove all '1' dimensions from a tensor\n",
    "* **unsqueeze** - add a 1 dimension to a target tensor\n",
    "* Permute   - Return a view of the input with dimensions permuted (swapped) in a certain way"
   ]
  },
  {
   "cell_type": "code",
   "execution_count": 137,
   "metadata": {},
   "outputs": [
    {
     "data": {
      "text/plain": [
       "(tensor([1., 2., 3., 4., 5., 6., 7., 8., 9.]), torch.Size([9]))"
      ]
     },
     "execution_count": 137,
     "metadata": {},
     "output_type": "execute_result"
    }
   ],
   "source": [
    "# Create a tensor\n",
    "x = torch.arange(1., 10.)\n",
    "x, x.shape"
   ]
  },
  {
   "cell_type": "code",
   "execution_count": 138,
   "metadata": {},
   "outputs": [
    {
     "name": "stdout",
     "output_type": "stream",
     "text": [
      "ERROR OCCURRED: shape '[2, 9]' is invalid for input of size 9\n",
      "\n"
     ]
    },
    {
     "data": {
      "text/plain": [
       "(tensor([[1.],\n",
       "         [2.],\n",
       "         [3.],\n",
       "         [4.],\n",
       "         [5.],\n",
       "         [6.],\n",
       "         [7.],\n",
       "         [8.],\n",
       "         [9.]]),\n",
       " torch.Size([9, 1]))"
      ]
     },
     "execution_count": 138,
     "metadata": {},
     "output_type": "execute_result"
    }
   ],
   "source": [
    "try:\n",
    "    x_reshaped = x.reshape(2,9)\n",
    "    x_reshaped, x_reshaped.shape\n",
    "except RuntimeError as e:\n",
    "    print(f'ERROR OCCURRED: {e}\\n')\n",
    "\n",
    "x_reshaped = x.reshape(9,1)\n",
    "x_reshaped, x_reshaped.shape    "
   ]
  },
  {
   "cell_type": "code",
   "execution_count": 139,
   "metadata": {},
   "outputs": [
    {
     "name": "stdout",
     "output_type": "stream",
     "text": [
      "ERROR OCCURRED: shape '[1, 7]' is invalid for input of size 9\n",
      "\n"
     ]
    },
    {
     "data": {
      "text/plain": [
       "(tensor([[1., 2., 3., 4., 5., 6., 7., 8., 9.]]), torch.Size([1, 9]))"
      ]
     },
     "execution_count": 139,
     "metadata": {},
     "output_type": "execute_result"
    }
   ],
   "source": [
    "# Add an extra dimension\n",
    "try:\n",
    "    x_reshaped = x.reshape(1,7)\n",
    "    x_reshaped, x_reshaped.shape\n",
    "except RuntimeError as e:\n",
    "    print(f'ERROR OCCURRED: {e}\\n')\n",
    "\n",
    "x_reshaped = x.reshape(1,9)\n",
    "x_reshaped, x_reshaped.shape    "
   ]
  },
  {
   "cell_type": "code",
   "execution_count": 140,
   "metadata": {},
   "outputs": [
    {
     "data": {
      "text/plain": [
       "(tensor([ 1.,  2.,  3.,  4.,  5.,  6.,  7.,  8.,  9., 10.]), torch.Size([10]))"
      ]
     },
     "execution_count": 140,
     "metadata": {},
     "output_type": "execute_result"
    }
   ],
   "source": [
    "# Change the view\n",
    "x_1 = torch.arange(1., 11.)\n",
    "x_1, x_1.shape"
   ]
  },
  {
   "cell_type": "code",
   "execution_count": 141,
   "metadata": {},
   "outputs": [
    {
     "data": {
      "text/plain": [
       "(tensor([[ 1.,  2.],\n",
       "         [ 3.,  4.],\n",
       "         [ 5.,  6.],\n",
       "         [ 7.,  8.],\n",
       "         [ 9., 10.]]),\n",
       " torch.Size([5, 2]))"
      ]
     },
     "execution_count": 141,
     "metadata": {},
     "output_type": "execute_result"
    }
   ],
   "source": [
    "x_1_reshaped = x_1.reshape(5,2)\n",
    "x_1_reshaped, x_1_reshaped.shape    "
   ]
  },
  {
   "cell_type": "code",
   "execution_count": 142,
   "metadata": {},
   "outputs": [
    {
     "data": {
      "text/plain": [
       "(tensor([[ 1.,  2.,  3.,  4.,  5.],\n",
       "         [ 6.,  7.,  8.,  9., 10.]]),\n",
       " torch.Size([2, 5]))"
      ]
     },
     "execution_count": 142,
     "metadata": {},
     "output_type": "execute_result"
    }
   ],
   "source": [
    "x_1_reshaped = x_1.reshape(2,5)\n",
    "x_1_reshaped, x_1_reshaped.shape    "
   ]
  },
  {
   "cell_type": "code",
   "execution_count": 143,
   "metadata": {},
   "outputs": [
    {
     "data": {
      "text/plain": [
       "(tensor([[1., 2., 3., 4., 5., 6., 7., 8., 9.]]), torch.Size([1, 9]))"
      ]
     },
     "execution_count": 143,
     "metadata": {},
     "output_type": "execute_result"
    }
   ],
   "source": [
    "# Change the view\n",
    "z = x.view(1,9)\n",
    "z, z.shape"
   ]
  },
  {
   "cell_type": "code",
   "execution_count": 144,
   "metadata": {},
   "outputs": [
    {
     "data": {
      "text/plain": [
       "(tensor([[5., 2., 3., 4., 5., 6., 7., 8., 9.]]),\n",
       " tensor([5., 2., 3., 4., 5., 6., 7., 8., 9.]))"
      ]
     },
     "execution_count": 144,
     "metadata": {},
     "output_type": "execute_result"
    }
   ],
   "source": [
    "# Changing z change x (because a view of a tensor shares the same memory as the original)\n",
    "z[:,0]=5\n",
    "z,x"
   ]
  },
  {
   "cell_type": "code",
   "execution_count": 145,
   "metadata": {},
   "outputs": [
    {
     "data": {
      "text/plain": [
       "tensor([[5., 2., 3., 4., 5., 6., 7., 8., 9.],\n",
       "        [5., 2., 3., 4., 5., 6., 7., 8., 9.],\n",
       "        [5., 2., 3., 4., 5., 6., 7., 8., 9.],\n",
       "        [5., 2., 3., 4., 5., 6., 7., 8., 9.]])"
      ]
     },
     "execution_count": 145,
     "metadata": {},
     "output_type": "execute_result"
    }
   ],
   "source": [
    "# Stack tensors on top of each other\n",
    "x_stacked = torch.stack([x,x,x,x], dim=0)\n",
    "x_stacked"
   ]
  },
  {
   "cell_type": "code",
   "execution_count": 146,
   "metadata": {},
   "outputs": [
    {
     "data": {
      "text/plain": [
       "tensor([[5., 5., 5., 5.],\n",
       "        [2., 2., 2., 2.],\n",
       "        [3., 3., 3., 3.],\n",
       "        [4., 4., 4., 4.],\n",
       "        [5., 5., 5., 5.],\n",
       "        [6., 6., 6., 6.],\n",
       "        [7., 7., 7., 7.],\n",
       "        [8., 8., 8., 8.],\n",
       "        [9., 9., 9., 9.]])"
      ]
     },
     "execution_count": 146,
     "metadata": {},
     "output_type": "execute_result"
    }
   ],
   "source": [
    "x_stacked = torch.stack([x,x,x,x], dim=1)\n",
    "x_stacked"
   ]
  },
  {
   "cell_type": "code",
   "execution_count": 147,
   "metadata": {},
   "outputs": [
    {
     "name": "stdout",
     "output_type": "stream",
     "text": [
      "ERROR OCCURRED:Dimension out of range (expected to be in range of [-2, 1], but got 2)\n"
     ]
    }
   ],
   "source": [
    "try:\n",
    "    x_stacked = torch.stack([x,x,x,x], dim=2)\n",
    "    x_stacked\n",
    "except IndexError as e:\n",
    "    print(f'ERROR OCCURRED:{e}')"
   ]
  },
  {
   "cell_type": "code",
   "execution_count": 148,
   "metadata": {},
   "outputs": [
    {
     "name": "stdout",
     "output_type": "stream",
     "text": [
      "Previous tensor : tensor([[5., 2., 3., 4., 5., 6., 7., 8., 9.]])\n",
      "Previous shape : torch.Size([1, 9])\n",
      "\n",
      "New shape : tensor([5., 2., 3., 4., 5., 6., 7., 8., 9.])\n",
      "New shape : torch.Size([9])\n"
     ]
    }
   ],
   "source": [
    "# torch.squeeze() - remove all single dimensions from a target tensor\n",
    "print(f'Previous tensor : {x_reshaped}')\n",
    "print(f'Previous shape : {x_reshaped.shape}')\n",
    "\n",
    "# Remove extra dimension from x_reshaped\n",
    "x_squeezed = x_reshaped.squeeze()\n",
    "print(f'\\nNew shape : {x_squeezed}')\n",
    "print(f'New shape : {x_squeezed.shape}')\n"
   ]
  },
  {
   "cell_type": "code",
   "execution_count": 149,
   "metadata": {},
   "outputs": [
    {
     "name": "stdout",
     "output_type": "stream",
     "text": [
      "Previous tensor : tensor([5., 2., 3., 4., 5., 6., 7., 8., 9.])\n",
      "Previous shape : torch.Size([9])\n",
      "\n",
      "New shape : tensor([[5.],\n",
      "        [2.],\n",
      "        [3.],\n",
      "        [4.],\n",
      "        [5.],\n",
      "        [6.],\n",
      "        [7.],\n",
      "        [8.],\n",
      "        [9.]])\n",
      "New shape : torch.Size([9, 1])\n",
      "\n",
      "New shape : tensor([[5., 2., 3., 4., 5., 6., 7., 8., 9.]])\n",
      "New shape : torch.Size([1, 9])\n"
     ]
    }
   ],
   "source": [
    "# torch.unsqueeze() - adds a single dimension to a target tensor at a specific dim (dimension)\n",
    "print(f'Previous tensor : {x_squeezed}')\n",
    "print(f'Previous shape : {x_squeezed.shape}')\n",
    "\n",
    "# Add an extra dimension from x_reshaped\n",
    "x_unsqueezed = x_squeezed.unsqueeze(dim=1)\n",
    "print(f'\\nNew shape : {x_unsqueezed}')\n",
    "print(f'New shape : {x_unsqueezed.shape}')\n",
    "\n",
    "x_unsqueezed = x_squeezed.unsqueeze(dim=0)\n",
    "print(f'\\nNew shape : {x_unsqueezed}')\n",
    "print(f'New shape : {x_unsqueezed.shape}')"
   ]
  },
  {
   "cell_type": "code",
   "execution_count": 150,
   "metadata": {},
   "outputs": [
    {
     "name": "stdout",
     "output_type": "stream",
     "text": [
      "Previous shape:torch.Size([224, 224, 3])\n",
      "New      shape:torch.Size([3, 224, 224])\n"
     ]
    }
   ],
   "source": [
    "# torch.permute - rearrange the dimension of a target tensor\n",
    "x_original = torch.rand(size=(224,224,3)) # [height, width, color_channels]\n",
    "\n",
    "# Permute the original tensor to rearrange the axis (or dim) order\n",
    "x_permuted = x_original.permute(2,0,1) # shift axis(or index) 0->1, 1->2, 2->0\n",
    "\n",
    "print(f'Previous shape:{x_original.shape}')\n",
    "print(f'New      shape:{x_permuted.shape}')"
   ]
  },
  {
   "cell_type": "markdown",
   "metadata": {},
   "source": [
    "### 1.10 Indexing (selecting data from tensors)\n",
    "indexing with Pytorch = Numpy"
   ]
  },
  {
   "cell_type": "code",
   "execution_count": 151,
   "metadata": {},
   "outputs": [
    {
     "data": {
      "text/plain": [
       "(tensor([[[1, 2, 3],\n",
       "          [4, 5, 6],\n",
       "          [7, 8, 9]]]),\n",
       " torch.Size([1, 3, 3]))"
      ]
     },
     "execution_count": 151,
     "metadata": {},
     "output_type": "execute_result"
    }
   ],
   "source": [
    "# Create a tensor\n",
    "x = torch.arange(1,10).reshape(1,3,3) # make 1 box with 3x3 matrix\n",
    "x, x.shape"
   ]
  },
  {
   "cell_type": "code",
   "execution_count": 152,
   "metadata": {},
   "outputs": [
    {
     "data": {
      "text/plain": [
       "tensor([[1, 2, 3],\n",
       "        [4, 5, 6],\n",
       "        [7, 8, 9]])"
      ]
     },
     "execution_count": 152,
     "metadata": {},
     "output_type": "execute_result"
    }
   ],
   "source": [
    "# Index on our tensor\n",
    "x[0]"
   ]
  },
  {
   "cell_type": "code",
   "execution_count": 153,
   "metadata": {},
   "outputs": [
    {
     "data": {
      "text/plain": [
       "(tensor([1, 2, 3]), tensor([1, 2, 3]))"
      ]
     },
     "execution_count": 153,
     "metadata": {},
     "output_type": "execute_result"
    }
   ],
   "source": [
    "# index on the middle bracket (dim=1)\n",
    "x[0][0], x[0,0]"
   ]
  },
  {
   "cell_type": "code",
   "execution_count": 154,
   "metadata": {},
   "outputs": [
    {
     "data": {
      "text/plain": [
       "(tensor(1), tensor(1))"
      ]
     },
     "execution_count": 154,
     "metadata": {},
     "output_type": "execute_result"
    }
   ],
   "source": [
    "# index on the most inner bracket (dim=last)\n",
    "x[0][0][0], x[0,0,0]"
   ]
  },
  {
   "cell_type": "code",
   "execution_count": 155,
   "metadata": {},
   "outputs": [
    {
     "name": "stdout",
     "output_type": "stream",
     "text": [
      "ERROR OCCURRED:index 1 is out of bounds for dimension 0 with size 1\n"
     ]
    },
    {
     "data": {
      "text/plain": [
       "tensor(5)"
      ]
     },
     "execution_count": 155,
     "metadata": {},
     "output_type": "execute_result"
    }
   ],
   "source": [
    "try:\n",
    "    x[1][1][1], x[0][0][2]\n",
    "except IndexError as e:\n",
    "    print(f'ERROR OCCURRED:{e}')\n",
    "\n",
    "x[0][1][1]"
   ]
  },
  {
   "cell_type": "code",
   "execution_count": 156,
   "metadata": {},
   "outputs": [
    {
     "data": {
      "text/plain": [
       "tensor([[1, 2, 3]])"
      ]
     },
     "execution_count": 156,
     "metadata": {},
     "output_type": "execute_result"
    }
   ],
   "source": [
    "# \":\" to select \"all\" of a target dimension\n",
    "x[:,0]"
   ]
  },
  {
   "cell_type": "code",
   "execution_count": 157,
   "metadata": {},
   "outputs": [
    {
     "data": {
      "text/plain": [
       "(tensor([[2, 5, 8]]), tensor([[3, 6, 9]]), tensor([[1, 4, 7]]))"
      ]
     },
     "execution_count": 157,
     "metadata": {},
     "output_type": "execute_result"
    }
   ],
   "source": [
    "# all values of 0th and 1st dimensions but only index 1 and 2nd dimension\n",
    "x[:,:,1],x[:,:,2],x[:,:,0]"
   ]
  },
  {
   "cell_type": "code",
   "execution_count": 158,
   "metadata": {},
   "outputs": [
    {
     "data": {
      "text/plain": [
       "tensor([1, 2, 3])"
      ]
     },
     "execution_count": 158,
     "metadata": {},
     "output_type": "execute_result"
    }
   ],
   "source": [
    "# index 0 and 0th and 1st dimension and all values of 2nd dimension\n",
    "x[0,0,:]"
   ]
  },
  {
   "cell_type": "code",
   "execution_count": null,
   "metadata": {},
   "outputs": [],
   "source": []
  }
 ],
 "metadata": {
  "kernelspec": {
   "display_name": "ai",
   "language": "python",
   "name": "python3"
  },
  "language_info": {
   "codemirror_mode": {
    "name": "ipython",
    "version": 3
   },
   "file_extension": ".py",
   "mimetype": "text/x-python",
   "name": "python",
   "nbconvert_exporter": "python",
   "pygments_lexer": "ipython3",
   "version": "3.11.7"
  }
 },
 "nbformat": 4,
 "nbformat_minor": 2
}
